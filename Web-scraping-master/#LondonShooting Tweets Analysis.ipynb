{
 "cells": [
  {
   "cell_type": "code",
   "execution_count": 1,
   "metadata": {},
   "outputs": [],
   "source": [
    "import numpy as np\n",
    "import pandas as pd\n",
    "\n",
    "pd.set_option('display.max_colwidth', -1)\n",
    "pd.set_option('display.max_columns', None)"
   ]
  },
  {
   "cell_type": "code",
   "execution_count": 2,
   "metadata": {},
   "outputs": [],
   "source": [
    "data=pd.read_csv('LondonShooting.csvTweets.csv')"
   ]
  },
  {
   "cell_type": "code",
   "execution_count": 3,
   "metadata": {},
   "outputs": [
    {
     "data": {
      "text/html": [
       "<div>\n",
       "<style scoped>\n",
       "    .dataframe tbody tr th:only-of-type {\n",
       "        vertical-align: middle;\n",
       "    }\n",
       "\n",
       "    .dataframe tbody tr th {\n",
       "        vertical-align: top;\n",
       "    }\n",
       "\n",
       "    .dataframe thead th {\n",
       "        text-align: right;\n",
       "    }\n",
       "</style>\n",
       "<table border=\"1\" class=\"dataframe\">\n",
       "  <thead>\n",
       "    <tr style=\"text-align: right;\">\n",
       "      <th></th>\n",
       "      <th>ID</th>\n",
       "      <th>datetime</th>\n",
       "      <th>has_media</th>\n",
       "      <th>is_reply</th>\n",
       "      <th>is_retweet</th>\n",
       "      <th>medias</th>\n",
       "      <th>nbr_favorite</th>\n",
       "      <th>nbr_reply</th>\n",
       "      <th>nbr_retweet</th>\n",
       "      <th>text</th>\n",
       "      <th>url</th>\n",
       "      <th>user_id</th>\n",
       "      <th>usernameTweet</th>\n",
       "    </tr>\n",
       "  </thead>\n",
       "  <tbody>\n",
       "    <tr>\n",
       "      <th>0</th>\n",
       "      <td>1200419598169968641</td>\n",
       "      <td>2019-11-29 19:51:49</td>\n",
       "      <td>True</td>\n",
       "      <td>False</td>\n",
       "      <td>False</td>\n",
       "      <td>['https://t.co/i6BeIQVmGN']</td>\n",
       "      <td>3</td>\n",
       "      <td>0</td>\n",
       "      <td>2</td>\n",
       "      <td>London Bridge sealed off after reports of gunfire #London  #Londonshooting ## londonbridge https://www. bbc.co.uk/news/uk-506047 81   …</td>\n",
       "      <td>/pcallaway/status/1200419598169968641</td>\n",
       "      <td>31836472</td>\n",
       "      <td>pcallaway</td>\n",
       "    </tr>\n",
       "    <tr>\n",
       "      <th>1</th>\n",
       "      <td>1200420290628595712</td>\n",
       "      <td>2019-11-29 19:54:34</td>\n",
       "      <td>NaN</td>\n",
       "      <td>False</td>\n",
       "      <td>False</td>\n",
       "      <td>NaN</td>\n",
       "      <td>0</td>\n",
       "      <td>0</td>\n",
       "      <td>0</td>\n",
       "      <td>Be careful #londonshooting</td>\n",
       "      <td>/Kar0l15/status/1200420290628595712</td>\n",
       "      <td>549688749</td>\n",
       "      <td>Kar0l15</td>\n",
       "    </tr>\n",
       "    <tr>\n",
       "      <th>2</th>\n",
       "      <td>1200422174751969285</td>\n",
       "      <td>2019-11-29 20:02:03</td>\n",
       "      <td>NaN</td>\n",
       "      <td>False</td>\n",
       "      <td>False</td>\n",
       "      <td>NaN</td>\n",
       "      <td>1</td>\n",
       "      <td>0</td>\n",
       "      <td>0</td>\n",
       "      <td>Unconfirmed reports of a shooting on london bridge.\\nEmery must have taken his sacking pretty badly #Arsenal  #LDN  #Londonshooting</td>\n",
       "      <td>/weave8/status/1200422174751969285</td>\n",
       "      <td>246241580</td>\n",
       "      <td>weave8</td>\n",
       "    </tr>\n",
       "    <tr>\n",
       "      <th>3</th>\n",
       "      <td>1200422563832385538</td>\n",
       "      <td>2019-11-29 20:03:36</td>\n",
       "      <td>NaN</td>\n",
       "      <td>False</td>\n",
       "      <td>False</td>\n",
       "      <td>NaN</td>\n",
       "      <td>2</td>\n",
       "      <td>0</td>\n",
       "      <td>0</td>\n",
       "      <td>Video of the eyewitness of shooting #LondonBridge  #London  #Londonshooting   https:// twitter.com/PrisonPlanet/s tatus/1200422249204977664   …</td>\n",
       "      <td>/fxtrader20161/status/1200422563832385538</td>\n",
       "      <td>1191486171496550400</td>\n",
       "      <td>fxtrader20161</td>\n",
       "    </tr>\n",
       "    <tr>\n",
       "      <th>4</th>\n",
       "      <td>1200424384864780291</td>\n",
       "      <td>2019-11-29 20:10:50</td>\n",
       "      <td>NaN</td>\n",
       "      <td>False</td>\n",
       "      <td>False</td>\n",
       "      <td>NaN</td>\n",
       "      <td>853</td>\n",
       "      <td>26</td>\n",
       "      <td>99</td>\n",
       "      <td>Just a friendly reminder that this is NOT the London Bridge. This is the TOWER BRIDGE. #LondonShooting   pic.twitter.com/1mGSxfVUMn</td>\n",
       "      <td>/JMThompson95/status/1200424384864780291</td>\n",
       "      <td>298900702</td>\n",
       "      <td>JMThompson95</td>\n",
       "    </tr>\n",
       "  </tbody>\n",
       "</table>\n",
       "</div>"
      ],
      "text/plain": [
       "                    ID             datetime has_media  is_reply  is_retweet  \\\n",
       "0  1200419598169968641  2019-11-29 19:51:49  True      False     False        \n",
       "1  1200420290628595712  2019-11-29 19:54:34  NaN       False     False        \n",
       "2  1200422174751969285  2019-11-29 20:02:03  NaN       False     False        \n",
       "3  1200422563832385538  2019-11-29 20:03:36  NaN       False     False        \n",
       "4  1200424384864780291  2019-11-29 20:10:50  NaN       False     False        \n",
       "\n",
       "                        medias  nbr_favorite  nbr_reply  nbr_retweet  \\\n",
       "0  ['https://t.co/i6BeIQVmGN']  3             0          2             \n",
       "1  NaN                          0             0          0             \n",
       "2  NaN                          1             0          0             \n",
       "3  NaN                          2             0          0             \n",
       "4  NaN                          853           26         99            \n",
       "\n",
       "                                                                                                                                              text  \\\n",
       "0  London Bridge sealed off after reports of gunfire #London  #Londonshooting ## londonbridge https://www. bbc.co.uk/news/uk-506047 81   …           \n",
       "1  Be careful #londonshooting                                                                                                                        \n",
       "2  Unconfirmed reports of a shooting on london bridge.\\nEmery must have taken his sacking pretty badly #Arsenal  #LDN  #Londonshooting               \n",
       "3  Video of the eyewitness of shooting #LondonBridge  #London  #Londonshooting   https:// twitter.com/PrisonPlanet/s tatus/1200422249204977664   …   \n",
       "4  Just a friendly reminder that this is NOT the London Bridge. This is the TOWER BRIDGE. #LondonShooting   pic.twitter.com/1mGSxfVUMn               \n",
       "\n",
       "                                         url              user_id  \\\n",
       "0  /pcallaway/status/1200419598169968641      31836472              \n",
       "1  /Kar0l15/status/1200420290628595712        549688749             \n",
       "2  /weave8/status/1200422174751969285         246241580             \n",
       "3  /fxtrader20161/status/1200422563832385538  1191486171496550400   \n",
       "4  /JMThompson95/status/1200424384864780291   298900702             \n",
       "\n",
       "   usernameTweet  \n",
       "0  pcallaway      \n",
       "1  Kar0l15        \n",
       "2  weave8         \n",
       "3  fxtrader20161  \n",
       "4  JMThompson95   "
      ]
     },
     "execution_count": 3,
     "metadata": {},
     "output_type": "execute_result"
    }
   ],
   "source": [
    "data.head()"
   ]
  },
  {
   "cell_type": "code",
   "execution_count": 4,
   "metadata": {},
   "outputs": [
    {
     "name": "stdout",
     "output_type": "stream",
     "text": [
      "<class 'pandas.core.frame.DataFrame'>\n",
      "RangeIndex: 5254 entries, 0 to 5253\n",
      "Data columns (total 13 columns):\n",
      "ID               5254 non-null int64\n",
      "datetime         5254 non-null object\n",
      "has_media        455 non-null object\n",
      "is_reply         5254 non-null bool\n",
      "is_retweet       5254 non-null bool\n",
      "medias           455 non-null object\n",
      "nbr_favorite     5254 non-null int64\n",
      "nbr_reply        5254 non-null int64\n",
      "nbr_retweet      5254 non-null int64\n",
      "text             5254 non-null object\n",
      "url              5254 non-null object\n",
      "user_id          5254 non-null int64\n",
      "usernameTweet    5254 non-null object\n",
      "dtypes: bool(2), int64(5), object(6)\n",
      "memory usage: 461.9+ KB\n"
     ]
    }
   ],
   "source": [
    "data.info()"
   ]
  },
  {
   "cell_type": "markdown",
   "metadata": {},
   "source": [
    "There are totally 5254 tweets in the data frame"
   ]
  },
  {
   "cell_type": "markdown",
   "metadata": {},
   "source": [
    "For our analysis, the columns has_media, is_reply, is_retweet, medias, url, user_id and usernameTweet are not required"
   ]
  },
  {
   "cell_type": "code",
   "execution_count": 5,
   "metadata": {},
   "outputs": [],
   "source": [
    "tweet=data.copy() # creating a copy of the original dataframe"
   ]
  },
  {
   "cell_type": "code",
   "execution_count": 6,
   "metadata": {},
   "outputs": [],
   "source": [
    "tweet=tweet.drop(columns=['ID','has_media', 'is_reply', 'is_retweet', 'medias', 'url', 'user_id','usernameTweet'])"
   ]
  },
  {
   "cell_type": "code",
   "execution_count": 7,
   "metadata": {},
   "outputs": [
    {
     "data": {
      "text/html": [
       "<div>\n",
       "<style scoped>\n",
       "    .dataframe tbody tr th:only-of-type {\n",
       "        vertical-align: middle;\n",
       "    }\n",
       "\n",
       "    .dataframe tbody tr th {\n",
       "        vertical-align: top;\n",
       "    }\n",
       "\n",
       "    .dataframe thead th {\n",
       "        text-align: right;\n",
       "    }\n",
       "</style>\n",
       "<table border=\"1\" class=\"dataframe\">\n",
       "  <thead>\n",
       "    <tr style=\"text-align: right;\">\n",
       "      <th></th>\n",
       "      <th>datetime</th>\n",
       "      <th>nbr_favorite</th>\n",
       "      <th>nbr_reply</th>\n",
       "      <th>nbr_retweet</th>\n",
       "      <th>text</th>\n",
       "    </tr>\n",
       "  </thead>\n",
       "  <tbody>\n",
       "    <tr>\n",
       "      <th>5173</th>\n",
       "      <td>2019-12-02 01:33:02</td>\n",
       "      <td>2</td>\n",
       "      <td>2</td>\n",
       "      <td>1</td>\n",
       "      <td>Guess who lies! #MSM  Guess who controls and made up ISIS? #Jesuits  and USA incorporated! Made up bs. Plus he didn't die. #FalseFlag  world. It's a stage! The people are the audience. #LondonShooting  hoax!  https:// twitter.com/DailyMirror/st atus/1200816533758451717   …</td>\n",
       "    </tr>\n",
       "    <tr>\n",
       "      <th>3999</th>\n",
       "      <td>2019-11-30 07:48:35</td>\n",
       "      <td>0</td>\n",
       "      <td>0</td>\n",
       "      <td>0</td>\n",
       "      <td>We release convicted rapists on bail . England releases convicted terrorists on bail  https:// trib.al/OllIHjz    #RIPPriyankaReddy  #LondonShooting  #LondonBridge</td>\n",
       "    </tr>\n",
       "    <tr>\n",
       "      <th>3366</th>\n",
       "      <td>2019-11-30 04:23:08</td>\n",
       "      <td>0</td>\n",
       "      <td>0</td>\n",
       "      <td>0</td>\n",
       "      <td>Released on tag for terror offences.  The government needs to be sued the fuck out of.   #LondonShooting</td>\n",
       "    </tr>\n",
       "    <tr>\n",
       "      <th>1182</th>\n",
       "      <td>2019-11-29 22:36:16</td>\n",
       "      <td>0</td>\n",
       "      <td>3</td>\n",
       "      <td>0</td>\n",
       "      <td>If you want more incidents like #LondonShooting  then #VoteConservative  their cuts and foreign policies have created this.  #LondonBridge  #LondonBridgeAttack  #ToryCutsKill  #GE2019 \\n #GetTheToriesOut</td>\n",
       "    </tr>\n",
       "    <tr>\n",
       "      <th>2237</th>\n",
       "      <td>2019-11-30 01:00:55</td>\n",
       "      <td>1</td>\n",
       "      <td>0</td>\n",
       "      <td>0</td>\n",
       "      <td>This is terrible. My thoughts go to the families of the victims. It is the second time a terrorist attack has occured right before a general election. #LondonShooting   https:// twitter.com/BBCBreaking/st atus/1200479768807907330   …</td>\n",
       "    </tr>\n",
       "  </tbody>\n",
       "</table>\n",
       "</div>"
      ],
      "text/plain": [
       "                 datetime  nbr_favorite  nbr_reply  nbr_retweet  \\\n",
       "5173  2019-12-02 01:33:02  2             2          1             \n",
       "3999  2019-11-30 07:48:35  0             0          0             \n",
       "3366  2019-11-30 04:23:08  0             0          0             \n",
       "1182  2019-11-29 22:36:16  0             3          0             \n",
       "2237  2019-11-30 01:00:55  1             0          0             \n",
       "\n",
       "                                                                                                                                                                                                                                                                                   text  \n",
       "5173  Guess who lies! #MSM  Guess who controls and made up ISIS? #Jesuits  and USA incorporated! Made up bs. Plus he didn't die. #FalseFlag  world. It's a stage! The people are the audience. #LondonShooting  hoax!  https:// twitter.com/DailyMirror/st atus/1200816533758451717   …  \n",
       "3999  We release convicted rapists on bail . England releases convicted terrorists on bail  https:// trib.al/OllIHjz    #RIPPriyankaReddy  #LondonShooting  #LondonBridge                                                                                                                \n",
       "3366  Released on tag for terror offences.  The government needs to be sued the fuck out of.   #LondonShooting                                                                                                                                                                           \n",
       "1182  If you want more incidents like #LondonShooting  then #VoteConservative  their cuts and foreign policies have created this.  #LondonBridge  #LondonBridgeAttack  #ToryCutsKill  #GE2019 \\n #GetTheToriesOut                                                                        \n",
       "2237  This is terrible. My thoughts go to the families of the victims. It is the second time a terrorist attack has occured right before a general election. #LondonShooting   https:// twitter.com/BBCBreaking/st atus/1200479768807907330   …                                          "
      ]
     },
     "execution_count": 7,
     "metadata": {},
     "output_type": "execute_result"
    }
   ],
   "source": [
    "tweet.sample(5)"
   ]
  },
  {
   "cell_type": "code",
   "execution_count": 8,
   "metadata": {},
   "outputs": [
    {
     "name": "stdout",
     "output_type": "stream",
     "text": [
      "<class 'pandas.core.frame.DataFrame'>\n",
      "RangeIndex: 5254 entries, 0 to 5253\n",
      "Data columns (total 5 columns):\n",
      "datetime        5254 non-null object\n",
      "nbr_favorite    5254 non-null int64\n",
      "nbr_reply       5254 non-null int64\n",
      "nbr_retweet     5254 non-null int64\n",
      "text            5254 non-null object\n",
      "dtypes: int64(3), object(2)\n",
      "memory usage: 205.3+ KB\n"
     ]
    }
   ],
   "source": [
    "tweet.info()"
   ]
  },
  {
   "cell_type": "code",
   "execution_count": 9,
   "metadata": {},
   "outputs": [],
   "source": [
    "import re\n",
    "import string"
   ]
  },
  {
   "cell_type": "markdown",
   "metadata": {},
   "source": [
    "Let us remove the urls and user mentions (@..)"
   ]
  },
  {
   "cell_type": "code",
   "execution_count": 10,
   "metadata": {},
   "outputs": [
    {
     "data": {
      "text/html": [
       "<div>\n",
       "<style scoped>\n",
       "    .dataframe tbody tr th:only-of-type {\n",
       "        vertical-align: middle;\n",
       "    }\n",
       "\n",
       "    .dataframe tbody tr th {\n",
       "        vertical-align: top;\n",
       "    }\n",
       "\n",
       "    .dataframe thead th {\n",
       "        text-align: right;\n",
       "    }\n",
       "</style>\n",
       "<table border=\"1\" class=\"dataframe\">\n",
       "  <thead>\n",
       "    <tr style=\"text-align: right;\">\n",
       "      <th></th>\n",
       "      <th>datetime</th>\n",
       "      <th>nbr_favorite</th>\n",
       "      <th>nbr_reply</th>\n",
       "      <th>nbr_retweet</th>\n",
       "      <th>text</th>\n",
       "    </tr>\n",
       "  </thead>\n",
       "  <tbody>\n",
       "    <tr>\n",
       "      <th>2763</th>\n",
       "      <td>2019-11-30 02:28:11</td>\n",
       "      <td>3</td>\n",
       "      <td>0</td>\n",
       "      <td>0</td>\n",
       "      <td>Would you have given him a big cuddle, stroked his hair, praised him and said “everything is going to be ok, Jeremy and Diane are coming to help us”   #snowflake  #LondonShooting  #Terrorist  #terrorattack  #LondonBridge</td>\n",
       "    </tr>\n",
       "    <tr>\n",
       "      <th>2364</th>\n",
       "      <td>2019-11-30 01:22:36</td>\n",
       "      <td>32</td>\n",
       "      <td>3</td>\n",
       "      <td>0</td>\n",
       "      <td>Was caught up in the London Bridge incident today and want to say thank you to all at the Bridge Tap in Borough High Street for being brilliant and looking after us all   #LondonShooting</td>\n",
       "    </tr>\n",
       "    <tr>\n",
       "      <th>3346</th>\n",
       "      <td>2019-11-30 04:21:23</td>\n",
       "      <td>3</td>\n",
       "      <td>0</td>\n",
       "      <td>0</td>\n",
       "      <td>They need to stop letting psychos out of jail early ffs.\\nClearly it's a tragedy what happened today but the negligence just gets me angry.\\n#LondonShooting</td>\n",
       "    </tr>\n",
       "    <tr>\n",
       "      <th>3796</th>\n",
       "      <td>2019-11-30 06:00:13</td>\n",
       "      <td>6</td>\n",
       "      <td>0</td>\n",
       "      <td>6</td>\n",
       "      <td>Once again the abject failure of the British response to the jihad terror threat is illustrated, but nothing will change.  \\n\\nPoliticians will issue the usual vows to crush terrorism.  \\n\\n#LondonBridge  #LondonShooting  \\n#LondonBridgeAttack https:// wp.me/p4hgqZ-LzK</td>\n",
       "    </tr>\n",
       "    <tr>\n",
       "      <th>4796</th>\n",
       "      <td>2019-11-30 17:33:56</td>\n",
       "      <td>0</td>\n",
       "      <td>0</td>\n",
       "      <td>0</td>\n",
       "      <td># uk  #brexit  #LondonBridge  #LondonBridgeAttack  #londonterrorattack  #LondonShooting   PAYPAL BLOCK 'FOR BRITAIN' PARTY SUBSCRIPTIONS- THEY MUST BE WORRIED ABOUT THE TRUTH Don't let Silicon Valley determine our future  https:// youtu.be/_GjqIuAzuig</td>\n",
       "    </tr>\n",
       "  </tbody>\n",
       "</table>\n",
       "</div>"
      ],
      "text/plain": [
       "                 datetime  nbr_favorite  nbr_reply  nbr_retweet  \\\n",
       "2763  2019-11-30 02:28:11  3             0          0             \n",
       "2364  2019-11-30 01:22:36  32            3          0             \n",
       "3346  2019-11-30 04:21:23  3             0          0             \n",
       "3796  2019-11-30 06:00:13  6             0          6             \n",
       "4796  2019-11-30 17:33:56  0             0          0             \n",
       "\n",
       "                                                                                                                                                                                                                                                                                 text  \n",
       "2763  Would you have given him a big cuddle, stroked his hair, praised him and said “everything is going to be ok, Jeremy and Diane are coming to help us”   #snowflake  #LondonShooting  #Terrorist  #terrorattack  #LondonBridge                                                     \n",
       "2364  Was caught up in the London Bridge incident today and want to say thank you to all at the Bridge Tap in Borough High Street for being brilliant and looking after us all   #LondonShooting                                                                                       \n",
       "3346  They need to stop letting psychos out of jail early ffs.\\nClearly it's a tragedy what happened today but the negligence just gets me angry.\\n#LondonShooting                                                                                                                     \n",
       "3796  Once again the abject failure of the British response to the jihad terror threat is illustrated, but nothing will change.  \\n\\nPoliticians will issue the usual vows to crush terrorism.  \\n\\n#LondonBridge  #LondonShooting  \\n#LondonBridgeAttack https:// wp.me/p4hgqZ-LzK    \n",
       "4796  # uk  #brexit  #LondonBridge  #LondonBridgeAttack  #londonterrorattack  #LondonShooting   PAYPAL BLOCK 'FOR BRITAIN' PARTY SUBSCRIPTIONS- THEY MUST BE WORRIED ABOUT THE TRUTH Don't let Silicon Valley determine our future  https:// youtu.be/_GjqIuAzuig                      "
      ]
     },
     "execution_count": 10,
     "metadata": {},
     "output_type": "execute_result"
    }
   ],
   "source": [
    "tweet.sample(5)"
   ]
  },
  {
   "cell_type": "markdown",
   "metadata": {},
   "source": [
    "### Cleaning"
   ]
  },
  {
   "cell_type": "markdown",
   "metadata": {},
   "source": [
    "Defining a function to remove unwanted characters"
   ]
  },
  {
   "cell_type": "code",
   "execution_count": 11,
   "metadata": {},
   "outputs": [],
   "source": [
    "def clean_text(text):\n",
    "    text=text.replace('\\n','') # remove '\\n' characters\n",
    "    text=re.sub(r'https?:\\/\\/.*[\\r\\n]*', '', text) # remove urls\n",
    "    text=re.sub(\"@\\s*\\S+\",\"\",text) # remove user mentions\n",
    "    text_cleaned=re.sub(\"pic.\\S+\",\"\",text) # remove other links\n",
    "    \n",
    "    return text_cleaned"
   ]
  },
  {
   "cell_type": "code",
   "execution_count": 12,
   "metadata": {},
   "outputs": [],
   "source": [
    "tweet['cleaned_tweet']=tweet['text'].apply(lambda x:clean_text(x))"
   ]
  },
  {
   "cell_type": "code",
   "execution_count": 13,
   "metadata": {},
   "outputs": [
    {
     "data": {
      "text/html": [
       "<div>\n",
       "<style scoped>\n",
       "    .dataframe tbody tr th:only-of-type {\n",
       "        vertical-align: middle;\n",
       "    }\n",
       "\n",
       "    .dataframe tbody tr th {\n",
       "        vertical-align: top;\n",
       "    }\n",
       "\n",
       "    .dataframe thead th {\n",
       "        text-align: right;\n",
       "    }\n",
       "</style>\n",
       "<table border=\"1\" class=\"dataframe\">\n",
       "  <thead>\n",
       "    <tr style=\"text-align: right;\">\n",
       "      <th></th>\n",
       "      <th>datetime</th>\n",
       "      <th>nbr_favorite</th>\n",
       "      <th>nbr_reply</th>\n",
       "      <th>nbr_retweet</th>\n",
       "      <th>text</th>\n",
       "      <th>cleaned_tweet</th>\n",
       "    </tr>\n",
       "  </thead>\n",
       "  <tbody>\n",
       "    <tr>\n",
       "      <th>236</th>\n",
       "      <td>2019-11-29 21:27:04</td>\n",
       "      <td>0</td>\n",
       "      <td>0</td>\n",
       "      <td>0</td>\n",
       "      <td># LondonShooting  thank you to everyone in the police for keeping us safe</td>\n",
       "      <td># LondonShooting  thank you to everyone in the police for keeping us safe</td>\n",
       "    </tr>\n",
       "    <tr>\n",
       "      <th>863</th>\n",
       "      <td>2019-11-29 22:04:19</td>\n",
       "      <td>1</td>\n",
       "      <td>1</td>\n",
       "      <td>0</td>\n",
       "      <td>Jeremy Corbyn reportedly enroute to London Bridge, flowers in hand, ready for some dialogue #LondonShooting</td>\n",
       "      <td>Jeremy Corbyn reportedly enroute to London Bridge, flowers in hand, ready for some dialogue #LondonShooting</td>\n",
       "    </tr>\n",
       "    <tr>\n",
       "      <th>4710</th>\n",
       "      <td>2019-11-30 16:00:17</td>\n",
       "      <td>1</td>\n",
       "      <td>0</td>\n",
       "      <td>0</td>\n",
       "      <td>I’m proud of Londoners and the quick and efficient police response faced with terrorism in #LondonBridgeAttack  \\nIt is very sad that two innocent people died. \\nLondon is going to continue to be a target to #terrorists , but we are a city of #heroes  \\n\\n#LondonBridge  #LondonShooting   pic.twitter.com/pEdjiFHXhl</td>\n",
       "      <td>I’m proud of Londoners and the quick and efficient police response faced with terrorism in #LondonBridgeAttack  It is very sad that two innocent people died. London is going to continue to be a target to #terrorists , but we are a city of #heroes  #LondonBridge  #LondonShooting</td>\n",
       "    </tr>\n",
       "    <tr>\n",
       "      <th>3245</th>\n",
       "      <td>2019-11-30 04:12:51</td>\n",
       "      <td>0</td>\n",
       "      <td>1</td>\n",
       "      <td>0</td>\n",
       "      <td>Hey Brett. Why don’t you look at other videos before making accusations  idiot #LondonShooting   pic.twitter.com/6PWMB7aeBT</td>\n",
       "      <td>Hey Brett. Why don’t you look at other videos before making accusations  idiot #LondonShooting</td>\n",
       "    </tr>\n",
       "    <tr>\n",
       "      <th>2933</th>\n",
       "      <td>2019-11-30 03:07:01</td>\n",
       "      <td>2</td>\n",
       "      <td>0</td>\n",
       "      <td>0</td>\n",
       "      <td>so public detain #LondonShooting  attacker, disarm him, then cops show up &amp; shoot him multiple times cordon off area &amp; detain the people who arrested him so they cant make a statement\\nimagine if that happened to a Uyghur jihadist in china.\\nthey'd be talking about another holocaust</td>\n",
       "      <td>so public detain #LondonShooting  attacker, disarm him, then cops show up &amp; shoot him multiple times cordon off area &amp; detain the people who arrested him so they cant make a statementimagine if that happened to a Uyghur jihadist in china.they'd be talking about another holocaust</td>\n",
       "    </tr>\n",
       "  </tbody>\n",
       "</table>\n",
       "</div>"
      ],
      "text/plain": [
       "                 datetime  nbr_favorite  nbr_reply  nbr_retweet  \\\n",
       "236   2019-11-29 21:27:04  0             0          0             \n",
       "863   2019-11-29 22:04:19  1             1          0             \n",
       "4710  2019-11-30 16:00:17  1             0          0             \n",
       "3245  2019-11-30 04:12:51  0             1          0             \n",
       "2933  2019-11-30 03:07:01  2             0          0             \n",
       "\n",
       "                                                                                                                                                                                                                                                                                                                             text  \\\n",
       "236   # LondonShooting  thank you to everyone in the police for keeping us safe                                                                                                                                                                                                                                                     \n",
       "863   Jeremy Corbyn reportedly enroute to London Bridge, flowers in hand, ready for some dialogue #LondonShooting                                                                                                                                                                                                                   \n",
       "4710  I’m proud of Londoners and the quick and efficient police response faced with terrorism in #LondonBridgeAttack  \\nIt is very sad that two innocent people died. \\nLondon is going to continue to be a target to #terrorists , but we are a city of #heroes  \\n\\n#LondonBridge  #LondonShooting   pic.twitter.com/pEdjiFHXhl   \n",
       "3245  Hey Brett. Why don’t you look at other videos before making accusations  idiot #LondonShooting   pic.twitter.com/6PWMB7aeBT                                                                                                                                                                                                   \n",
       "2933  so public detain #LondonShooting  attacker, disarm him, then cops show up & shoot him multiple times cordon off area & detain the people who arrested him so they cant make a statement\\nimagine if that happened to a Uyghur jihadist in china.\\nthey'd be talking about another holocaust                                   \n",
       "\n",
       "                                                                                                                                                                                                                                                                                  cleaned_tweet  \n",
       "236   # LondonShooting  thank you to everyone in the police for keeping us safe                                                                                                                                                                                                                  \n",
       "863   Jeremy Corbyn reportedly enroute to London Bridge, flowers in hand, ready for some dialogue #LondonShooting                                                                                                                                                                                \n",
       "4710  I’m proud of Londoners and the quick and efficient police response faced with terrorism in #LondonBridgeAttack  It is very sad that two innocent people died. London is going to continue to be a target to #terrorists , but we are a city of #heroes  #LondonBridge  #LondonShooting     \n",
       "3245  Hey Brett. Why don’t you look at other videos before making accusations  idiot #LondonShooting                                                                                                                                                                                             \n",
       "2933  so public detain #LondonShooting  attacker, disarm him, then cops show up & shoot him multiple times cordon off area & detain the people who arrested him so they cant make a statementimagine if that happened to a Uyghur jihadist in china.they'd be talking about another holocaust    "
      ]
     },
     "execution_count": 13,
     "metadata": {},
     "output_type": "execute_result"
    }
   ],
   "source": [
    "tweet.sample(5)"
   ]
  },
  {
   "cell_type": "markdown",
   "metadata": {},
   "source": [
    "Defining a function to extract all the hashtags from the cleaned text"
   ]
  },
  {
   "cell_type": "code",
   "execution_count": 14,
   "metadata": {},
   "outputs": [],
   "source": [
    "def extract_hashtags(text):\n",
    "    tags=\" \".join(re.findall('#\\s*\\S+',text)) # to find all hashtags\n",
    "    return tags"
   ]
  },
  {
   "cell_type": "code",
   "execution_count": 15,
   "metadata": {},
   "outputs": [],
   "source": [
    "tweet['hashtags']=tweet['cleaned_tweet'].apply(lambda x:extract_hashtags(x)) # storing the extracted hashtags in a new column"
   ]
  },
  {
   "cell_type": "code",
   "execution_count": 16,
   "metadata": {},
   "outputs": [
    {
     "data": {
      "text/html": [
       "<div>\n",
       "<style scoped>\n",
       "    .dataframe tbody tr th:only-of-type {\n",
       "        vertical-align: middle;\n",
       "    }\n",
       "\n",
       "    .dataframe tbody tr th {\n",
       "        vertical-align: top;\n",
       "    }\n",
       "\n",
       "    .dataframe thead th {\n",
       "        text-align: right;\n",
       "    }\n",
       "</style>\n",
       "<table border=\"1\" class=\"dataframe\">\n",
       "  <thead>\n",
       "    <tr style=\"text-align: right;\">\n",
       "      <th></th>\n",
       "      <th>datetime</th>\n",
       "      <th>nbr_favorite</th>\n",
       "      <th>nbr_reply</th>\n",
       "      <th>nbr_retweet</th>\n",
       "      <th>text</th>\n",
       "      <th>cleaned_tweet</th>\n",
       "      <th>hashtags</th>\n",
       "    </tr>\n",
       "  </thead>\n",
       "  <tbody>\n",
       "    <tr>\n",
       "      <th>3505</th>\n",
       "      <td>2019-11-30 04:41:37</td>\n",
       "      <td>0</td>\n",
       "      <td>0</td>\n",
       "      <td>0</td>\n",
       "      <td>Some incredibly brave people in London today. #LondonShooting</td>\n",
       "      <td>Some incredibly brave people in London today. #LondonShooting</td>\n",
       "      <td>#LondonShooting</td>\n",
       "    </tr>\n",
       "    <tr>\n",
       "      <th>3764</th>\n",
       "      <td>2019-11-30 05:47:09</td>\n",
       "      <td>0</td>\n",
       "      <td>0</td>\n",
       "      <td>0</td>\n",
       "      <td>Whos the fucktard who did this on our motor whilst we was inside a boozer in stoke performing #LondonBridge  #LondonShooting  #BlackFriday2019  #BlackFridayFights  #toyshow  #BBCelectiondebate pic.twitter.com/DY45x9PeS4</td>\n",
       "      <td>Whos the fucktard who did this on our motor whilst we was inside a boozer in stoke performing #LondonBridge  #LondonShooting  #BlackFriday2019  #BlackFridayFights  #toyshow  #BBCelectiondebate</td>\n",
       "      <td>#LondonBridge #LondonShooting #BlackFriday2019 #BlackFridayFights #toyshow #BBCelectiondebate</td>\n",
       "    </tr>\n",
       "    <tr>\n",
       "      <th>1331</th>\n",
       "      <td>2019-11-29 22:46:07</td>\n",
       "      <td>4</td>\n",
       "      <td>1</td>\n",
       "      <td>0</td>\n",
       "      <td>The media have pumped so much hatred towards Corbyn, &amp; by extension Labour, that this was this guy's immediate reaction.\\n\\nDidn't think of potential victims, thought about how Corbyn is a 'cunt of a man'. This country deserves better.\\n\\n#bbcimpartiality  #LondonShooting  #UKPolitics</td>\n",
       "      <td>The media have pumped so much hatred towards Corbyn, &amp; by extension Labour, that this was this guy's immediate reaction.Didn't think of potential victims, thought about how Corbyn is a 'cunt of a man'. This country deserves better.#bbcimpartiality  #LondonShooting  #UKPolitics</td>\n",
       "      <td>#bbcimpartiality #LondonShooting #UKPolitics</td>\n",
       "    </tr>\n",
       "    <tr>\n",
       "      <th>2967</th>\n",
       "      <td>2019-11-30 03:15:43</td>\n",
       "      <td>42</td>\n",
       "      <td>4</td>\n",
       "      <td>20</td>\n",
       "      <td>It's days like today that remind me how much less safe we would be under a Corbyn-led government.\\n\\n#LondonShooting  #LondonBridgeAttack https://www. bbc.co.uk/news/uk-politi cs-34832023   …</td>\n",
       "      <td>It's days like today that remind me how much less safe we would be under a Corbyn-led government.#LondonShooting  #LondonBridgeAttack</td>\n",
       "      <td>#LondonShooting #LondonBridgeAttack</td>\n",
       "    </tr>\n",
       "    <tr>\n",
       "      <th>3849</th>\n",
       "      <td>2019-11-30 06:22:45</td>\n",
       "      <td>3</td>\n",
       "      <td>2</td>\n",
       "      <td>1</td>\n",
       "      <td>The words Islamic, Islamist and Muslim have not been mentioned once in any news channel today. #LondonBridgeAttack  #LondonBridge  #TerroristAttack  #LondonShooting</td>\n",
       "      <td>The words Islamic, Islamist and Muslim have not been mentioned once in any news channel today. #LondonBridgeAttack  #LondonBridge  #TerroristAttack  #LondonShooting</td>\n",
       "      <td>#LondonBridgeAttack #LondonBridge #TerroristAttack #LondonShooting</td>\n",
       "    </tr>\n",
       "  </tbody>\n",
       "</table>\n",
       "</div>"
      ],
      "text/plain": [
       "                 datetime  nbr_favorite  nbr_reply  nbr_retweet  \\\n",
       "3505  2019-11-30 04:41:37  0             0          0             \n",
       "3764  2019-11-30 05:47:09  0             0          0             \n",
       "1331  2019-11-29 22:46:07  4             1          0             \n",
       "2967  2019-11-30 03:15:43  42            4          20            \n",
       "3849  2019-11-30 06:22:45  3             2          1             \n",
       "\n",
       "                                                                                                                                                                                                                                                                                               text  \\\n",
       "3505  Some incredibly brave people in London today. #LondonShooting                                                                                                                                                                                                                                   \n",
       "3764  Whos the fucktard who did this on our motor whilst we was inside a boozer in stoke performing #LondonBridge  #LondonShooting  #BlackFriday2019  #BlackFridayFights  #toyshow  #BBCelectiondebate pic.twitter.com/DY45x9PeS4                                                                     \n",
       "1331  The media have pumped so much hatred towards Corbyn, & by extension Labour, that this was this guy's immediate reaction.\\n\\nDidn't think of potential victims, thought about how Corbyn is a 'cunt of a man'. This country deserves better.\\n\\n#bbcimpartiality  #LondonShooting  #UKPolitics   \n",
       "2967  It's days like today that remind me how much less safe we would be under a Corbyn-led government.\\n\\n#LondonShooting  #LondonBridgeAttack https://www. bbc.co.uk/news/uk-politi cs-34832023   …                                                                                                 \n",
       "3849  The words Islamic, Islamist and Muslim have not been mentioned once in any news channel today. #LondonBridgeAttack  #LondonBridge  #TerroristAttack  #LondonShooting                                                                                                                            \n",
       "\n",
       "                                                                                                                                                                                                                                                                              cleaned_tweet  \\\n",
       "3505  Some incredibly brave people in London today. #LondonShooting                                                                                                                                                                                                                           \n",
       "3764  Whos the fucktard who did this on our motor whilst we was inside a boozer in stoke performing #LondonBridge  #LondonShooting  #BlackFriday2019  #BlackFridayFights  #toyshow  #BBCelectiondebate                                                                                        \n",
       "1331  The media have pumped so much hatred towards Corbyn, & by extension Labour, that this was this guy's immediate reaction.Didn't think of potential victims, thought about how Corbyn is a 'cunt of a man'. This country deserves better.#bbcimpartiality  #LondonShooting  #UKPolitics   \n",
       "2967  It's days like today that remind me how much less safe we would be under a Corbyn-led government.#LondonShooting  #LondonBridgeAttack                                                                                                                                                   \n",
       "3849  The words Islamic, Islamist and Muslim have not been mentioned once in any news channel today. #LondonBridgeAttack  #LondonBridge  #TerroristAttack  #LondonShooting                                                                                                                    \n",
       "\n",
       "                                                                                           hashtags  \n",
       "3505  #LondonShooting                                                                                \n",
       "3764  #LondonBridge #LondonShooting #BlackFriday2019 #BlackFridayFights #toyshow #BBCelectiondebate  \n",
       "1331  #bbcimpartiality #LondonShooting #UKPolitics                                                   \n",
       "2967  #LondonShooting #LondonBridgeAttack                                                            \n",
       "3849  #LondonBridgeAttack #LondonBridge #TerroristAttack #LondonShooting                             "
      ]
     },
     "execution_count": 16,
     "metadata": {},
     "output_type": "execute_result"
    }
   ],
   "source": [
    "tweet.sample(5)"
   ]
  },
  {
   "cell_type": "code",
   "execution_count": 17,
   "metadata": {},
   "outputs": [],
   "source": [
    "from collections import Counter "
   ]
  },
  {
   "cell_type": "markdown",
   "metadata": {},
   "source": [
    "Defining a function to count the number of hashtags in a text. Applied only to the hashtags column"
   ]
  },
  {
   "cell_type": "code",
   "execution_count": 18,
   "metadata": {},
   "outputs": [],
   "source": [
    "def count_hashtag(text):\n",
    "    count=Counter(text) # gives the number of occurences of each character\n",
    "    return count['#'] # returns only the count of hashtags"
   ]
  },
  {
   "cell_type": "code",
   "execution_count": 19,
   "metadata": {},
   "outputs": [],
   "source": [
    "tweet['nbr_hashtags']=tweet['hashtags'].apply(lambda x:count_hashtag(x))"
   ]
  },
  {
   "cell_type": "code",
   "execution_count": 20,
   "metadata": {},
   "outputs": [
    {
     "data": {
      "text/html": [
       "<div>\n",
       "<style scoped>\n",
       "    .dataframe tbody tr th:only-of-type {\n",
       "        vertical-align: middle;\n",
       "    }\n",
       "\n",
       "    .dataframe tbody tr th {\n",
       "        vertical-align: top;\n",
       "    }\n",
       "\n",
       "    .dataframe thead th {\n",
       "        text-align: right;\n",
       "    }\n",
       "</style>\n",
       "<table border=\"1\" class=\"dataframe\">\n",
       "  <thead>\n",
       "    <tr style=\"text-align: right;\">\n",
       "      <th></th>\n",
       "      <th>datetime</th>\n",
       "      <th>nbr_favorite</th>\n",
       "      <th>nbr_reply</th>\n",
       "      <th>nbr_retweet</th>\n",
       "      <th>text</th>\n",
       "      <th>cleaned_tweet</th>\n",
       "      <th>hashtags</th>\n",
       "      <th>nbr_hashtags</th>\n",
       "    </tr>\n",
       "  </thead>\n",
       "  <tbody>\n",
       "    <tr>\n",
       "      <th>4442</th>\n",
       "      <td>2019-11-30 13:01:59</td>\n",
       "      <td>0</td>\n",
       "      <td>0</td>\n",
       "      <td>0</td>\n",
       "      <td>Children Safety Stair Mesh Net\\nBaby Fall Protection Safety Net\\nDurable Weatherproof Balcony Stairway Railing Safety Net for Kids Pet Toy Banister Safety, Indoor and Outdoor Stairs Balcony or Patios\\n#LondonShooting \\n\\nclick and get a free one： http://www. freegifteasy.top/landing/amazon/   pic.twitter.com/8gCwQWh89e</td>\n",
       "      <td>Children Safety Stair Mesh NetBaby Fall Protection Safety NetDurable Weatherproof Balcony Stairway Railing Safety Net for Kids Pet Toy Banister Safety, Indoor and Outdoor Stairs Balcony or Patios#LondonShooting click and get a free one：</td>\n",
       "      <td>#LondonShooting</td>\n",
       "      <td>1</td>\n",
       "    </tr>\n",
       "    <tr>\n",
       "      <th>1362</th>\n",
       "      <td>2019-11-29 22:48:04</td>\n",
       "      <td>4</td>\n",
       "      <td>0</td>\n",
       "      <td>0</td>\n",
       "      <td>A massive thank you to the armed police who swiftly neutralised that cowardly terrorist! #LondonShooting   #LondonBridge</td>\n",
       "      <td>A massive thank you to the armed police who swiftly neutralised that cowardly terrorist! #LondonShooting   #LondonBridge</td>\n",
       "      <td>#LondonShooting #LondonBridge</td>\n",
       "      <td>2</td>\n",
       "    </tr>\n",
       "    <tr>\n",
       "      <th>717</th>\n",
       "      <td>2019-11-29 21:57:31</td>\n",
       "      <td>0</td>\n",
       "      <td>0</td>\n",
       "      <td>0</td>\n",
       "      <td>Don't #beLIEve  their lies! #GE2019  #LondonShooting  #Fearmongering pic.twitter.com/q9WMmrBhXC</td>\n",
       "      <td>Don't #beLIEve  their lies! #GE2019  #LondonShooting  #Fearmongering</td>\n",
       "      <td>#beLIEve #GE2019 #LondonShooting #Fearmongering</td>\n",
       "      <td>4</td>\n",
       "    </tr>\n",
       "    <tr>\n",
       "      <th>4610</th>\n",
       "      <td>2019-11-30 14:54:14</td>\n",
       "      <td>2</td>\n",
       "      <td>0</td>\n",
       "      <td>0</td>\n",
       "      <td>What do you think should have happened you purple haired idiot? He had a suicide vest on and had just stabbed 5 people, you want to make a cup of tea for him and have a chat about where his life went wrong? #LondonShooting  #LondonBridgeAttack</td>\n",
       "      <td>What do you think should have happened you purple haired idiot? He had a suicide vest on and had just stabbed 5 people, you want to make a cup of tea for him and have a chat about where his life went wrong? #LondonShooting  #LondonBridgeAttack</td>\n",
       "      <td>#LondonShooting #LondonBridgeAttack</td>\n",
       "      <td>2</td>\n",
       "    </tr>\n",
       "    <tr>\n",
       "      <th>653</th>\n",
       "      <td>2019-11-29 21:54:04</td>\n",
       "      <td>4</td>\n",
       "      <td>3</td>\n",
       "      <td>3</td>\n",
       "      <td>WATCH: MET Police hold press conference on London Bridge #LondonShooting   https:// twitter.com/RTUKnews/statu s/1200433750909177856   …</td>\n",
       "      <td>WATCH: MET Police hold press conference on London Bridge #LondonShooting</td>\n",
       "      <td>#LondonShooting</td>\n",
       "      <td>1</td>\n",
       "    </tr>\n",
       "  </tbody>\n",
       "</table>\n",
       "</div>"
      ],
      "text/plain": [
       "                 datetime  nbr_favorite  nbr_reply  nbr_retweet  \\\n",
       "4442  2019-11-30 13:01:59  0             0          0             \n",
       "1362  2019-11-29 22:48:04  4             0          0             \n",
       "717   2019-11-29 21:57:31  0             0          0             \n",
       "4610  2019-11-30 14:54:14  2             0          0             \n",
       "653   2019-11-29 21:54:04  4             3          3             \n",
       "\n",
       "                                                                                                                                                                                                                                                                                                                                  text  \\\n",
       "4442  Children Safety Stair Mesh Net\\nBaby Fall Protection Safety Net\\nDurable Weatherproof Balcony Stairway Railing Safety Net for Kids Pet Toy Banister Safety, Indoor and Outdoor Stairs Balcony or Patios\\n#LondonShooting \\n\\nclick and get a free one： http://www. freegifteasy.top/landing/amazon/   pic.twitter.com/8gCwQWh89e   \n",
       "1362  A massive thank you to the armed police who swiftly neutralised that cowardly terrorist! #LondonShooting   #LondonBridge                                                                                                                                                                                                           \n",
       "717   Don't #beLIEve  their lies! #GE2019  #LondonShooting  #Fearmongering pic.twitter.com/q9WMmrBhXC                                                                                                                                                                                                                                    \n",
       "4610  What do you think should have happened you purple haired idiot? He had a suicide vest on and had just stabbed 5 people, you want to make a cup of tea for him and have a chat about where his life went wrong? #LondonShooting  #LondonBridgeAttack                                                                                \n",
       "653   WATCH: MET Police hold press conference on London Bridge #LondonShooting   https:// twitter.com/RTUKnews/statu s/1200433750909177856   …                                                                                                                                                                                           \n",
       "\n",
       "                                                                                                                                                                                                                                            cleaned_tweet  \\\n",
       "4442  Children Safety Stair Mesh NetBaby Fall Protection Safety NetDurable Weatherproof Balcony Stairway Railing Safety Net for Kids Pet Toy Banister Safety, Indoor and Outdoor Stairs Balcony or Patios#LondonShooting click and get a free one：          \n",
       "1362  A massive thank you to the armed police who swiftly neutralised that cowardly terrorist! #LondonShooting   #LondonBridge                                                                                                                              \n",
       "717   Don't #beLIEve  their lies! #GE2019  #LondonShooting  #Fearmongering                                                                                                                                                                                  \n",
       "4610  What do you think should have happened you purple haired idiot? He had a suicide vest on and had just stabbed 5 people, you want to make a cup of tea for him and have a chat about where his life went wrong? #LondonShooting  #LondonBridgeAttack   \n",
       "653   WATCH: MET Police hold press conference on London Bridge #LondonShooting                                                                                                                                                                              \n",
       "\n",
       "                                             hashtags  nbr_hashtags  \n",
       "4442  #LondonShooting                                  1             \n",
       "1362  #LondonShooting #LondonBridge                    2             \n",
       "717   #beLIEve #GE2019 #LondonShooting #Fearmongering  4             \n",
       "4610  #LondonShooting #LondonBridgeAttack              2             \n",
       "653   #LondonShooting                                  1             "
      ]
     },
     "execution_count": 20,
     "metadata": {},
     "output_type": "execute_result"
    }
   ],
   "source": [
    "tweet.sample(5)"
   ]
  },
  {
   "cell_type": "code",
   "execution_count": 21,
   "metadata": {},
   "outputs": [],
   "source": [
    "import spacy"
   ]
  },
  {
   "cell_type": "code",
   "execution_count": 22,
   "metadata": {},
   "outputs": [],
   "source": [
    "nlp = spacy.load(\"en_core_web_sm\", disable=['parser', 'ner']) #Loads the english model and we dont want parser or ner, so we will disable it"
   ]
  },
  {
   "cell_type": "code",
   "execution_count": 23,
   "metadata": {},
   "outputs": [],
   "source": [
    "stopwords=spacy.lang.en.stop_words.STOP_WORDS"
   ]
  },
  {
   "cell_type": "code",
   "execution_count": 24,
   "metadata": {},
   "outputs": [],
   "source": [
    "def final_clean(text):\n",
    "    #text=re.sub('#\\s*\\S+','',text)\n",
    "    text=re.sub(' +', ' ', text) # remove extra spaces\n",
    "    text=text.strip().lower() # strip spaces and convert to lowercase\n",
    "    document = nlp(text)\n",
    "    doc_cleaned=[token.lemma_ for token in document if (token.text not in stopwords) and token.pos_ not in ['PUNCT','SPACE',\"PRON\",\"NUM\"]] # lemmatisation for words not in the mentioned criteria\n",
    "    doc_cleaned=\" \".join(doc_cleaned)\n",
    "    doc_cleaned=re.sub(' +', ' ', doc_cleaned)\n",
    "\n",
    "    return doc_cleaned"
   ]
  },
  {
   "cell_type": "code",
   "execution_count": 25,
   "metadata": {},
   "outputs": [],
   "source": [
    "tweet['cleaned_tweet']=tweet['cleaned_tweet'].apply(lambda x:re.sub('#\\s*\\S+','',x)) # remove hashtags"
   ]
  },
  {
   "cell_type": "code",
   "execution_count": 26,
   "metadata": {},
   "outputs": [],
   "source": [
    "tweet['final_tweet']=tweet['cleaned_tweet'].apply(lambda x:final_clean(x))"
   ]
  },
  {
   "cell_type": "code",
   "execution_count": 27,
   "metadata": {},
   "outputs": [
    {
     "data": {
      "text/html": [
       "<div>\n",
       "<style scoped>\n",
       "    .dataframe tbody tr th:only-of-type {\n",
       "        vertical-align: middle;\n",
       "    }\n",
       "\n",
       "    .dataframe tbody tr th {\n",
       "        vertical-align: top;\n",
       "    }\n",
       "\n",
       "    .dataframe thead th {\n",
       "        text-align: right;\n",
       "    }\n",
       "</style>\n",
       "<table border=\"1\" class=\"dataframe\">\n",
       "  <thead>\n",
       "    <tr style=\"text-align: right;\">\n",
       "      <th></th>\n",
       "      <th>datetime</th>\n",
       "      <th>nbr_favorite</th>\n",
       "      <th>nbr_reply</th>\n",
       "      <th>nbr_retweet</th>\n",
       "      <th>text</th>\n",
       "      <th>cleaned_tweet</th>\n",
       "      <th>hashtags</th>\n",
       "      <th>nbr_hashtags</th>\n",
       "      <th>final_tweet</th>\n",
       "    </tr>\n",
       "  </thead>\n",
       "  <tbody>\n",
       "    <tr>\n",
       "      <th>68</th>\n",
       "      <td>2019-11-29 21:15:06</td>\n",
       "      <td>2</td>\n",
       "      <td>0</td>\n",
       "      <td>0</td>\n",
       "      <td># LondonShooting  #londonbridge  yep....it’s ALL Corbyn’s fault..... pic.twitter.com/J2wSuf8cvv</td>\n",
       "      <td>yep....it’s ALL Corbyn’s fault.....</td>\n",
       "      <td># LondonShooting #londonbridge</td>\n",
       "      <td>2</td>\n",
       "      <td>yep corbyn fault</td>\n",
       "    </tr>\n",
       "    <tr>\n",
       "      <th>4853</th>\n",
       "      <td>2019-11-30 19:42:29</td>\n",
       "      <td>1</td>\n",
       "      <td>0</td>\n",
       "      <td>1</td>\n",
       "      <td>The difference. #RIPHumanity  #LondonBridgeAttack  #LondonShooting  #London  #Jihadists  #PakistanTerroristNation  #PakistaniTerrorist pic.twitter.com/uf6tqnP5E5</td>\n",
       "      <td>The difference.</td>\n",
       "      <td>#RIPHumanity #LondonBridgeAttack #LondonShooting #London #Jihadists #PakistanTerroristNation #PakistaniTerrorist</td>\n",
       "      <td>7</td>\n",
       "      <td>difference</td>\n",
       "    </tr>\n",
       "    <tr>\n",
       "      <th>282</th>\n",
       "      <td>2019-11-29 21:31:16</td>\n",
       "      <td>0</td>\n",
       "      <td>0</td>\n",
       "      <td>0</td>\n",
       "      <td>Sky news why now showing footage of police shooting terrorist with their faces blanked out, when in last hour you showed their faces, damage done you’ve identified police involved #LondonShooting</td>\n",
       "      <td>Sky news why now showing footage of police shooting terrorist with their faces blanked out, when in last hour you showed their faces, damage done you’ve identified police involved</td>\n",
       "      <td>#LondonShooting</td>\n",
       "      <td>1</td>\n",
       "      <td>sky news show footage police shoot terrorist face blank hour show face damage identify police involve</td>\n",
       "    </tr>\n",
       "    <tr>\n",
       "      <th>1512</th>\n",
       "      <td>2019-11-29 22:56:54</td>\n",
       "      <td>0</td>\n",
       "      <td>0</td>\n",
       "      <td>0</td>\n",
       "      <td>My thoughts are who those who were caught up in today’s incident #LondonBridge  #LondonShooting</td>\n",
       "      <td>My thoughts are who those who were caught up in today’s incident</td>\n",
       "      <td>#LondonBridge #LondonShooting</td>\n",
       "      <td>2</td>\n",
       "      <td>thought catch today incident</td>\n",
       "    </tr>\n",
       "    <tr>\n",
       "      <th>2818</th>\n",
       "      <td>2019-11-30 02:37:54</td>\n",
       "      <td>2</td>\n",
       "      <td>3</td>\n",
       "      <td>0</td>\n",
       "      <td>London Peace... \\n https:// teespring.com/london-8684?ts mac=store&amp;tsmic=reborn-7&amp;pid=46   … \\n#LondonBridge  #LondonShooting \\n#LondonBridgeAttack   https://twitter.com/Clays_Reborn/status/1200521464580980736/photo/1 pic.twitter.com/83VHeuqYXe   pic.twitter.com/wtHQzeoLmX</td>\n",
       "      <td>London Peace...</td>\n",
       "      <td></td>\n",
       "      <td>0</td>\n",
       "      <td>london peace</td>\n",
       "    </tr>\n",
       "  </tbody>\n",
       "</table>\n",
       "</div>"
      ],
      "text/plain": [
       "                 datetime  nbr_favorite  nbr_reply  nbr_retweet  \\\n",
       "68    2019-11-29 21:15:06  2             0          0             \n",
       "4853  2019-11-30 19:42:29  1             0          1             \n",
       "282   2019-11-29 21:31:16  0             0          0             \n",
       "1512  2019-11-29 22:56:54  0             0          0             \n",
       "2818  2019-11-30 02:37:54  2             3          0             \n",
       "\n",
       "                                                                                                                                                                                                                                                                                   text  \\\n",
       "68    # LondonShooting  #londonbridge  yep....it’s ALL Corbyn’s fault..... pic.twitter.com/J2wSuf8cvv                                                                                                                                                                                     \n",
       "4853  The difference. #RIPHumanity  #LondonBridgeAttack  #LondonShooting  #London  #Jihadists  #PakistanTerroristNation  #PakistaniTerrorist pic.twitter.com/uf6tqnP5E5                                                                                                                   \n",
       "282   Sky news why now showing footage of police shooting terrorist with their faces blanked out, when in last hour you showed their faces, damage done you’ve identified police involved #LondonShooting                                                                                 \n",
       "1512  My thoughts are who those who were caught up in today’s incident #LondonBridge  #LondonShooting                                                                                                                                                                                     \n",
       "2818  London Peace... \\n https:// teespring.com/london-8684?ts mac=store&tsmic=reborn-7&pid=46   … \\n#LondonBridge  #LondonShooting \\n#LondonBridgeAttack   https://twitter.com/Clays_Reborn/status/1200521464580980736/photo/1 pic.twitter.com/83VHeuqYXe   pic.twitter.com/wtHQzeoLmX   \n",
       "\n",
       "                                                                                                                                                                             cleaned_tweet  \\\n",
       "68        yep....it’s ALL Corbyn’s fault.....                                                                                                                                                \n",
       "4853  The difference.                                                                                                                                                                        \n",
       "282   Sky news why now showing footage of police shooting terrorist with their faces blanked out, when in last hour you showed their faces, damage done you’ve identified police involved    \n",
       "1512  My thoughts are who those who were caught up in today’s incident                                                                                                                       \n",
       "2818  London Peace...                                                                                                                                                                        \n",
       "\n",
       "                                                                                                              hashtags  \\\n",
       "68    # LondonShooting #londonbridge                                                                                     \n",
       "4853  #RIPHumanity #LondonBridgeAttack #LondonShooting #London #Jihadists #PakistanTerroristNation #PakistaniTerrorist   \n",
       "282   #LondonShooting                                                                                                    \n",
       "1512  #LondonBridge #LondonShooting                                                                                      \n",
       "2818                                                                                                                     \n",
       "\n",
       "      nbr_hashtags  \\\n",
       "68    2              \n",
       "4853  7              \n",
       "282   1              \n",
       "1512  2              \n",
       "2818  0              \n",
       "\n",
       "                                                                                                final_tweet  \n",
       "68    yep corbyn fault                                                                                       \n",
       "4853  difference                                                                                             \n",
       "282   sky news show footage police shoot terrorist face blank hour show face damage identify police involve  \n",
       "1512  thought catch today incident                                                                           \n",
       "2818  london peace                                                                                           "
      ]
     },
     "execution_count": 27,
     "metadata": {},
     "output_type": "execute_result"
    }
   ],
   "source": [
    "tweet.sample(5)"
   ]
  },
  {
   "cell_type": "code",
   "execution_count": 28,
   "metadata": {},
   "outputs": [],
   "source": [
    "import matplotlib.pyplot as plt\n",
    "import seaborn as sns"
   ]
  },
  {
   "cell_type": "code",
   "execution_count": 29,
   "metadata": {},
   "outputs": [],
   "source": [
    "tweet['length_tweet']=tweet['cleaned_tweet'].apply(lambda x:len(x)) # a new column which stores the length of tweet"
   ]
  },
  {
   "cell_type": "code",
   "execution_count": 30,
   "metadata": {},
   "outputs": [
    {
     "data": {
      "text/html": [
       "<div>\n",
       "<style scoped>\n",
       "    .dataframe tbody tr th:only-of-type {\n",
       "        vertical-align: middle;\n",
       "    }\n",
       "\n",
       "    .dataframe tbody tr th {\n",
       "        vertical-align: top;\n",
       "    }\n",
       "\n",
       "    .dataframe thead th {\n",
       "        text-align: right;\n",
       "    }\n",
       "</style>\n",
       "<table border=\"1\" class=\"dataframe\">\n",
       "  <thead>\n",
       "    <tr style=\"text-align: right;\">\n",
       "      <th></th>\n",
       "      <th>datetime</th>\n",
       "      <th>nbr_favorite</th>\n",
       "      <th>nbr_reply</th>\n",
       "      <th>nbr_retweet</th>\n",
       "      <th>text</th>\n",
       "      <th>cleaned_tweet</th>\n",
       "      <th>hashtags</th>\n",
       "      <th>nbr_hashtags</th>\n",
       "      <th>final_tweet</th>\n",
       "      <th>length_tweet</th>\n",
       "    </tr>\n",
       "  </thead>\n",
       "  <tbody>\n",
       "    <tr>\n",
       "      <th>2326</th>\n",
       "      <td>2019-11-30 01:15:40</td>\n",
       "      <td>0</td>\n",
       "      <td>1</td>\n",
       "      <td>0</td>\n",
       "      <td>terrifying to be so close to #LondonBridge  today as the #LondonShooting  occurred. being as shaken as i am, i sincerely feel for the people on or around the bridge. i really hope everyone is okay and there were no more fatal injuries.</td>\n",
       "      <td>terrifying to be so close to   today as the   occurred. being as shaken as i am, i sincerely feel for the people on or around the bridge. i really hope everyone is okay and there were no more fatal injuries.</td>\n",
       "      <td>#LondonBridge #LondonShooting</td>\n",
       "      <td>2</td>\n",
       "      <td>terrifying close today occur shake sincerely feel people bridge hope okay fatal injury</td>\n",
       "      <td>207</td>\n",
       "    </tr>\n",
       "    <tr>\n",
       "      <th>3988</th>\n",
       "      <td>2019-11-30 07:38:19</td>\n",
       "      <td>1</td>\n",
       "      <td>1</td>\n",
       "      <td>0</td>\n",
       "      <td>The #LondonBridge  #LondonShooting  terrorist was a minority peaceful secular. He was just spreading peace in the name of Allah. So don't call him a terrorist. He was doing it for Muhammad. \\n\\n#LondonBridgeAttack</td>\n",
       "      <td>The     terrorist was a minority peaceful secular. He was just spreading peace in the name of Allah. So don't call him a terrorist. He was doing it for Muhammad.</td>\n",
       "      <td>#LondonBridge #LondonShooting #LondonBridgeAttack</td>\n",
       "      <td>3</td>\n",
       "      <td>terrorist minority peaceful secular spread peace allah terrorist muhammad</td>\n",
       "      <td>162</td>\n",
       "    </tr>\n",
       "    <tr>\n",
       "      <th>4639</th>\n",
       "      <td>2019-11-30 15:27:02</td>\n",
       "      <td>1</td>\n",
       "      <td>0</td>\n",
       "      <td>0</td>\n",
       "      <td>If your 1st thought, is that the terrorists should not of been shot and killed, rather than about the 2 people who sadly died and others who are hurt. Have a fucking word with yourself. Fucking idiots. #LondonBridge  #LondonShooting  #LondonShooting</td>\n",
       "      <td>If your 1st thought, is that the terrorists should not of been shot and killed, rather than about the 2 people who sadly died and others who are hurt. Have a fucking word with yourself. Fucking idiots.</td>\n",
       "      <td>#LondonBridge #LondonShooting #LondonShooting</td>\n",
       "      <td>3</td>\n",
       "      <td>1st thought terrorist shoot kill people sadly die hurt fucking word fucking idiot</td>\n",
       "      <td>206</td>\n",
       "    </tr>\n",
       "    <tr>\n",
       "      <th>1618</th>\n",
       "      <td>2019-11-29 23:04:50</td>\n",
       "      <td>24</td>\n",
       "      <td>6</td>\n",
       "      <td>9</td>\n",
       "      <td>How timely.\\n\\nWe have a general election and now the #LondonBridgeattack \\nNow cue Boris and the tories jump in and say ‘we will save the Uk from Terrorism’ and then there you have it. Tories get voted in \\n#falseflag  #LondonShooting  #LondonBridge</td>\n",
       "      <td>How timely.We have a general election and now the  Now cue Boris and the tories jump in and say ‘we will save the Uk from Terrorism’ and then there you have it. Tories get voted in</td>\n",
       "      <td>#LondonBridgeattack #falseflag #LondonShooting #LondonBridge</td>\n",
       "      <td>4</td>\n",
       "      <td>timely.we general election cue boris tory jump save uk terrorism tory vote</td>\n",
       "      <td>185</td>\n",
       "    </tr>\n",
       "    <tr>\n",
       "      <th>1897</th>\n",
       "      <td>2019-11-29 23:53:15</td>\n",
       "      <td>4</td>\n",
       "      <td>0</td>\n",
       "      <td>0</td>\n",
       "      <td>Well done everyone who stopped that piece of shit in his tracks.  #LondonShooting</td>\n",
       "      <td>Well done everyone who stopped that piece of shit in his tracks.</td>\n",
       "      <td>#LondonShooting</td>\n",
       "      <td>1</td>\n",
       "      <td>stop piece shit track</td>\n",
       "      <td>66</td>\n",
       "    </tr>\n",
       "  </tbody>\n",
       "</table>\n",
       "</div>"
      ],
      "text/plain": [
       "                 datetime  nbr_favorite  nbr_reply  nbr_retweet  \\\n",
       "2326  2019-11-30 01:15:40  0             1          0             \n",
       "3988  2019-11-30 07:38:19  1             1          0             \n",
       "4639  2019-11-30 15:27:02  1             0          0             \n",
       "1618  2019-11-29 23:04:50  24            6          9             \n",
       "1897  2019-11-29 23:53:15  4             0          0             \n",
       "\n",
       "                                                                                                                                                                                                                                                            text  \\\n",
       "2326  terrifying to be so close to #LondonBridge  today as the #LondonShooting  occurred. being as shaken as i am, i sincerely feel for the people on or around the bridge. i really hope everyone is okay and there were no more fatal injuries.                  \n",
       "3988  The #LondonBridge  #LondonShooting  terrorist was a minority peaceful secular. He was just spreading peace in the name of Allah. So don't call him a terrorist. He was doing it for Muhammad. \\n\\n#LondonBridgeAttack                                        \n",
       "4639  If your 1st thought, is that the terrorists should not of been shot and killed, rather than about the 2 people who sadly died and others who are hurt. Have a fucking word with yourself. Fucking idiots. #LondonBridge  #LondonShooting  #LondonShooting    \n",
       "1618  How timely.\\n\\nWe have a general election and now the #LondonBridgeattack \\nNow cue Boris and the tories jump in and say ‘we will save the Uk from Terrorism’ and then there you have it. Tories get voted in \\n#falseflag  #LondonShooting  #LondonBridge   \n",
       "1897  Well done everyone who stopped that piece of shit in his tracks.  #LondonShooting                                                                                                                                                                            \n",
       "\n",
       "                                                                                                                                                                                                        cleaned_tweet  \\\n",
       "2326  terrifying to be so close to   today as the   occurred. being as shaken as i am, i sincerely feel for the people on or around the bridge. i really hope everyone is okay and there were no more fatal injuries.   \n",
       "3988  The     terrorist was a minority peaceful secular. He was just spreading peace in the name of Allah. So don't call him a terrorist. He was doing it for Muhammad.                                                 \n",
       "4639  If your 1st thought, is that the terrorists should not of been shot and killed, rather than about the 2 people who sadly died and others who are hurt. Have a fucking word with yourself. Fucking idiots.         \n",
       "1618  How timely.We have a general election and now the  Now cue Boris and the tories jump in and say ‘we will save the Uk from Terrorism’ and then there you have it. Tories get voted in                              \n",
       "1897  Well done everyone who stopped that piece of shit in his tracks.                                                                                                                                                  \n",
       "\n",
       "                                                          hashtags  \\\n",
       "2326  #LondonBridge #LondonShooting                                  \n",
       "3988  #LondonBridge #LondonShooting #LondonBridgeAttack              \n",
       "4639  #LondonBridge #LondonShooting #LondonShooting                  \n",
       "1618  #LondonBridgeattack #falseflag #LondonShooting #LondonBridge   \n",
       "1897  #LondonShooting                                                \n",
       "\n",
       "      nbr_hashtags  \\\n",
       "2326  2              \n",
       "3988  3              \n",
       "4639  3              \n",
       "1618  4              \n",
       "1897  1              \n",
       "\n",
       "                                                                                 final_tweet  \\\n",
       "2326  terrifying close today occur shake sincerely feel people bridge hope okay fatal injury   \n",
       "3988  terrorist minority peaceful secular spread peace allah terrorist muhammad                \n",
       "4639  1st thought terrorist shoot kill people sadly die hurt fucking word fucking idiot        \n",
       "1618  timely.we general election cue boris tory jump save uk terrorism tory vote               \n",
       "1897  stop piece shit track                                                                    \n",
       "\n",
       "      length_tweet  \n",
       "2326  207           \n",
       "3988  162           \n",
       "4639  206           \n",
       "1618  185           \n",
       "1897  66            "
      ]
     },
     "execution_count": 30,
     "metadata": {},
     "output_type": "execute_result"
    }
   ],
   "source": [
    "tweet.sample(5)"
   ]
  },
  {
   "cell_type": "markdown",
   "metadata": {},
   "source": [
    "#### Distribution of number of hashtags"
   ]
  },
  {
   "cell_type": "code",
   "execution_count": 31,
   "metadata": {},
   "outputs": [
    {
     "data": {
      "text/plain": [
       "Text(0.5, 1.0, 'Distribution of number of hashtags')"
      ]
     },
     "execution_count": 31,
     "metadata": {},
     "output_type": "execute_result"
    },
    {
     "data": {
      "image/png": "[encoded data removed]",
      "text/plain": [
       "<Figure size 432x288 with 1 Axes>"
      ]
     },
     "metadata": {
      "needs_background": "light"
     },
     "output_type": "display_data"
    }
   ],
   "source": [
    "sns.kdeplot(tweet['nbr_hashtags']).set_title(\"Distribution of number of hashtags\")"
   ]
  },
  {
   "cell_type": "markdown",
   "metadata": {},
   "source": [
    "Most tweets have hashtags in the range of 1 -4 "
   ]
  },
  {
   "cell_type": "code",
   "execution_count": 32,
   "metadata": {},
   "outputs": [
    {
     "data": {
      "text/plain": [
       "count    5254.000000\n",
       "mean     125.756566 \n",
       "std      68.328497  \n",
       "min      0.000000   \n",
       "25%      68.000000  \n",
       "50%      118.000000 \n",
       "75%      179.000000 \n",
       "max      279.000000 \n",
       "Name: length_tweet, dtype: float64"
      ]
     },
     "execution_count": 32,
     "metadata": {},
     "output_type": "execute_result"
    }
   ],
   "source": [
    "tweet['length_tweet'].describe()"
   ]
  },
  {
   "cell_type": "code",
   "execution_count": 33,
   "metadata": {},
   "outputs": [
    {
     "data": {
      "text/plain": [
       "Text(0.5, 1.0, 'Distribution of length of tweets')"
      ]
     },
     "execution_count": 33,
     "metadata": {},
     "output_type": "execute_result"
    },
    {
     "data": {
      "image/png": "[encoded data removed]",
      "text/plain": [
       "<Figure size 432x288 with 1 Axes>"
      ]
     },
     "metadata": {
      "needs_background": "light"
     },
     "output_type": "display_data"
    }
   ],
   "source": [
    "sns.kdeplot(tweet['length_tweet']).set_title(\"Distribution of length of tweets\")"
   ]
  },
  {
   "cell_type": "markdown",
   "metadata": {},
   "source": [
    "Length of tweet is widely distributed. But most tweets are in the length of 50-75"
   ]
  },
  {
   "cell_type": "code",
   "execution_count": 34,
   "metadata": {},
   "outputs": [
    {
     "data": {
      "text/plain": [
       "Text(0.5, 1.0, 'Distribution of number of retweets')"
      ]
     },
     "execution_count": 34,
     "metadata": {},
     "output_type": "execute_result"
    },
    {
     "data": {
      "image/png": "[encoded data removed]",
      "text/plain": [
       "<Figure size 432x288 with 1 Axes>"
      ]
     },
     "metadata": {
      "needs_background": "light"
     },
     "output_type": "display_data"
    }
   ],
   "source": [
    "sns.kdeplot(tweet['nbr_retweet']).set_title(\"Distribution of number of retweets\")"
   ]
  },
  {
   "cell_type": "markdown",
   "metadata": {},
   "source": [
    "The number of tweets are highest for the range of 0-200 retweets"
   ]
  },
  {
   "cell_type": "code",
   "execution_count": 35,
   "metadata": {},
   "outputs": [
    {
     "data": {
      "text/plain": [
       "Text(0.5, 1.0, 'Distribution of number of likes')"
      ]
     },
     "execution_count": 35,
     "metadata": {},
     "output_type": "execute_result"
    },
    {
     "data": {
      "image/png": "[encoded data removed]",
      "text/plain": [
       "<Figure size 432x288 with 1 Axes>"
      ]
     },
     "metadata": {
      "needs_background": "light"
     },
     "output_type": "display_data"
    }
   ],
   "source": [
    "sns.kdeplot(tweet['nbr_favorite']).set_title(\"Distribution of number of likes\")"
   ]
  },
  {
   "cell_type": "markdown",
   "metadata": {},
   "source": [
    "Most of the tweets got about 200-400 likes. Very few tweets got above 5000 likes"
   ]
  },
  {
   "cell_type": "code",
   "execution_count": 36,
   "metadata": {},
   "outputs": [],
   "source": [
    "tweet['datetime']=pd.to_datetime(tweet['datetime'],errors='coerce') # converting the column to datetime format"
   ]
  },
  {
   "cell_type": "code",
   "execution_count": 37,
   "metadata": {},
   "outputs": [
    {
     "name": "stdout",
     "output_type": "stream",
     "text": [
      "<class 'pandas.core.frame.DataFrame'>\n",
      "RangeIndex: 5254 entries, 0 to 5253\n",
      "Data columns (total 10 columns):\n",
      "datetime         5254 non-null datetime64[ns]\n",
      "nbr_favorite     5254 non-null int64\n",
      "nbr_reply        5254 non-null int64\n",
      "nbr_retweet      5254 non-null int64\n",
      "text             5254 non-null object\n",
      "cleaned_tweet    5254 non-null object\n",
      "hashtags         5254 non-null object\n",
      "nbr_hashtags     5254 non-null int64\n",
      "final_tweet      5254 non-null object\n",
      "length_tweet     5254 non-null int64\n",
      "dtypes: datetime64[ns](1), int64(5), object(4)\n",
      "memory usage: 410.5+ KB\n"
     ]
    }
   ],
   "source": [
    "tweet.info()"
   ]
  },
  {
   "cell_type": "code",
   "execution_count": 38,
   "metadata": {},
   "outputs": [],
   "source": [
    "tweet['date']=tweet['datetime'].dt.day # extracting the date and storing in another column"
   ]
  },
  {
   "cell_type": "code",
   "execution_count": 39,
   "metadata": {},
   "outputs": [],
   "source": [
    "tweet['hour_of_day']=tweet['datetime'].dt.hour # extracting the hour and storing in another column"
   ]
  },
  {
   "cell_type": "code",
   "execution_count": 40,
   "metadata": {},
   "outputs": [
    {
     "data": {
      "text/html": [
       "<div>\n",
       "<style scoped>\n",
       "    .dataframe tbody tr th:only-of-type {\n",
       "        vertical-align: middle;\n",
       "    }\n",
       "\n",
       "    .dataframe tbody tr th {\n",
       "        vertical-align: top;\n",
       "    }\n",
       "\n",
       "    .dataframe thead th {\n",
       "        text-align: right;\n",
       "    }\n",
       "</style>\n",
       "<table border=\"1\" class=\"dataframe\">\n",
       "  <thead>\n",
       "    <tr style=\"text-align: right;\">\n",
       "      <th></th>\n",
       "      <th>datetime</th>\n",
       "      <th>nbr_favorite</th>\n",
       "      <th>nbr_reply</th>\n",
       "      <th>nbr_retweet</th>\n",
       "      <th>text</th>\n",
       "      <th>cleaned_tweet</th>\n",
       "      <th>hashtags</th>\n",
       "      <th>nbr_hashtags</th>\n",
       "      <th>final_tweet</th>\n",
       "      <th>length_tweet</th>\n",
       "      <th>date</th>\n",
       "      <th>hour_of_day</th>\n",
       "    </tr>\n",
       "  </thead>\n",
       "  <tbody>\n",
       "    <tr>\n",
       "      <th>1877</th>\n",
       "      <td>2019-11-29 23:47:12</td>\n",
       "      <td>2</td>\n",
       "      <td>5</td>\n",
       "      <td>0</td>\n",
       "      <td>strange how there's a terrorist attack when there's a general election campaign going on #LondonBridge  #londonshooting</td>\n",
       "      <td>strange how there's a terrorist attack when there's a general election campaign going on</td>\n",
       "      <td>#LondonBridge #londonshooting</td>\n",
       "      <td>2</td>\n",
       "      <td>strange terrorist attack general election campaign go</td>\n",
       "      <td>91</td>\n",
       "      <td>29</td>\n",
       "      <td>23</td>\n",
       "    </tr>\n",
       "    <tr>\n",
       "      <th>4678</th>\n",
       "      <td>2019-11-30 15:46:50</td>\n",
       "      <td>4</td>\n",
       "      <td>0</td>\n",
       "      <td>1</td>\n",
       "      <td>We live in challenging times and ask so much of our emergency services, and the general public. It’s so very difficult ...  We must stay strong, and united in supporting all of our communities. #StrongerTogether  #LondonBridge  #LondonShooting  #LondonBridgeAttack https:// twitter.com/terrorismpolic e/status/1200511722001510400   …</td>\n",
       "      <td>We live in challenging times and ask so much of our emergency services, and the general public. It’s so very difficult ...  We must stay strong, and united in supporting all of our communities.</td>\n",
       "      <td>#StrongerTogether #LondonBridge #LondonShooting #LondonBridgeAttack</td>\n",
       "      <td>4</td>\n",
       "      <td>live challenge time ask emergency service general public difficult stay strong unite support community</td>\n",
       "      <td>201</td>\n",
       "      <td>30</td>\n",
       "      <td>15</td>\n",
       "    </tr>\n",
       "    <tr>\n",
       "      <th>243</th>\n",
       "      <td>2019-11-29 21:27:31</td>\n",
       "      <td>0</td>\n",
       "      <td>2</td>\n",
       "      <td>0</td>\n",
       "      <td>Feds on roofs everywhere surrounding London Bridge and in the water too, I’m telling you, they know something we don’t. #LondonShooting  #LondonBridge</td>\n",
       "      <td>Feds on roofs everywhere surrounding London Bridge and in the water too, I’m telling you, they know something we don’t.</td>\n",
       "      <td>#LondonShooting #LondonBridge</td>\n",
       "      <td>2</td>\n",
       "      <td>fed roof surround london bridge water tell know</td>\n",
       "      <td>122</td>\n",
       "      <td>29</td>\n",
       "      <td>21</td>\n",
       "    </tr>\n",
       "    <tr>\n",
       "      <th>3971</th>\n",
       "      <td>2019-11-30 07:25:41</td>\n",
       "      <td>2</td>\n",
       "      <td>2</td>\n",
       "      <td>1</td>\n",
       "      <td>Where did you get this? #LondonBridgeAttack  #LondonShooting</td>\n",
       "      <td>Where did you get this?</td>\n",
       "      <td>#LondonBridgeAttack #LondonShooting</td>\n",
       "      <td>2</td>\n",
       "      <td></td>\n",
       "      <td>26</td>\n",
       "      <td>30</td>\n",
       "      <td>7</td>\n",
       "    </tr>\n",
       "    <tr>\n",
       "      <th>4080</th>\n",
       "      <td>2019-11-30 08:54:38</td>\n",
       "      <td>1</td>\n",
       "      <td>0</td>\n",
       "      <td>1</td>\n",
       "      <td>Screenshot taken by someone in a different time zone. \\n\\n#LondonBridge  \\n#LondonShooting   https:// twitter.com/dorset_eye/sta tus/1200478068596510721   …</td>\n",
       "      <td>Screenshot taken by someone in a different time zone.</td>\n",
       "      <td>#LondonBridge #LondonShooting</td>\n",
       "      <td>2</td>\n",
       "      <td>screenshot take different time zone</td>\n",
       "      <td>59</td>\n",
       "      <td>30</td>\n",
       "      <td>8</td>\n",
       "    </tr>\n",
       "  </tbody>\n",
       "</table>\n",
       "</div>"
      ],
      "text/plain": [
       "                datetime  nbr_favorite  nbr_reply  nbr_retweet  \\\n",
       "1877 2019-11-29 23:47:12  2             5          0             \n",
       "4678 2019-11-30 15:46:50  4             0          1             \n",
       "243  2019-11-29 21:27:31  0             2          0             \n",
       "3971 2019-11-30 07:25:41  2             2          1             \n",
       "4080 2019-11-30 08:54:38  1             0          1             \n",
       "\n",
       "                                                                                                                                                                                                                                                                                                                                               text  \\\n",
       "1877  strange how there's a terrorist attack when there's a general election campaign going on #LondonBridge  #londonshooting                                                                                                                                                                                                                         \n",
       "4678  We live in challenging times and ask so much of our emergency services, and the general public. It’s so very difficult ...  We must stay strong, and united in supporting all of our communities. #StrongerTogether  #LondonBridge  #LondonShooting  #LondonBridgeAttack https:// twitter.com/terrorismpolic e/status/1200511722001510400   …   \n",
       "243   Feds on roofs everywhere surrounding London Bridge and in the water too, I’m telling you, they know something we don’t. #LondonShooting  #LondonBridge                                                                                                                                                                                          \n",
       "3971  Where did you get this? #LondonBridgeAttack  #LondonShooting                                                                                                                                                                                                                                                                                    \n",
       "4080  Screenshot taken by someone in a different time zone. \\n\\n#LondonBridge  \\n#LondonShooting   https:// twitter.com/dorset_eye/sta tus/1200478068596510721   …                                                                                                                                                                                    \n",
       "\n",
       "                                                                                                                                                                                                  cleaned_tweet  \\\n",
       "1877  strange how there's a terrorist attack when there's a general election campaign going on                                                                                                                    \n",
       "4678  We live in challenging times and ask so much of our emergency services, and the general public. It’s so very difficult ...  We must stay strong, and united in supporting all of our communities.           \n",
       "243   Feds on roofs everywhere surrounding London Bridge and in the water too, I’m telling you, they know something we don’t.                                                                                     \n",
       "3971  Where did you get this?                                                                                                                                                                                     \n",
       "4080  Screenshot taken by someone in a different time zone.                                                                                                                                                       \n",
       "\n",
       "                                                                 hashtags  \\\n",
       "1877  #LondonBridge #londonshooting                                         \n",
       "4678  #StrongerTogether #LondonBridge #LondonShooting #LondonBridgeAttack   \n",
       "243   #LondonShooting #LondonBridge                                         \n",
       "3971  #LondonBridgeAttack #LondonShooting                                   \n",
       "4080  #LondonBridge #LondonShooting                                         \n",
       "\n",
       "      nbr_hashtags  \\\n",
       "1877  2              \n",
       "4678  4              \n",
       "243   2              \n",
       "3971  2              \n",
       "4080  2              \n",
       "\n",
       "                                                                                                 final_tweet  \\\n",
       "1877  strange terrorist attack general election campaign go                                                    \n",
       "4678  live challenge time ask emergency service general public difficult stay strong unite support community   \n",
       "243   fed roof surround london bridge water tell know                                                          \n",
       "3971                                                                                                           \n",
       "4080  screenshot take different time zone                                                                      \n",
       "\n",
       "      length_tweet  date  hour_of_day  \n",
       "1877  91            29    23           \n",
       "4678  201           30    15           \n",
       "243   122           29    21           \n",
       "3971  26            30    7            \n",
       "4080  59            30    8            "
      ]
     },
     "execution_count": 40,
     "metadata": {},
     "output_type": "execute_result"
    }
   ],
   "source": [
    "tweet.sample(5)"
   ]
  },
  {
   "cell_type": "code",
   "execution_count": 41,
   "metadata": {},
   "outputs": [
    {
     "data": {
      "text/plain": [
       "30    3045\n",
       "29    1928\n",
       "1     188 \n",
       "2     88  \n",
       "3     5   \n",
       "Name: date, dtype: int64"
      ]
     },
     "execution_count": 41,
     "metadata": {},
     "output_type": "execute_result"
    }
   ],
   "source": [
    "tweet['date'].value_counts() "
   ]
  },
  {
   "cell_type": "markdown",
   "metadata": {},
   "source": [
    "Highest number of tweets was seen in 30/11/2019"
   ]
  },
  {
   "cell_type": "code",
   "execution_count": 42,
   "metadata": {},
   "outputs": [
    {
     "data": {
      "text/plain": [
       "Text(0.5, 1.0, 'Distribution of tweets/hour')"
      ]
     },
     "execution_count": 42,
     "metadata": {},
     "output_type": "execute_result"
    },
    {
     "data": {
      "image/png": "[encoded data removed]",
      "text/plain": [
       "<Figure size 432x288 with 1 Axes>"
      ]
     },
     "metadata": {
      "needs_background": "light"
     },
     "output_type": "display_data"
    }
   ],
   "source": [
    "sns.kdeplot(tweet['hour_of_day']).set_title(\"Distribution of tweets/hour\")"
   ]
  },
  {
   "cell_type": "markdown",
   "metadata": {},
   "source": [
    "Most number of tweets are tweeted between 8-10pm. That is when most of the people are free and engage more in social media"
   ]
  },
  {
   "cell_type": "code",
   "execution_count": 43,
   "metadata": {},
   "outputs": [
    {
     "data": {
      "text/plain": [
       "21    811\n",
       "22    792\n",
       "4     453\n",
       "23    427\n",
       "1     400\n",
       "0     335\n",
       "2     305\n",
       "3     272\n",
       "5     223\n",
       "6     149\n",
       "12    130\n",
       "13    111\n",
       "15    107\n",
       "11    95 \n",
       "7     87 \n",
       "14    85 \n",
       "8     82 \n",
       "9     75 \n",
       "16    74 \n",
       "10    71 \n",
       "20    52 \n",
       "17    49 \n",
       "18    36 \n",
       "19    33 \n",
       "Name: hour_of_day, dtype: int64"
      ]
     },
     "execution_count": 43,
     "metadata": {},
     "output_type": "execute_result"
    }
   ],
   "source": [
    "tweet['hour_of_day'].value_counts() "
   ]
  },
  {
   "cell_type": "markdown",
   "metadata": {},
   "source": [
    "Highest number of tweets is seen at 21:00 or 9p.m."
   ]
  },
  {
   "cell_type": "markdown",
   "metadata": {},
   "source": [
    "Defining a function to extract hashtags other than #LondonShooting"
   ]
  },
  {
   "cell_type": "code",
   "execution_count": 44,
   "metadata": {},
   "outputs": [],
   "source": [
    "def extract_other_hashtags(text):\n",
    "    extract=re.sub('#LondonShooting','',text) # removes'#LondonShooting' from the text\n",
    "    extract_cleaned=re.sub(' +', ' ', extract) # removes any extra white spaces\n",
    "    return extract_cleaned"
   ]
  },
  {
   "cell_type": "code",
   "execution_count": 45,
   "metadata": {},
   "outputs": [],
   "source": [
    "tweet['other_hashtags']=tweet['hashtags'].apply(lambda x:extract_other_hashtags(x))"
   ]
  },
  {
   "cell_type": "code",
   "execution_count": 46,
   "metadata": {},
   "outputs": [
    {
     "data": {
      "text/html": [
       "<div>\n",
       "<style scoped>\n",
       "    .dataframe tbody tr th:only-of-type {\n",
       "        vertical-align: middle;\n",
       "    }\n",
       "\n",
       "    .dataframe tbody tr th {\n",
       "        vertical-align: top;\n",
       "    }\n",
       "\n",
       "    .dataframe thead th {\n",
       "        text-align: right;\n",
       "    }\n",
       "</style>\n",
       "<table border=\"1\" class=\"dataframe\">\n",
       "  <thead>\n",
       "    <tr style=\"text-align: right;\">\n",
       "      <th></th>\n",
       "      <th>datetime</th>\n",
       "      <th>nbr_favorite</th>\n",
       "      <th>nbr_reply</th>\n",
       "      <th>nbr_retweet</th>\n",
       "      <th>text</th>\n",
       "      <th>cleaned_tweet</th>\n",
       "      <th>hashtags</th>\n",
       "      <th>nbr_hashtags</th>\n",
       "      <th>final_tweet</th>\n",
       "      <th>length_tweet</th>\n",
       "      <th>date</th>\n",
       "      <th>hour_of_day</th>\n",
       "      <th>other_hashtags</th>\n",
       "    </tr>\n",
       "  </thead>\n",
       "  <tbody>\n",
       "    <tr>\n",
       "      <th>5159</th>\n",
       "      <td>2019-12-01 23:49:09</td>\n",
       "      <td>9</td>\n",
       "      <td>1</td>\n",
       "      <td>7</td>\n",
       "      <td>Colonel Kemp published an article in the Sun giving his recommendations concerning what Britain needs to do prevent terror attacks. #mustread  #UK  #terrorism  #London  #londonterrorattack  #londonshooting   pic.twitter.com/fXvkRumPV4</td>\n",
       "      <td>Colonel Kemp published an article in the Sun giving his recommendations concerning what Britain needs to do prevent terror attacks.</td>\n",
       "      <td>#mustread #UK #terrorism #London #londonterrorattack #londonshooting</td>\n",
       "      <td>6</td>\n",
       "      <td>colonel kemp publish article sun give recommendation concern britain need prevent terror attack</td>\n",
       "      <td>145</td>\n",
       "      <td>1</td>\n",
       "      <td>23</td>\n",
       "      <td>#mustread #UK #terrorism #London #londonterrorattack #londonshooting</td>\n",
       "    </tr>\n",
       "    <tr>\n",
       "      <th>4960</th>\n",
       "      <td>2019-11-30 23:35:01</td>\n",
       "      <td>0</td>\n",
       "      <td>0</td>\n",
       "      <td>0</td>\n",
       "      <td>People behind such stories have pristine soul and full of childlike innocence. They are not aware that eventually these terrorists would come for them too...\\n\\n#LondonShooting  #LondonBridge  #LondonAttack https:// twitter.com/DailyMirror/st atus/1200816533758451717   …</td>\n",
       "      <td>People behind such stories have pristine soul and full of childlike innocence. They are not aware that eventually these terrorists would come for them too...</td>\n",
       "      <td>#LondonShooting #LondonBridge #LondonAttack</td>\n",
       "      <td>3</td>\n",
       "      <td>people story pristine soul childlike innocence aware eventually terrorist come</td>\n",
       "      <td>162</td>\n",
       "      <td>30</td>\n",
       "      <td>23</td>\n",
       "      <td>#LondonBridge #LondonAttack</td>\n",
       "    </tr>\n",
       "    <tr>\n",
       "      <th>2498</th>\n",
       "      <td>2019-11-30 01:41:39</td>\n",
       "      <td>1</td>\n",
       "      <td>2</td>\n",
       "      <td>0</td>\n",
       "      <td>Civilian Londoners had this guy on the floor. Police needn't shoot him, they piled on him, knew the vest was a fake. #LondonShooting</td>\n",
       "      <td>Civilian Londoners had this guy on the floor. Police needn't shoot him, they piled on him, knew the vest was a fake.</td>\n",
       "      <td>#LondonShooting</td>\n",
       "      <td>1</td>\n",
       "      <td>civilian londoners guy floor police need shoot pile know vest fake</td>\n",
       "      <td>117</td>\n",
       "      <td>30</td>\n",
       "      <td>1</td>\n",
       "      <td></td>\n",
       "    </tr>\n",
       "    <tr>\n",
       "      <th>2009</th>\n",
       "      <td>2019-11-30 00:21:03</td>\n",
       "      <td>1</td>\n",
       "      <td>0</td>\n",
       "      <td>1</td>\n",
       "      <td>London Bridge knife terror attack: Two members of the public dead - latest news #LondonShooting  #LondonBridge https://www. telegraph.co.uk/news/2019/11/2 9/london-bridge-reports-gunshots-central-london/#update-20191129-1828   …</td>\n",
       "      <td>London Bridge knife terror attack: Two members of the public dead - latest news</td>\n",
       "      <td>#LondonShooting #LondonBridge</td>\n",
       "      <td>2</td>\n",
       "      <td>london bridge knife terror attack member public dead late news</td>\n",
       "      <td>83</td>\n",
       "      <td>30</td>\n",
       "      <td>0</td>\n",
       "      <td>#LondonBridge</td>\n",
       "    </tr>\n",
       "    <tr>\n",
       "      <th>1857</th>\n",
       "      <td>2019-11-29 23:41:23</td>\n",
       "      <td>2</td>\n",
       "      <td>1</td>\n",
       "      <td>1</td>\n",
       "      <td># LondonShooting \\nFrom 2017: Tory suspension of election campaign:  https:// ducksoap.wordpress.com/2017/05/24/ele ction-2017-suspension-of-election-campaigns-after-terror-attack/   …</td>\n",
       "      <td>From 2017: Tory suspension of election campaign:</td>\n",
       "      <td># LondonShooting</td>\n",
       "      <td>1</td>\n",
       "      <td>tory suspension election campaign</td>\n",
       "      <td>51</td>\n",
       "      <td>29</td>\n",
       "      <td>23</td>\n",
       "      <td># LondonShooting</td>\n",
       "    </tr>\n",
       "  </tbody>\n",
       "</table>\n",
       "</div>"
      ],
      "text/plain": [
       "                datetime  nbr_favorite  nbr_reply  nbr_retweet  \\\n",
       "5159 2019-12-01 23:49:09  9             1          7             \n",
       "4960 2019-11-30 23:35:01  0             0          0             \n",
       "2498 2019-11-30 01:41:39  1             2          0             \n",
       "2009 2019-11-30 00:21:03  1             0          1             \n",
       "1857 2019-11-29 23:41:23  2             1          1             \n",
       "\n",
       "                                                                                                                                                                                                                                                                                 text  \\\n",
       "5159  Colonel Kemp published an article in the Sun giving his recommendations concerning what Britain needs to do prevent terror attacks. #mustread  #UK  #terrorism  #London  #londonterrorattack  #londonshooting   pic.twitter.com/fXvkRumPV4                                        \n",
       "4960  People behind such stories have pristine soul and full of childlike innocence. They are not aware that eventually these terrorists would come for them too...\\n\\n#LondonShooting  #LondonBridge  #LondonAttack https:// twitter.com/DailyMirror/st atus/1200816533758451717   …   \n",
       "2498  Civilian Londoners had this guy on the floor. Police needn't shoot him, they piled on him, knew the vest was a fake. #LondonShooting                                                                                                                                              \n",
       "2009  London Bridge knife terror attack: Two members of the public dead - latest news #LondonShooting  #LondonBridge https://www. telegraph.co.uk/news/2019/11/2 9/london-bridge-reports-gunshots-central-london/#update-20191129-1828   …                                              \n",
       "1857  # LondonShooting \\nFrom 2017: Tory suspension of election campaign:  https:// ducksoap.wordpress.com/2017/05/24/ele ction-2017-suspension-of-election-campaigns-after-terror-attack/   …                                                                                          \n",
       "\n",
       "                                                                                                                                                           cleaned_tweet  \\\n",
       "5159  Colonel Kemp published an article in the Sun giving his recommendations concerning what Britain needs to do prevent terror attacks.                                  \n",
       "4960  People behind such stories have pristine soul and full of childlike innocence. They are not aware that eventually these terrorists would come for them too...        \n",
       "2498  Civilian Londoners had this guy on the floor. Police needn't shoot him, they piled on him, knew the vest was a fake.                                                 \n",
       "2009  London Bridge knife terror attack: Two members of the public dead - latest news                                                                                      \n",
       "1857   From 2017: Tory suspension of election campaign:                                                                                                                    \n",
       "\n",
       "                                                                  hashtags  \\\n",
       "5159  #mustread #UK #terrorism #London #londonterrorattack #londonshooting   \n",
       "4960  #LondonShooting #LondonBridge #LondonAttack                            \n",
       "2498  #LondonShooting                                                        \n",
       "2009  #LondonShooting #LondonBridge                                          \n",
       "1857  # LondonShooting                                                       \n",
       "\n",
       "      nbr_hashtags  \\\n",
       "5159  6              \n",
       "4960  3              \n",
       "2498  1              \n",
       "2009  2              \n",
       "1857  1              \n",
       "\n",
       "                                                                                          final_tweet  \\\n",
       "5159  colonel kemp publish article sun give recommendation concern britain need prevent terror attack   \n",
       "4960  people story pristine soul childlike innocence aware eventually terrorist come                    \n",
       "2498  civilian londoners guy floor police need shoot pile know vest fake                                \n",
       "2009  london bridge knife terror attack member public dead late news                                    \n",
       "1857  tory suspension election campaign                                                                 \n",
       "\n",
       "      length_tweet  date  hour_of_day  \\\n",
       "5159  145           1     23            \n",
       "4960  162           30    23            \n",
       "2498  117           30    1             \n",
       "2009  83            30    0             \n",
       "1857  51            29    23            \n",
       "\n",
       "                                                            other_hashtags  \n",
       "5159  #mustread #UK #terrorism #London #londonterrorattack #londonshooting  \n",
       "4960   #LondonBridge #LondonAttack                                          \n",
       "2498                                                                        \n",
       "2009   #LondonBridge                                                        \n",
       "1857  # LondonShooting                                                      "
      ]
     },
     "execution_count": 46,
     "metadata": {},
     "output_type": "execute_result"
    }
   ],
   "source": [
    "tweet.sample(5)"
   ]
  },
  {
   "cell_type": "markdown",
   "metadata": {},
   "source": [
    "### Unigrams"
   ]
  },
  {
   "cell_type": "code",
   "execution_count": 47,
   "metadata": {},
   "outputs": [],
   "source": [
    "all_tweets=tweet['final_tweet'].tolist() # combining all the cleaned and lemmatised tweets and converting to a list"
   ]
  },
  {
   "cell_type": "markdown",
   "metadata": {},
   "source": [
    "Defining a function which return top n number of words based on their number of occurrences"
   ]
  },
  {
   "cell_type": "code",
   "execution_count": 48,
   "metadata": {},
   "outputs": [],
   "source": [
    "def getMostCommon(reviews_list,topn):\n",
    "    reviews=\" \".join(reviews_list)\n",
    "    tokenised_reviews=reviews.split(\" \") # splitting the text using \" \" character\n",
    "    \n",
    "    \n",
    "    freq_counter=Counter(tokenised_reviews) # gives count of each word in the text\n",
    "    return freq_counter.most_common(topn) # return words with the highest frequencies"
   ]
  },
  {
   "cell_type": "markdown",
   "metadata": {},
   "source": [
    "Defining a function which uses the above function to generate a bar plot which will show the words with highest frequencies"
   ]
  },
  {
   "cell_type": "code",
   "execution_count": 49,
   "metadata": {},
   "outputs": [],
   "source": [
    "def plotMostCommonWords(reviews_list,topn,title=\"Most Frequent Words\",color=\"blue\",axis=None): #default colour is given as blue\n",
    "    top_words=getMostCommon(reviews_list,topn=topn)\n",
    "    data=pd.DataFrame()\n",
    "    data['words']=[val[0] for val in top_words]\n",
    "    data['freq']=[val[1] for val in top_words]\n",
    "    if axis!=None:\n",
    "        sns.barplot(y='words',x='freq',data=data,color=color,ax=axis).set_title(title+\" top \"+str(topn))\n",
    "    else:\n",
    "        sns.barplot(y='words',x='freq',data=data,color=color).set_title(title+\" top \"+str(topn))"
   ]
  },
  {
   "cell_type": "code",
   "execution_count": 50,
   "metadata": {},
   "outputs": [
    {
     "data": {
      "image/png": "[encoded data removed]",
      "text/plain": [
       "<Figure size 720x576 with 1 Axes>"
      ]
     },
     "metadata": {
      "needs_background": "light"
     },
     "output_type": "display_data"
    }
   ],
   "source": [
    "from matplotlib import rcParams\n",
    "\n",
    "rcParams['figure.figsize'] = 10,8 ## Sets the heigth and width of image\n",
    "\n",
    "plotMostCommonWords(all_tweets,25,\"Frequent words\") # plotting the top 25 frequently occuring words in the tweets "
   ]
  },
  {
   "cell_type": "markdown",
   "metadata": {},
   "source": [
    "Here we can see that london, terrorist, bridge, attack, etc. are the most frequently occuring words"
   ]
  },
  {
   "cell_type": "markdown",
   "metadata": {},
   "source": [
    "This does not give much understanding. Hence we should use bigrams or trigrams."
   ]
  },
  {
   "cell_type": "code",
   "execution_count": 51,
   "metadata": {},
   "outputs": [
    {
     "data": {
      "image/png": "[encoded data removed]",
      "text/plain": [
       "<Figure size 720x576 with 1 Axes>"
      ]
     },
     "metadata": {
      "needs_background": "light"
     },
     "output_type": "display_data"
    }
   ],
   "source": [
    "from wordcloud import WordCloud\n",
    "wordcloud = WordCloud(height=2000, width=2000, background_color='black')\n",
    "wordcloud = wordcloud.generate(' '.join(tweet['final_tweet'].tolist()))\n",
    "plt.imshow(wordcloud)\n",
    "plt.title(\"Most common words in the tweets\")\n",
    "plt.axis('off')\n",
    "plt.show()"
   ]
  },
  {
   "cell_type": "markdown",
   "metadata": {},
   "source": [
    "### Bigrams"
   ]
  },
  {
   "cell_type": "markdown",
   "metadata": {},
   "source": [
    "Defining a function to create n-grams. The text and number required are given as arguments"
   ]
  },
  {
   "cell_type": "code",
   "execution_count": 52,
   "metadata": {},
   "outputs": [],
   "source": [
    "def generateNGram(text,n):\n",
    "    tokens=text.split(\" \")\n",
    "    ngrams = zip(*[tokens[i:] for i in range(n)])\n",
    "    return [\"_\".join(ngram) for ngram in ngrams]"
   ]
  },
  {
   "cell_type": "code",
   "execution_count": 53,
   "metadata": {},
   "outputs": [],
   "source": [
    "tweet_bigrams=[\" \".join(generateNGram(review,2)) for review in all_tweets] # creating bigrams and storing it in a list"
   ]
  },
  {
   "cell_type": "code",
   "execution_count": 54,
   "metadata": {},
   "outputs": [
    {
     "data": {
      "text/plain": [
       "['london_bridge bridge_seal seal_report report_gunfire gunfire_londonbridge',\n",
       " '',\n",
       " 'unconfirmed_report report_shooting shooting_london london_bridge.emery bridge.emery_take take_sack sack_pretty pretty_badly',\n",
       " 'video_eyewitness eyewitness_shooting',\n",
       " 'friendly_reminder reminder_london london_bridge bridge_tower tower_bridge']"
      ]
     },
     "execution_count": 54,
     "metadata": {},
     "output_type": "execute_result"
    }
   ],
   "source": [
    "tweet_bigrams[:5]"
   ]
  },
  {
   "cell_type": "code",
   "execution_count": 55,
   "metadata": {},
   "outputs": [
    {
     "data": {
      "image/png": "[encoded data removed]",
      "text/plain": [
       "<Figure size 720x576 with 1 Axes>"
      ]
     },
     "metadata": {
      "needs_background": "light"
     },
     "output_type": "display_data"
    }
   ],
   "source": [
    "rcParams['figure.figsize'] = 10,8 ## Sets the heigth and width of image\n",
    "\n",
    "plotMostCommonWords(tweet_bigrams,25,\"Frequent words\",color=\"green\") # plotting the most frequently occurring bigrams"
   ]
  },
  {
   "cell_type": "markdown",
   "metadata": {},
   "source": [
    "london_bridge, member_public, shoot_dead, terrorist_attack, terror_attack are the most frequently occuring bigrams"
   ]
  },
  {
   "cell_type": "markdown",
   "metadata": {},
   "source": [
    "### Trigrams"
   ]
  },
  {
   "cell_type": "code",
   "execution_count": 56,
   "metadata": {},
   "outputs": [],
   "source": [
    "tweet_trigrams=[\" \".join(generateNGram(review,3)) for review in all_tweets] # creating trigrams and storing in a list"
   ]
  },
  {
   "cell_type": "code",
   "execution_count": 57,
   "metadata": {},
   "outputs": [
    {
     "data": {
      "image/png": "[encoded data removed]",
      "text/plain": [
       "<Figure size 720x576 with 1 Axes>"
      ]
     },
     "metadata": {
      "needs_background": "light"
     },
     "output_type": "display_data"
    }
   ],
   "source": [
    "rcParams['figure.figsize'] = 10,8 ## Sets the heigth and width of image\n",
    "\n",
    "plotMostCommonWords(tweet_trigrams,25,\"Frequent words\",color=\"black\") # plotting the most frequently occurring trigrams"
   ]
  },
  {
   "cell_type": "markdown",
   "metadata": {},
   "source": [
    "london_bridge_attack, brave_member_public, london_bridge_attacker are the most frequently occurring trigrams"
   ]
  },
  {
   "cell_type": "markdown",
   "metadata": {},
   "source": [
    "### Sentiment analysis"
   ]
  },
  {
   "cell_type": "code",
   "execution_count": 58,
   "metadata": {},
   "outputs": [],
   "source": [
    "from vaderSentiment.vaderSentiment import SentimentIntensityAnalyzer\n",
    "analyser = SentimentIntensityAnalyzer()"
   ]
  },
  {
   "cell_type": "markdown",
   "metadata": {},
   "source": [
    "Defining a function which returns the compound score of the sentiment. Using this score, we can calculate the tweet as positive, negative or neutral."
   ]
  },
  {
   "cell_type": "code",
   "execution_count": 59,
   "metadata": {},
   "outputs": [],
   "source": [
    "def sentiment_analyzer_scores(sentence):\n",
    "    score = analyser.polarity_scores(sentence)\n",
    "    return score['compound']"
   ]
  },
  {
   "cell_type": "code",
   "execution_count": 60,
   "metadata": {},
   "outputs": [],
   "source": [
    "tweet['sentiment_score']=tweet['cleaned_tweet'].apply(lambda x:sentiment_analyzer_scores(x))"
   ]
  },
  {
   "cell_type": "code",
   "execution_count": 61,
   "metadata": {},
   "outputs": [
    {
     "data": {
      "text/html": [
       "<div>\n",
       "<style scoped>\n",
       "    .dataframe tbody tr th:only-of-type {\n",
       "        vertical-align: middle;\n",
       "    }\n",
       "\n",
       "    .dataframe tbody tr th {\n",
       "        vertical-align: top;\n",
       "    }\n",
       "\n",
       "    .dataframe thead th {\n",
       "        text-align: right;\n",
       "    }\n",
       "</style>\n",
       "<table border=\"1\" class=\"dataframe\">\n",
       "  <thead>\n",
       "    <tr style=\"text-align: right;\">\n",
       "      <th></th>\n",
       "      <th>datetime</th>\n",
       "      <th>nbr_favorite</th>\n",
       "      <th>nbr_reply</th>\n",
       "      <th>nbr_retweet</th>\n",
       "      <th>text</th>\n",
       "      <th>cleaned_tweet</th>\n",
       "      <th>hashtags</th>\n",
       "      <th>nbr_hashtags</th>\n",
       "      <th>final_tweet</th>\n",
       "      <th>length_tweet</th>\n",
       "      <th>date</th>\n",
       "      <th>hour_of_day</th>\n",
       "      <th>other_hashtags</th>\n",
       "      <th>sentiment_score</th>\n",
       "    </tr>\n",
       "  </thead>\n",
       "  <tbody>\n",
       "    <tr>\n",
       "      <th>987</th>\n",
       "      <td>2019-11-29 22:16:59</td>\n",
       "      <td>2498</td>\n",
       "      <td>41</td>\n",
       "      <td>328</td>\n",
       "      <td>Londoners confirm to be among the bravest people ever. Proud to be a tiny part of this city, which turns into a huge family, when in need.  \\n#LondonBridge  #LondonShooting  #London</td>\n",
       "      <td>Londoners confirm to be among the bravest people ever. Proud to be a tiny part of this city, which turns into a huge family, when in need.</td>\n",
       "      <td>#LondonBridge #LondonShooting #London</td>\n",
       "      <td>3</td>\n",
       "      <td>londoner confirm brave people proud tiny city turn huge family need</td>\n",
       "      <td>144</td>\n",
       "      <td>29</td>\n",
       "      <td>22</td>\n",
       "      <td>#LondonBridge #London</td>\n",
       "      <td>0.8271</td>\n",
       "    </tr>\n",
       "    <tr>\n",
       "      <th>3064</th>\n",
       "      <td>2019-11-30 03:42:16</td>\n",
       "      <td>47</td>\n",
       "      <td>9</td>\n",
       "      <td>37</td>\n",
       "      <td>The attacker was known to police and had links to ISLAMIST TERROR GROUPS. \\n\\nWhilst it might not be all Muslims, this attack was because of Islam and because of Islamic Scripture.\\n\\n7th Century Scripture!!!\\n\\n#LondonShooting \\n#London \\n#LondonBridgeshooting \\n#LondonBridge pic.twitter.com/vQaHVCs98x</td>\n",
       "      <td>The attacker was known to police and had links to ISLAMIST TERROR GROUPS. Whilst it might not be all Muslims, this attack was because of Islam and because of Islamic Scripture.7th Century Scripture!!!</td>\n",
       "      <td>#LondonShooting #London #LondonBridgeshooting #LondonBridge</td>\n",
       "      <td>4</td>\n",
       "      <td>attacker know police link islamist terror group whilst muslims attack islam islamic scripture.7th century scripture</td>\n",
       "      <td>204</td>\n",
       "      <td>30</td>\n",
       "      <td>3</td>\n",
       "      <td>#London #LondonBridgeshooting #LondonBridge</td>\n",
       "      <td>-0.9236</td>\n",
       "    </tr>\n",
       "    <tr>\n",
       "      <th>1885</th>\n",
       "      <td>2019-11-29 23:50:35</td>\n",
       "      <td>21</td>\n",
       "      <td>3</td>\n",
       "      <td>11</td>\n",
       "      <td>A man has been shot dead by police in an attack at London Bridge.\\n\\nThe suspect, who died at the scene, was believed to have been wearing a hoax explosive device, police said.\\n\\n#LondonBridgeshooting  #LondonShooting \\n\\n pic.twitter.com/JhXuB4T4vN</td>\n",
       "      <td>A man has been shot dead by police in an attack at London Bridge.The suspect, who died at the scene, was believed to have been wearing a hoax explosive device, police said.</td>\n",
       "      <td>#LondonBridgeshooting #LondonShooting</td>\n",
       "      <td>2</td>\n",
       "      <td>man shoot dead police attack london bridge.the suspect die scene believe wear hoax explosive device police say</td>\n",
       "      <td>176</td>\n",
       "      <td>29</td>\n",
       "      <td>23</td>\n",
       "      <td>#LondonBridgeshooting</td>\n",
       "      <td>-0.9360</td>\n",
       "    </tr>\n",
       "    <tr>\n",
       "      <th>2466</th>\n",
       "      <td>2019-11-30 01:37:12</td>\n",
       "      <td>0</td>\n",
       "      <td>0</td>\n",
       "      <td>0</td>\n",
       "      <td>London Bridge is not falling down.\\n\\nIdiots are getting double tapped. #LondonBridge  #LondonShooting  #London  #LondonBridgeAttack</td>\n",
       "      <td>London Bridge is not falling down.Idiots are getting double tapped.</td>\n",
       "      <td>#LondonBridge #LondonShooting #London #LondonBridgeAttack</td>\n",
       "      <td>4</td>\n",
       "      <td>london bridge fall down.idiot get double tap</td>\n",
       "      <td>74</td>\n",
       "      <td>30</td>\n",
       "      <td>1</td>\n",
       "      <td>#LondonBridge #London #LondonBridgeAttack</td>\n",
       "      <td>0.1139</td>\n",
       "    </tr>\n",
       "    <tr>\n",
       "      <th>4196</th>\n",
       "      <td>2019-11-30 10:38:09</td>\n",
       "      <td>0</td>\n",
       "      <td>0</td>\n",
       "      <td>0</td>\n",
       "      <td># londonterrorattack \\nThese MF Mohammed's are ruining Global peace. Terror, rape, drugs, crime you name it they are behind it.\\n#Nirbhaya \\n #LondonBridge  #LondonShooting  #HangRapists</td>\n",
       "      <td>These MF Mohammed's are ruining Global peace. Terror, rape, drugs, crime you name it they are behind it.</td>\n",
       "      <td># londonterrorattack #Nirbhaya #LondonBridge #LondonShooting #HangRapists</td>\n",
       "      <td>5</td>\n",
       "      <td>mf mohammed ruin global peace terror rape drug crime</td>\n",
       "      <td>111</td>\n",
       "      <td>30</td>\n",
       "      <td>10</td>\n",
       "      <td># londonterrorattack #Nirbhaya #LondonBridge #HangRapists</td>\n",
       "      <td>-0.8779</td>\n",
       "    </tr>\n",
       "  </tbody>\n",
       "</table>\n",
       "</div>"
      ],
      "text/plain": [
       "                datetime  nbr_favorite  nbr_reply  nbr_retweet  \\\n",
       "987  2019-11-29 22:16:59  2498          41         328           \n",
       "3064 2019-11-30 03:42:16  47            9          37            \n",
       "1885 2019-11-29 23:50:35  21            3          11            \n",
       "2466 2019-11-30 01:37:12  0             0          0             \n",
       "4196 2019-11-30 10:38:09  0             0          0             \n",
       "\n",
       "                                                                                                                                                                                                                                                                                                                  text  \\\n",
       "987   Londoners confirm to be among the bravest people ever. Proud to be a tiny part of this city, which turns into a huge family, when in need.  \\n#LondonBridge  #LondonShooting  #London                                                                                                                              \n",
       "3064  The attacker was known to police and had links to ISLAMIST TERROR GROUPS. \\n\\nWhilst it might not be all Muslims, this attack was because of Islam and because of Islamic Scripture.\\n\\n7th Century Scripture!!!\\n\\n#LondonShooting \\n#London \\n#LondonBridgeshooting \\n#LondonBridge pic.twitter.com/vQaHVCs98x   \n",
       "1885  A man has been shot dead by police in an attack at London Bridge.\\n\\nThe suspect, who died at the scene, was believed to have been wearing a hoax explosive device, police said.\\n\\n#LondonBridgeshooting  #LondonShooting \\n\\n pic.twitter.com/JhXuB4T4vN                                                         \n",
       "2466  London Bridge is not falling down.\\n\\nIdiots are getting double tapped. #LondonBridge  #LondonShooting  #London  #LondonBridgeAttack                                                                                                                                                                               \n",
       "4196  # londonterrorattack \\nThese MF Mohammed's are ruining Global peace. Terror, rape, drugs, crime you name it they are behind it.\\n#Nirbhaya \\n #LondonBridge  #LondonShooting  #HangRapists                                                                                                                         \n",
       "\n",
       "                                                                                                                                                                                                     cleaned_tweet  \\\n",
       "987   Londoners confirm to be among the bravest people ever. Proud to be a tiny part of this city, which turns into a huge family, when in need.                                                                     \n",
       "3064  The attacker was known to police and had links to ISLAMIST TERROR GROUPS. Whilst it might not be all Muslims, this attack was because of Islam and because of Islamic Scripture.7th Century Scripture!!!       \n",
       "1885  A man has been shot dead by police in an attack at London Bridge.The suspect, who died at the scene, was believed to have been wearing a hoax explosive device, police said.                                   \n",
       "2466  London Bridge is not falling down.Idiots are getting double tapped.                                                                                                                                            \n",
       "4196   These MF Mohammed's are ruining Global peace. Terror, rape, drugs, crime you name it they are behind it.                                                                                                      \n",
       "\n",
       "                                                                       hashtags  \\\n",
       "987   #LondonBridge #LondonShooting #London                                       \n",
       "3064  #LondonShooting #London #LondonBridgeshooting #LondonBridge                 \n",
       "1885  #LondonBridgeshooting #LondonShooting                                       \n",
       "2466  #LondonBridge #LondonShooting #London #LondonBridgeAttack                   \n",
       "4196  # londonterrorattack #Nirbhaya #LondonBridge #LondonShooting #HangRapists   \n",
       "\n",
       "      nbr_hashtags  \\\n",
       "987   3              \n",
       "3064  4              \n",
       "1885  2              \n",
       "2466  4              \n",
       "4196  5              \n",
       "\n",
       "                                                                                                              final_tweet  \\\n",
       "987   londoner confirm brave people proud tiny city turn huge family need                                                   \n",
       "3064  attacker know police link islamist terror group whilst muslims attack islam islamic scripture.7th century scripture   \n",
       "1885  man shoot dead police attack london bridge.the suspect die scene believe wear hoax explosive device police say        \n",
       "2466  london bridge fall down.idiot get double tap                                                                          \n",
       "4196  mf mohammed ruin global peace terror rape drug crime                                                                  \n",
       "\n",
       "      length_tweet  date  hour_of_day  \\\n",
       "987   144           29    22            \n",
       "3064  204           30    3             \n",
       "1885  176           29    23            \n",
       "2466  74            30    1             \n",
       "4196  111           30    10            \n",
       "\n",
       "                                                 other_hashtags  \\\n",
       "987   #LondonBridge #London                                       \n",
       "3064   #London #LondonBridgeshooting #LondonBridge                \n",
       "1885  #LondonBridgeshooting                                       \n",
       "2466  #LondonBridge #London #LondonBridgeAttack                   \n",
       "4196  # londonterrorattack #Nirbhaya #LondonBridge #HangRapists   \n",
       "\n",
       "      sentiment_score  \n",
       "987   0.8271           \n",
       "3064 -0.9236           \n",
       "1885 -0.9360           \n",
       "2466  0.1139           \n",
       "4196 -0.8779           "
      ]
     },
     "execution_count": 61,
     "metadata": {},
     "output_type": "execute_result"
    }
   ],
   "source": [
    "tweet.sample(5)"
   ]
  },
  {
   "cell_type": "markdown",
   "metadata": {},
   "source": [
    "Defining a function which returns the sentiment category of the tweet based on the below criterias"
   ]
  },
  {
   "cell_type": "code",
   "execution_count": 62,
   "metadata": {},
   "outputs": [],
   "source": [
    "def sentiment_category(score):\n",
    "    if score >= 0.05:\n",
    "        return \"Positive\"\n",
    "    elif score <= -0.05:\n",
    "        return \"Negative\"\n",
    "    else:\n",
    "        return \"Neutral\""
   ]
  },
  {
   "cell_type": "code",
   "execution_count": 63,
   "metadata": {},
   "outputs": [],
   "source": [
    "tweet['sentiment']=tweet['sentiment_score'].apply(lambda x:sentiment_category(x))"
   ]
  },
  {
   "cell_type": "code",
   "execution_count": 64,
   "metadata": {},
   "outputs": [
    {
     "data": {
      "text/html": [
       "<div>\n",
       "<style scoped>\n",
       "    .dataframe tbody tr th:only-of-type {\n",
       "        vertical-align: middle;\n",
       "    }\n",
       "\n",
       "    .dataframe tbody tr th {\n",
       "        vertical-align: top;\n",
       "    }\n",
       "\n",
       "    .dataframe thead th {\n",
       "        text-align: right;\n",
       "    }\n",
       "</style>\n",
       "<table border=\"1\" class=\"dataframe\">\n",
       "  <thead>\n",
       "    <tr style=\"text-align: right;\">\n",
       "      <th></th>\n",
       "      <th>datetime</th>\n",
       "      <th>nbr_favorite</th>\n",
       "      <th>nbr_reply</th>\n",
       "      <th>nbr_retweet</th>\n",
       "      <th>text</th>\n",
       "      <th>cleaned_tweet</th>\n",
       "      <th>hashtags</th>\n",
       "      <th>nbr_hashtags</th>\n",
       "      <th>final_tweet</th>\n",
       "      <th>length_tweet</th>\n",
       "      <th>date</th>\n",
       "      <th>hour_of_day</th>\n",
       "      <th>other_hashtags</th>\n",
       "      <th>sentiment_score</th>\n",
       "      <th>sentiment</th>\n",
       "    </tr>\n",
       "  </thead>\n",
       "  <tbody>\n",
       "    <tr>\n",
       "      <th>3581</th>\n",
       "      <td>2019-11-30 04:59:48</td>\n",
       "      <td>0</td>\n",
       "      <td>2</td>\n",
       "      <td>0</td>\n",
       "      <td>It is not democratic at all that the police should shoot a subdued person #LondonShooting</td>\n",
       "      <td>It is not democratic at all that the police should shoot a subdued person</td>\n",
       "      <td>#LondonShooting</td>\n",
       "      <td>1</td>\n",
       "      <td>democratic police shoot subdue person</td>\n",
       "      <td>74</td>\n",
       "      <td>30</td>\n",
       "      <td>4</td>\n",
       "      <td></td>\n",
       "      <td>-0.3400</td>\n",
       "      <td>Negative</td>\n",
       "    </tr>\n",
       "    <tr>\n",
       "      <th>117</th>\n",
       "      <td>2019-11-29 21:18:36</td>\n",
       "      <td>0</td>\n",
       "      <td>0</td>\n",
       "      <td>0</td>\n",
       "      <td>Well done to the brave civilians and police who managed to tackle the guy down and for the police officer who shot this scum bag\\n https:// order-order.com/2019/11/29/wat ch-alleged-terrorist-wrestled-shot-london-bridge/   … \\n\\n#LondonShooting  #londonbridge  #London</td>\n",
       "      <td>Well done to the brave civilians and police who managed to tackle the guy down and for the police officer who shot this scum bag</td>\n",
       "      <td></td>\n",
       "      <td>0</td>\n",
       "      <td>brave civilian police manage tackle guy police officer shoot scum bag</td>\n",
       "      <td>129</td>\n",
       "      <td>29</td>\n",
       "      <td>21</td>\n",
       "      <td></td>\n",
       "      <td>0.6705</td>\n",
       "      <td>Positive</td>\n",
       "    </tr>\n",
       "    <tr>\n",
       "      <th>4959</th>\n",
       "      <td>2019-11-30 23:34:48</td>\n",
       "      <td>0</td>\n",
       "      <td>0</td>\n",
       "      <td>0</td>\n",
       "      <td>We need think deep down and find out why these nutters are behaving like this but as usual anyone who takes this line is brand a terrorist sypathiser. \\n\\n#LondonBridgeAttack  \\n#LondonShooting  \\n#London  \\n#londonterrorattack</td>\n",
       "      <td>We need think deep down and find out why these nutters are behaving like this but as usual anyone who takes this line is brand a terrorist sypathiser.</td>\n",
       "      <td>#LondonBridgeAttack #LondonShooting #London #londonterrorattack</td>\n",
       "      <td>4</td>\n",
       "      <td>need think deep find nutter behave like usual take line brand terrorist sypathiser</td>\n",
       "      <td>157</td>\n",
       "      <td>30</td>\n",
       "      <td>23</td>\n",
       "      <td>#LondonBridgeAttack #London #londonterrorattack</td>\n",
       "      <td>-0.7783</td>\n",
       "      <td>Negative</td>\n",
       "    </tr>\n",
       "    <tr>\n",
       "      <th>1575</th>\n",
       "      <td>2019-11-29 23:01:50</td>\n",
       "      <td>5</td>\n",
       "      <td>0</td>\n",
       "      <td>0</td>\n",
       "      <td>Thoughts are with all involved in the #LondonShooting  hats off to the MOP that challenged the individual and also thought with the @MPSFirearms  officer that had to pull the trigger and deal with the aftermath. @LAS_JRU  @Ldn_Ambulance  hope all staff are ok as well #team999</td>\n",
       "      <td>Thoughts are with all involved in the   hats off to the MOP that challenged the individual and also thought with the   officer that had to pull the trigger and deal with the aftermath.     hope all staff are ok as well</td>\n",
       "      <td>#LondonShooting #team999</td>\n",
       "      <td>2</td>\n",
       "      <td>thought involve hat mop challenge individual think officer pull trigger deal aftermath hope staff ok</td>\n",
       "      <td>219</td>\n",
       "      <td>29</td>\n",
       "      <td>23</td>\n",
       "      <td>#team999</td>\n",
       "      <td>0.7003</td>\n",
       "      <td>Positive</td>\n",
       "    </tr>\n",
       "    <tr>\n",
       "      <th>2955</th>\n",
       "      <td>2019-11-30 03:12:25</td>\n",
       "      <td>1</td>\n",
       "      <td>2</td>\n",
       "      <td>0</td>\n",
       "      <td>Let me guess, a extinction rebellion supporter #LondonShooting  #AboutTime  #policedidgood</td>\n",
       "      <td>Let me guess, a extinction rebellion supporter</td>\n",
       "      <td>#LondonShooting #AboutTime #policedidgood</td>\n",
       "      <td>3</td>\n",
       "      <td>let guess extinction rebellion supporter</td>\n",
       "      <td>51</td>\n",
       "      <td>30</td>\n",
       "      <td>3</td>\n",
       "      <td>#AboutTime #policedidgood</td>\n",
       "      <td>0.1531</td>\n",
       "      <td>Positive</td>\n",
       "    </tr>\n",
       "  </tbody>\n",
       "</table>\n",
       "</div>"
      ],
      "text/plain": [
       "                datetime  nbr_favorite  nbr_reply  nbr_retweet  \\\n",
       "3581 2019-11-30 04:59:48  0             2          0             \n",
       "117  2019-11-29 21:18:36  0             0          0             \n",
       "4959 2019-11-30 23:34:48  0             0          0             \n",
       "1575 2019-11-29 23:01:50  5             0          0             \n",
       "2955 2019-11-30 03:12:25  1             2          0             \n",
       "\n",
       "                                                                                                                                                                                                                                                                                      text  \\\n",
       "3581  It is not democratic at all that the police should shoot a subdued person #LondonShooting                                                                                                                                                                                              \n",
       "117   Well done to the brave civilians and police who managed to tackle the guy down and for the police officer who shot this scum bag\\n https:// order-order.com/2019/11/29/wat ch-alleged-terrorist-wrestled-shot-london-bridge/   … \\n\\n#LondonShooting  #londonbridge  #London           \n",
       "4959  We need think deep down and find out why these nutters are behaving like this but as usual anyone who takes this line is brand a terrorist sypathiser. \\n\\n#LondonBridgeAttack  \\n#LondonShooting  \\n#London  \\n#londonterrorattack                                                    \n",
       "1575  Thoughts are with all involved in the #LondonShooting  hats off to the MOP that challenged the individual and also thought with the @MPSFirearms  officer that had to pull the trigger and deal with the aftermath. @LAS_JRU  @Ldn_Ambulance  hope all staff are ok as well #team999   \n",
       "2955  Let me guess, a extinction rebellion supporter #LondonShooting  #AboutTime  #policedidgood                                                                                                                                                                                             \n",
       "\n",
       "                                                                                                                                                                                                                    cleaned_tweet  \\\n",
       "3581  It is not democratic at all that the police should shoot a subdued person                                                                                                                                                     \n",
       "117   Well done to the brave civilians and police who managed to tackle the guy down and for the police officer who shot this scum bag                                                                                              \n",
       "4959  We need think deep down and find out why these nutters are behaving like this but as usual anyone who takes this line is brand a terrorist sypathiser.                                                                        \n",
       "1575  Thoughts are with all involved in the   hats off to the MOP that challenged the individual and also thought with the   officer that had to pull the trigger and deal with the aftermath.     hope all staff are ok as well    \n",
       "2955  Let me guess, a extinction rebellion supporter                                                                                                                                                                                \n",
       "\n",
       "                                                             hashtags  \\\n",
       "3581  #LondonShooting                                                   \n",
       "117                                                                     \n",
       "4959  #LondonBridgeAttack #LondonShooting #London #londonterrorattack   \n",
       "1575  #LondonShooting #team999                                          \n",
       "2955  #LondonShooting #AboutTime #policedidgood                         \n",
       "\n",
       "      nbr_hashtags  \\\n",
       "3581  1              \n",
       "117   0              \n",
       "4959  4              \n",
       "1575  2              \n",
       "2955  3              \n",
       "\n",
       "                                                                                               final_tweet  \\\n",
       "3581  democratic police shoot subdue person                                                                  \n",
       "117   brave civilian police manage tackle guy police officer shoot scum bag                                  \n",
       "4959  need think deep find nutter behave like usual take line brand terrorist sypathiser                     \n",
       "1575  thought involve hat mop challenge individual think officer pull trigger deal aftermath hope staff ok   \n",
       "2955  let guess extinction rebellion supporter                                                               \n",
       "\n",
       "      length_tweet  date  hour_of_day  \\\n",
       "3581  74            30    4             \n",
       "117   129           29    21            \n",
       "4959  157           30    23            \n",
       "1575  219           29    23            \n",
       "2955  51            30    3             \n",
       "\n",
       "                                       other_hashtags  sentiment_score  \\\n",
       "3581                                                  -0.3400            \n",
       "117                                                    0.6705            \n",
       "4959  #LondonBridgeAttack #London #londonterrorattack -0.7783            \n",
       "1575   #team999                                        0.7003            \n",
       "2955   #AboutTime #policedidgood                       0.1531            \n",
       "\n",
       "     sentiment  \n",
       "3581  Negative  \n",
       "117   Positive  \n",
       "4959  Negative  \n",
       "1575  Positive  \n",
       "2955  Positive  "
      ]
     },
     "execution_count": 64,
     "metadata": {},
     "output_type": "execute_result"
    }
   ],
   "source": [
    "tweet.sample(5)"
   ]
  },
  {
   "cell_type": "code",
   "execution_count": 65,
   "metadata": {},
   "outputs": [
    {
     "data": {
      "text/plain": [
       "Negative    2872\n",
       "Positive    1586\n",
       "Neutral     796 \n",
       "Name: sentiment, dtype: int64"
      ]
     },
     "execution_count": 65,
     "metadata": {},
     "output_type": "execute_result"
    }
   ],
   "source": [
    "tweet['sentiment'].value_counts() "
   ]
  },
  {
   "cell_type": "markdown",
   "metadata": {},
   "source": [
    "The most number of tweets have negative sentiments"
   ]
  },
  {
   "cell_type": "markdown",
   "metadata": {},
   "source": [
    "#### Plotting the distribution of number of tweets over the hours, separately for positive, negative and neutral tweets"
   ]
  },
  {
   "cell_type": "code",
   "execution_count": 66,
   "metadata": {},
   "outputs": [
    {
     "data": {
      "image/png": "[encoded data removed]",
      "text/plain": [
       "<Figure size 720x576 with 1 Axes>"
      ]
     },
     "metadata": {
      "needs_background": "light"
     },
     "output_type": "display_data"
    }
   ],
   "source": [
    "sns.kdeplot(tweet.loc[tweet['sentiment']==\"Positive\",\"hour_of_day\"],label='Positive');\n",
    "sns.kdeplot(tweet.loc[tweet['sentiment']==\"Negative\",\"hour_of_day\"],label='Negative');\n",
    "sns.kdeplot(tweet.loc[tweet['sentiment']==\"Neutral\",\"hour_of_day\"],label='Neutral');\n",
    "\n",
    "# beautifying the labels\n",
    "plt.xlabel('Hour of the day')\n",
    "plt.ylabel('Density')\n",
    "plt.show()"
   ]
  },
  {
   "cell_type": "markdown",
   "metadata": {},
   "source": [
    "Plotting the distribution of tweets category"
   ]
  },
  {
   "cell_type": "code",
   "execution_count": 67,
   "metadata": {},
   "outputs": [
    {
     "data": {
      "text/plain": [
       "Text(0.5, 1.0, 'Distribution of Tweets Category')"
      ]
     },
     "execution_count": 67,
     "metadata": {},
     "output_type": "execute_result"
    },
    {
     "data": {
      "image/png": "[encoded data removed]",
      "text/plain": [
       "<Figure size 720x576 with 1 Axes>"
      ]
     },
     "metadata": {
      "needs_background": "light"
     },
     "output_type": "display_data"
    }
   ],
   "source": [
    "sns.countplot(tweet['sentiment']).set_title(\"Distribution of Tweets Category\")"
   ]
  },
  {
   "cell_type": "code",
   "execution_count": 68,
   "metadata": {},
   "outputs": [],
   "source": [
    "positive_tweets=tweet.loc[tweet['sentiment']=='Positive','final_tweet'].tolist() # extracting only the positive tweets and putting in a list"
   ]
  },
  {
   "cell_type": "code",
   "execution_count": 69,
   "metadata": {},
   "outputs": [],
   "source": [
    "negative_tweets=tweet.loc[tweet['sentiment']=='Negative','final_tweet'].tolist() # extracting only the negative tweets and putting in a list"
   ]
  },
  {
   "cell_type": "markdown",
   "metadata": {},
   "source": [
    "Creating bigrams for both positive and negative tweets"
   ]
  },
  {
   "cell_type": "code",
   "execution_count": 70,
   "metadata": {},
   "outputs": [],
   "source": [
    "positive_tweets_bigrams=[\" \".join(generateNGram(review,2)) for review in positive_tweets]\n",
    "negative_tweets_bigrams=[\" \".join(generateNGram(review,2)) for review in negative_tweets]"
   ]
  },
  {
   "cell_type": "code",
   "execution_count": 71,
   "metadata": {},
   "outputs": [
    {
     "data": {
      "image/png": "[encoded data removed]",
      "text/plain": [
       "<Figure size 1080x1440 with 2 Axes>"
      ]
     },
     "metadata": {
      "needs_background": "light"
     },
     "output_type": "display_data"
    }
   ],
   "source": [
    "rcParams['figure.figsize'] = 15,20\n",
    "fig,ax=plt.subplots(1,2)\n",
    "fig.subplots_adjust(wspace=1) #Adjusts the space between the two plots\n",
    "plotMostCommonWords(positive_tweets_bigrams,25,\"Positive Tweet Bigrams\",axis=ax[0])\n",
    "# plotting both most frequently positive and negative bigrams\n",
    "plotMostCommonWords(negative_tweets_bigrams,25,\"Negative Tweet Bigrams\",color=\"red\",axis=ax[1])"
   ]
  },
  {
   "cell_type": "markdown",
   "metadata": {},
   "source": [
    "Creating trigrams for both positive and negative tweets"
   ]
  },
  {
   "cell_type": "code",
   "execution_count": 72,
   "metadata": {},
   "outputs": [],
   "source": [
    "positive_tweets_trigrams=[\" \".join(generateNGram(review,3)) for review in positive_tweets]\n",
    "negative_tweets_trigrams=[\" \".join(generateNGram(review,3)) for review in negative_tweets]"
   ]
  },
  {
   "cell_type": "code",
   "execution_count": 73,
   "metadata": {},
   "outputs": [
    {
     "data": {
      "image/png": "[encoded data removed]",
      "text/plain": [
       "<Figure size 1080x1440 with 2 Axes>"
      ]
     },
     "metadata": {
      "needs_background": "light"
     },
     "output_type": "display_data"
    }
   ],
   "source": [
    "rcParams['figure.figsize'] = 15,20\n",
    "fig,ax=plt.subplots(1,2)\n",
    "fig.subplots_adjust(wspace=1) #Adjusts the space between the two plots\n",
    "plotMostCommonWords(positive_tweets_trigrams,25,\"Positive Tweet Trigrams\",axis=ax[0])\n",
    "# plotting both most frequently positive and negative trigrams\n",
    "plotMostCommonWords(negative_tweets_trigrams,25,\"Negative Tweet Trigrams\",color=\"red\",axis=ax[1])"
   ]
  },
  {
   "cell_type": "markdown",
   "metadata": {},
   "source": [
    "### Topic Modelling"
   ]
  },
  {
   "cell_type": "markdown",
   "metadata": {},
   "source": [
    "Defining a function to extract all the adjectives and nouns from the tweets"
   ]
  },
  {
   "cell_type": "code",
   "execution_count": 74,
   "metadata": {},
   "outputs": [],
   "source": [
    "def extract_adj_nouns(text):\n",
    "    document=nlp(text)\n",
    "    adj_nouns=[token for token in document if (token.text not in stopwords) and token.pos_ in [\"ADJ\",\"NOUN\"]] # extract only adjectives and nouns\n",
    "    extracted = ' '.join([str(elem) for elem in adj_nouns]) # joining the words back to form a string\n",
    "    return extracted"
   ]
  },
  {
   "cell_type": "code",
   "execution_count": 75,
   "metadata": {},
   "outputs": [],
   "source": [
    "tweet['noun_adj_tweet']=tweet['cleaned_tweet'].apply(lambda x:extract_adj_nouns(x))"
   ]
  },
  {
   "cell_type": "code",
   "execution_count": 76,
   "metadata": {},
   "outputs": [
    {
     "data": {
      "text/html": [
       "<div>\n",
       "<style scoped>\n",
       "    .dataframe tbody tr th:only-of-type {\n",
       "        vertical-align: middle;\n",
       "    }\n",
       "\n",
       "    .dataframe tbody tr th {\n",
       "        vertical-align: top;\n",
       "    }\n",
       "\n",
       "    .dataframe thead th {\n",
       "        text-align: right;\n",
       "    }\n",
       "</style>\n",
       "<table border=\"1\" class=\"dataframe\">\n",
       "  <thead>\n",
       "    <tr style=\"text-align: right;\">\n",
       "      <th></th>\n",
       "      <th>datetime</th>\n",
       "      <th>nbr_favorite</th>\n",
       "      <th>nbr_reply</th>\n",
       "      <th>nbr_retweet</th>\n",
       "      <th>text</th>\n",
       "      <th>cleaned_tweet</th>\n",
       "      <th>hashtags</th>\n",
       "      <th>nbr_hashtags</th>\n",
       "      <th>final_tweet</th>\n",
       "      <th>length_tweet</th>\n",
       "      <th>date</th>\n",
       "      <th>hour_of_day</th>\n",
       "      <th>other_hashtags</th>\n",
       "      <th>sentiment_score</th>\n",
       "      <th>sentiment</th>\n",
       "      <th>noun_adj_tweet</th>\n",
       "    </tr>\n",
       "  </thead>\n",
       "  <tbody>\n",
       "    <tr>\n",
       "      <th>2032</th>\n",
       "      <td>2019-11-30 00:27:07</td>\n",
       "      <td>2</td>\n",
       "      <td>0</td>\n",
       "      <td>0</td>\n",
       "      <td>Some real heroes in our capital today, both in and out of the police force. Truly inspiring. #LondonShooting</td>\n",
       "      <td>Some real heroes in our capital today, both in and out of the police force. Truly inspiring.</td>\n",
       "      <td>#LondonShooting</td>\n",
       "      <td>1</td>\n",
       "      <td>real hero capital today police force truly inspiring</td>\n",
       "      <td>93</td>\n",
       "      <td>30</td>\n",
       "      <td>0</td>\n",
       "      <td></td>\n",
       "      <td>0.8402</td>\n",
       "      <td>Positive</td>\n",
       "      <td>real heroes capital today police force inspiring</td>\n",
       "    </tr>\n",
       "    <tr>\n",
       "      <th>3042</th>\n",
       "      <td>2019-11-30 03:36:54</td>\n",
       "      <td>0</td>\n",
       "      <td>0</td>\n",
       "      <td>0</td>\n",
       "      <td>This guy for prime minister please #LondonBridge  #LondonShooting  #LondonBridgeAttack https:// twitter.com/colinmichaei/s tatus/1200424783395139584   …</td>\n",
       "      <td>This guy for prime minister please</td>\n",
       "      <td>#LondonBridge #LondonShooting #LondonBridgeAttack</td>\n",
       "      <td>3</td>\n",
       "      <td>guy prime minister</td>\n",
       "      <td>40</td>\n",
       "      <td>30</td>\n",
       "      <td>3</td>\n",
       "      <td>#LondonBridge #LondonBridgeAttack</td>\n",
       "      <td>0.3182</td>\n",
       "      <td>Positive</td>\n",
       "      <td>guy</td>\n",
       "    </tr>\n",
       "    <tr>\n",
       "      <th>631</th>\n",
       "      <td>2019-11-29 21:52:34</td>\n",
       "      <td>1</td>\n",
       "      <td>3</td>\n",
       "      <td>0</td>\n",
       "      <td>Was on #LondonBridge  Northern Line platform when many phones pinged with BBC notification of gunshots being heard. Seconds later a tube announcement was made of major incident and trains stopping. Scariest thing I've been through, not knowing where #LondonShooting  was exactly.</td>\n",
       "      <td>Was on   Northern Line platform when many phones pinged with BBC notification of gunshots being heard. Seconds later a tube announcement was made of major incident and trains stopping. Scariest thing I've been through, not knowing where   was exactly.</td>\n",
       "      <td>#LondonBridge #LondonShooting</td>\n",
       "      <td>2</td>\n",
       "      <td>northern line platform phone ping bbc notification gunshot hear second later tube announcement major incident train stop scary thing know exactly</td>\n",
       "      <td>251</td>\n",
       "      <td>29</td>\n",
       "      <td>21</td>\n",
       "      <td>#LondonBridge</td>\n",
       "      <td>-0.1531</td>\n",
       "      <td>Negative</td>\n",
       "      <td>platform phones notification gunshots Seconds tube announcement major incident trains Scariest thing</td>\n",
       "    </tr>\n",
       "    <tr>\n",
       "      <th>2574</th>\n",
       "      <td>2019-11-30 01:54:00</td>\n",
       "      <td>2</td>\n",
       "      <td>0</td>\n",
       "      <td>0</td>\n",
       "      <td>Perhaps next time a suicide bomber decides to attack. Maybe cuddle him and express Loving thoughts. That should do the job....\\n#LondonShooting  #LondonBridgeAttack  #welldonemetpolice  #Heroes  #MetPolice</td>\n",
       "      <td>Perhaps next time a suicide bomber decides to attack. Maybe cuddle him and express Loving thoughts. That should do the job....</td>\n",
       "      <td>#LondonShooting #LondonBridgeAttack #welldonemetpolice #Heroes #MetPolice</td>\n",
       "      <td>5</td>\n",
       "      <td>time suicide bomber decide attack maybe cuddle express love thought job</td>\n",
       "      <td>134</td>\n",
       "      <td>30</td>\n",
       "      <td>1</td>\n",
       "      <td>#LondonBridgeAttack #welldonemetpolice #Heroes #MetPolice</td>\n",
       "      <td>-0.5719</td>\n",
       "      <td>Negative</td>\n",
       "      <td>time suicide bomber thoughts job</td>\n",
       "    </tr>\n",
       "    <tr>\n",
       "      <th>391</th>\n",
       "      <td>2019-11-29 21:37:59</td>\n",
       "      <td>1</td>\n",
       "      <td>1</td>\n",
       "      <td>1</td>\n",
       "      <td>Good news for Boris. Terror in London is a great way to increase the Conservative vote. Fear is the biggest motivator. #LondonShooting  #GE2019</td>\n",
       "      <td>Good news for Boris. Terror in London is a great way to increase the Conservative vote. Fear is the biggest motivator.</td>\n",
       "      <td>#LondonShooting #GE2019</td>\n",
       "      <td>2</td>\n",
       "      <td>good news boris terror london great way increase conservative vote fear big motivator</td>\n",
       "      <td>121</td>\n",
       "      <td>29</td>\n",
       "      <td>21</td>\n",
       "      <td>#GE2019</td>\n",
       "      <td>0.4019</td>\n",
       "      <td>Positive</td>\n",
       "      <td>Good news Terror great way Conservative vote Fear biggest motivator</td>\n",
       "    </tr>\n",
       "  </tbody>\n",
       "</table>\n",
       "</div>"
      ],
      "text/plain": [
       "                datetime  nbr_favorite  nbr_reply  nbr_retweet  \\\n",
       "2032 2019-11-30 00:27:07  2             0          0             \n",
       "3042 2019-11-30 03:36:54  0             0          0             \n",
       "631  2019-11-29 21:52:34  1             3          0             \n",
       "2574 2019-11-30 01:54:00  2             0          0             \n",
       "391  2019-11-29 21:37:59  1             1          1             \n",
       "\n",
       "                                                                                                                                                                                                                                                                                         text  \\\n",
       "2032  Some real heroes in our capital today, both in and out of the police force. Truly inspiring. #LondonShooting                                                                                                                                                                              \n",
       "3042  This guy for prime minister please #LondonBridge  #LondonShooting  #LondonBridgeAttack https:// twitter.com/colinmichaei/s tatus/1200424783395139584   …                                                                                                                                  \n",
       "631   Was on #LondonBridge  Northern Line platform when many phones pinged with BBC notification of gunshots being heard. Seconds later a tube announcement was made of major incident and trains stopping. Scariest thing I've been through, not knowing where #LondonShooting  was exactly.   \n",
       "2574  Perhaps next time a suicide bomber decides to attack. Maybe cuddle him and express Loving thoughts. That should do the job....\\n#LondonShooting  #LondonBridgeAttack  #welldonemetpolice  #Heroes  #MetPolice                                                                             \n",
       "391   Good news for Boris. Terror in London is a great way to increase the Conservative vote. Fear is the biggest motivator. #LondonShooting  #GE2019                                                                                                                                           \n",
       "\n",
       "                                                                                                                                                                                                                                                    cleaned_tweet  \\\n",
       "2032  Some real heroes in our capital today, both in and out of the police force. Truly inspiring.                                                                                                                                                                  \n",
       "3042  This guy for prime minister please                                                                                                                                                                                                                            \n",
       "631   Was on   Northern Line platform when many phones pinged with BBC notification of gunshots being heard. Seconds later a tube announcement was made of major incident and trains stopping. Scariest thing I've been through, not knowing where   was exactly.   \n",
       "2574  Perhaps next time a suicide bomber decides to attack. Maybe cuddle him and express Loving thoughts. That should do the job....                                                                                                                                \n",
       "391   Good news for Boris. Terror in London is a great way to increase the Conservative vote. Fear is the biggest motivator.                                                                                                                                        \n",
       "\n",
       "                                                                       hashtags  \\\n",
       "2032  #LondonShooting                                                             \n",
       "3042  #LondonBridge #LondonShooting #LondonBridgeAttack                           \n",
       "631   #LondonBridge #LondonShooting                                               \n",
       "2574  #LondonShooting #LondonBridgeAttack #welldonemetpolice #Heroes #MetPolice   \n",
       "391   #LondonShooting #GE2019                                                     \n",
       "\n",
       "      nbr_hashtags  \\\n",
       "2032  1              \n",
       "3042  3              \n",
       "631   2              \n",
       "2574  5              \n",
       "391   2              \n",
       "\n",
       "                                                                                                                                            final_tweet  \\\n",
       "2032  real hero capital today police force truly inspiring                                                                                                \n",
       "3042  guy prime minister                                                                                                                                  \n",
       "631   northern line platform phone ping bbc notification gunshot hear second later tube announcement major incident train stop scary thing know exactly   \n",
       "2574  time suicide bomber decide attack maybe cuddle express love thought job                                                                             \n",
       "391   good news boris terror london great way increase conservative vote fear big motivator                                                               \n",
       "\n",
       "      length_tweet  date  hour_of_day  \\\n",
       "2032  93            30    0             \n",
       "3042  40            30    3             \n",
       "631   251           29    21            \n",
       "2574  134           30    1             \n",
       "391   121           29    21            \n",
       "\n",
       "                                                  other_hashtags  \\\n",
       "2032                                                               \n",
       "3042  #LondonBridge #LondonBridgeAttack                            \n",
       "631   #LondonBridge                                                \n",
       "2574   #LondonBridgeAttack #welldonemetpolice #Heroes #MetPolice   \n",
       "391    #GE2019                                                     \n",
       "\n",
       "      sentiment_score sentiment  \\\n",
       "2032  0.8402           Positive   \n",
       "3042  0.3182           Positive   \n",
       "631  -0.1531           Negative   \n",
       "2574 -0.5719           Negative   \n",
       "391   0.4019           Positive   \n",
       "\n",
       "                                                                                            noun_adj_tweet  \n",
       "2032  real heroes capital today police force inspiring                                                      \n",
       "3042  guy                                                                                                   \n",
       "631   platform phones notification gunshots Seconds tube announcement major incident trains Scariest thing  \n",
       "2574  time suicide bomber thoughts job                                                                      \n",
       "391   Good news Terror great way Conservative vote Fear biggest motivator                                   "
      ]
     },
     "execution_count": 76,
     "metadata": {},
     "output_type": "execute_result"
    }
   ],
   "source": [
    "tweet.sample(5)"
   ]
  },
  {
   "cell_type": "code",
   "execution_count": 77,
   "metadata": {},
   "outputs": [],
   "source": [
    "import gensim\n",
    "from gensim import corpora"
   ]
  },
  {
   "cell_type": "code",
   "execution_count": 78,
   "metadata": {},
   "outputs": [],
   "source": [
    "corpus=tweet['noun_adj_tweet'].tolist()"
   ]
  },
  {
   "cell_type": "code",
   "execution_count": 79,
   "metadata": {},
   "outputs": [
    {
     "data": {
      "text/plain": [
       "['reports gunfire londonbridge',\n",
       " 'careful',\n",
       " 'Unconfirmed reports shooting',\n",
       " 'Video eyewitness',\n",
       " 'friendly reminder',\n",
       " 'news outlets people area']"
      ]
     },
     "execution_count": 79,
     "metadata": {},
     "output_type": "execute_result"
    }
   ],
   "source": [
    "corpus[:6]"
   ]
  },
  {
   "cell_type": "markdown",
   "metadata": {},
   "source": [
    "#### To create term dictionary, we must have the string tokenised"
   ]
  },
  {
   "cell_type": "code",
   "execution_count": 80,
   "metadata": {},
   "outputs": [
    {
     "data": {
      "text/plain": [
       "[['reports', 'gunfire', 'londonbridge'],\n",
       " ['careful'],\n",
       " ['Unconfirmed', 'reports', 'shooting'],\n",
       " ['Video', 'eyewitness'],\n",
       " ['friendly', 'reminder'],\n",
       " ['news', 'outlets', 'people', 'area'],\n",
       " ['incident', 'reports', 'live', 'news']]"
      ]
     },
     "execution_count": 80,
     "metadata": {},
     "output_type": "execute_result"
    }
   ],
   "source": [
    "tokenised_corpus=[]\n",
    "for corp in corpus:\n",
    "    tokenised_corpus.append([token for token in corp.split(\" \")])\n",
    "tokenised_corpus[:7]"
   ]
  },
  {
   "cell_type": "code",
   "execution_count": 81,
   "metadata": {},
   "outputs": [],
   "source": [
    "dictionary = corpora.Dictionary(tokenised_corpus)"
   ]
  },
  {
   "cell_type": "code",
   "execution_count": 82,
   "metadata": {},
   "outputs": [
    {
     "data": {
      "text/plain": [
       "5386"
      ]
     },
     "execution_count": 82,
     "metadata": {},
     "output_type": "execute_result"
    }
   ],
   "source": [
    "len(dictionary)"
   ]
  },
  {
   "cell_type": "code",
   "execution_count": 83,
   "metadata": {},
   "outputs": [],
   "source": [
    "doc_term_matrix = [dictionary.doc2bow(rev) for rev in tokenised_corpus] # words with number oftimes they occur in the document"
   ]
  },
  {
   "cell_type": "markdown",
   "metadata": {},
   "source": [
    "#### Creating the object for LDA model using gensim library"
   ]
  },
  {
   "cell_type": "code",
   "execution_count": 84,
   "metadata": {},
   "outputs": [],
   "source": [
    "LDA = gensim.models.ldamodel.LdaModel\n",
    "\n",
    "# Build LDA model\n",
    "lda_model = LDA(corpus=doc_term_matrix, id2word=dictionary, num_topics=4, random_state=100,\n",
    "                chunksize=750, passes=50) # number of topics is kept as 4"
   ]
  },
  {
   "cell_type": "code",
   "execution_count": 85,
   "metadata": {},
   "outputs": [
    {
     "data": {
      "text/plain": [
       "[(0,\n",
       "  '0.071*\"police\" + 0.061*\"knife\" + 0.054*\"attack\" + 0.054*\"British\" + 0.036*\"incident\" + 0.034*\"man\" + 0.034*\"attacker\" + 0.031*\"terrorist\" + 0.027*\"heart\" + 0.025*\"capital\"'),\n",
       " (1,\n",
       "  '0.038*\"people\" + 0.029*\"today\" + 0.025*\"public\" + 0.025*\"\" + 0.024*\"terrorist\" + 0.023*\"police\" + 0.012*\"brave\" + 0.011*\"vest\" + 0.011*\"lives\" + 0.011*\"innocent\"'),\n",
       " (2,\n",
       "  '0.044*\"terrorists\" + 0.031*\"system\" + 0.031*\"risk\" + 0.031*\"hate\" + 0.029*\"street\" + 0.028*\"sympathies\" + 0.028*\"intention\" + 0.028*\"division\" + 0.028*\"son\" + 0.028*\"Sorry\"'),\n",
       " (3,\n",
       "  '0.053*\"people\" + 0.033*\"poor\" + 0.032*\"choice\" + 0.032*\"sense\" + 0.032*\"training\" + 0.032*\"common\" + 0.031*\"tips\" + 0.031*\"online\" + 0.031*\"yo\" + 0.031*\"cust\"')]"
      ]
     },
     "execution_count": 85,
     "metadata": {},
     "output_type": "execute_result"
    }
   ],
   "source": [
    "lda_model.print_topics() # printing the topics and the keywords under the topics"
   ]
  },
  {
   "cell_type": "code",
   "execution_count": 86,
   "metadata": {},
   "outputs": [],
   "source": [
    "import pyLDAvis\n",
    "import pyLDAvis.gensim"
   ]
  },
  {
   "cell_type": "code",
   "execution_count": 87,
   "metadata": {},
   "outputs": [
    {
     "name": "stderr",
     "output_type": "stream",
     "text": [
      "C:\\Users\\Pom\\Anaconda3\\lib\\site-packages\\pyLDAvis\\_prepare.py:257: FutureWarning: Sorting because non-concatenation axis is not aligned. A future version\n",
      "of pandas will change to not sort by default.\n",
      "\n",
      "To accept the future behavior, pass 'sort=False'.\n",
      "\n",
      "To retain the current behavior and silence the warning, pass 'sort=True'.\n",
      "\n",
      "  return pd.concat([default_term_info] + list(topic_dfs))\n"
     ]
    },
    {
     "data": {
      "text/html": [
       "\n",
       "<link rel=\"stylesheet\" type=\"text/css\" href=\"https://cdn.rawgit.com/bmabey/pyLDAvis/files/ldavis.v1.0.0.css\">\n",
       "\n",
       "\n",
       "<div id=\"ldavis_el630027287840292804813698366\"></div>\n",
       "<script type=\"text/javascript\">\n",
       "\n",
       "var ldavis_el630027287840292804813698366_data = {\"mdsDat\": {\"x\": [-0.10173511089952464, -0.25916732805102705, 0.2334903926376945, 0.1274120463128571], \"y\": [0.1068014737241476, -0.12149473815208893, -0.2120518140853645, 0.22674507851330603], \"topics\": [1, 2, 3, 4], \"cluster\": [1, 1, 1, 1], \"Freq\": [40.908695220947266, 24.10029411315918, 18.01398468017578, 16.977027893066406]}, \"tinfo\": {\"Category\": [\"Default\", \"Default\", \"Default\", \"Default\", \"Default\", \"Default\", \"Default\", \"Default\", \"Default\", \"Default\", \"Default\", \"Default\", \"Default\", \"Default\", \"Default\", \"Default\", \"Default\", \"Default\", \"Default\", \"Default\", \"Default\", \"Default\", \"Default\", \"Default\", \"Default\", \"Default\", \"Default\", \"Default\", \"Default\", \"Default\", \"Topic1\", \"Topic1\", \"Topic1\", \"Topic1\", \"Topic1\", \"Topic1\", \"Topic1\", \"Topic1\", \"Topic1\", \"Topic1\", \"Topic1\", \"Topic1\", \"Topic1\", \"Topic1\", \"Topic1\", \"Topic1\", \"Topic1\", \"Topic1\", \"Topic1\", \"Topic1\", \"Topic1\", \"Topic1\", \"Topic1\", \"Topic1\", \"Topic1\", \"Topic1\", \"Topic1\", \"Topic1\", \"Topic1\", \"Topic1\", \"Topic1\", \"Topic1\", \"Topic1\", \"Topic1\", \"Topic1\", \"Topic1\", \"Topic1\", \"Topic1\", \"Topic1\", \"Topic1\", \"Topic2\", \"Topic2\", \"Topic2\", \"Topic2\", \"Topic2\", \"Topic2\", \"Topic2\", \"Topic2\", \"Topic2\", \"Topic2\", \"Topic2\", \"Topic2\", \"Topic2\", \"Topic2\", \"Topic2\", \"Topic2\", \"Topic2\", \"Topic2\", \"Topic2\", \"Topic2\", \"Topic2\", \"Topic2\", \"Topic2\", \"Topic2\", \"Topic2\", \"Topic2\", \"Topic2\", \"Topic2\", \"Topic2\", \"Topic2\", \"Topic2\", \"Topic2\", \"Topic2\", \"Topic2\", \"Topic2\", \"Topic2\", \"Topic2\", \"Topic2\", \"Topic2\", \"Topic2\", \"Topic2\", \"Topic2\", \"Topic2\", \"Topic2\", \"Topic3\", \"Topic3\", \"Topic3\", \"Topic3\", \"Topic3\", \"Topic3\", \"Topic3\", \"Topic3\", \"Topic3\", \"Topic3\", \"Topic3\", \"Topic3\", \"Topic3\", \"Topic3\", \"Topic3\", \"Topic3\", \"Topic3\", \"Topic3\", \"Topic3\", \"Topic3\", \"Topic3\", \"Topic3\", \"Topic3\", \"Topic3\", \"Topic3\", \"Topic3\", \"Topic3\", \"Topic3\", \"Topic3\", \"Topic3\", \"Topic3\", \"Topic3\", \"Topic3\", \"Topic3\", \"Topic3\", \"Topic3\", \"Topic4\", \"Topic4\", \"Topic4\", \"Topic4\", \"Topic4\", \"Topic4\", \"Topic4\", \"Topic4\", \"Topic4\", \"Topic4\", \"Topic4\", \"Topic4\", \"Topic4\", \"Topic4\", \"Topic4\", \"Topic4\", \"Topic4\", \"Topic4\", \"Topic4\", \"Topic4\", \"Topic4\", \"Topic4\", \"Topic4\", \"Topic4\", \"Topic4\", \"Topic4\", \"Topic4\", \"Topic4\", \"Topic4\", \"Topic4\", \"Topic4\", \"Topic4\", \"Topic4\", \"Topic4\", \"Topic4\", \"Topic4\", \"Topic4\", \"Topic4\"], \"Freq\": [435.0, 792.0, 388.0, 386.0, 732.0, 233.0, 259.0, 355.0, 273.0, 166.0, 163.0, 163.0, 335.0, 167.0, 161.0, 160.0, 166.0, 164.0, 155.0, 155.0, 154.0, 154.0, 154.0, 154.0, 191.0, 156.0, 301.0, 298.0, 151.0, 151.0, 354.6131896972656, 298.5033874511719, 300.72442626953125, 150.5321502685547, 136.334716796875, 137.5562286376953, 132.3250732421875, 126.04324340820312, 123.17048645019531, 103.71163940429688, 104.09172821044922, 91.18354797363281, 82.80193328857422, 82.50450897216797, 82.1213607788086, 78.67601776123047, 79.55268859863281, 73.46212768554688, 66.75316619873047, 68.17483520507812, 66.72750091552734, 63.547706604003906, 60.78229904174805, 60.45597839355469, 58.586883544921875, 55.31685256958008, 53.37136459350586, 51.54607009887695, 51.083370208740234, 49.298133850097656, 90.33889770507812, 82.10340118408203, 464.2408447265625, 86.07686614990234, 85.17960357666016, 288.68731689453125, 284.4806213378906, 102.73600006103516, 70.07939147949219, 90.60619354248047, 434.57733154296875, 385.7860107421875, 388.1175537109375, 259.1437072753906, 190.95233154296875, 176.58934020996094, 170.2021484375, 167.83604431152344, 167.3509063720703, 166.03311157226562, 142.9845428466797, 61.3076057434082, 52.76736068725586, 36.44892501831055, 29.90311622619629, 28.975711822509766, 26.626306533813477, 21.52838897705078, 20.71310806274414, 21.121931076049805, 19.75282859802246, 18.038776397705078, 16.044395446777344, 15.76880931854248, 15.627617835998535, 15.067240715026855, 14.428693771362305, 14.320230484008789, 13.66430377960205, 13.419718742370605, 13.735252380371094, 241.02059936523438, 244.31582641601562, 507.81732177734375, 221.48809814453125, 33.96196746826172, 38.59307098388672, 42.95927429199219, 24.451549530029297, 23.32584571838379, 27.58282470703125, 22.030162811279297, 22.494077682495117, 22.020917892456055, 233.26882934570312, 166.66867065429688, 165.68035888671875, 164.34158325195312, 156.07191467285156, 151.35739135742188, 151.1337890625, 150.70668029785156, 150.52532958984375, 150.07943725585938, 149.6933135986328, 149.34426879882812, 148.15940856933594, 148.15940856933594, 36.866207122802734, 34.48778533935547, 27.539215087890625, 25.97760009765625, 23.503122329711914, 22.81249237060547, 17.23316192626953, 16.539608001708984, 15.799213409423828, 15.163786888122559, 14.75995922088623, 14.142333984375, 13.22986888885498, 14.498577117919922, 14.26638412475586, 12.041046142578125, 12.606884002685547, 34.88724136352539, 17.498964309692383, 22.943063735961914, 17.33450698852539, 14.907501220703125, 165.73092651367188, 163.1474151611328, 162.60012817382812, 160.7835235595703, 160.03614807128906, 154.59910583496094, 154.53738403320312, 154.1350555419922, 154.1350555419922, 154.1350555419922, 154.1350555419922, 36.526405334472656, 27.457395553588867, 25.30779457092285, 18.269826889038086, 17.100601196289062, 15.358262062072754, 15.244709014892578, 14.54150104522705, 13.95276165008545, 12.510866165161133, 12.202013969421387, 11.677433013916016, 11.448395729064941, 11.249068260192871, 10.852428436279297, 10.788269996643066, 10.475515365600586, 10.553938865661621, 10.261136054992676, 268.39080810546875, 14.774370193481445, 16.88239288330078, 21.627408981323242, 19.331716537475586, 15.58085823059082, 14.03291130065918, 13.009852409362793], \"Term\": [\"knife\", \"police\", \"attack\", \"British\", \"people\", \"terrorists\", \"incident\", \"today\", \"attacker\", \"poor\", \"choice\", \"sense\", \"man\", \"system\", \"training\", \"common\", \"risk\", \"hate\", \"tips\", \"online\", \"yo\", \"star\", \"music\", \"cust\", \"heart\", \"street\", \"public\", \"\", \"sympathies\", \"intention\", \"today\", \"\", \"public\", \"brave\", \"lives\", \"vest\", \"innocent\", \"members\", \"safe\", \"bravery\", \"thoughts\", \"fake\", \"services\", \"officers\", \"day\", \"heroes\", \"hero\", \"good\", \"proud\", \"way\", \"real\", \"bomb\", \"armed\", \"sad\", \"emergency\", \"great\", \"Thoughts\", \"job\", \"civilians\", \"scum\", \"world\", \"families\", \"people\", \"victims\", \"life\", \"terrorist\", \"police\", \"dead\", \"guy\", \"man\", \"knife\", \"British\", \"attack\", \"incident\", \"heart\", \"capital\", \"major\", \"lesson\", \"location\", \"global\", \"terror\", \"prison\", \"suicide\", \"election\", \"officer\", \"tag\", \"Terrorist\", \"shot\", \"scene\", \"big\", \"government\", \"licence\", \"stabbing\", \"offences\", \"fire\", \"tusk\", \"sorry\", \"lot\", \"hands\", \"hell\", \"statement\", \"attacker\", \"man\", \"police\", \"terrorist\", \"terrorism\", \"time\", \"dead\", \"years\", \"right\", \"suspect\", \"video\", \"Police\", \"guy\", \"terrorists\", \"system\", \"risk\", \"hate\", \"street\", \"sympathies\", \"intention\", \"division\", \"son\", \"Sorry\", \"judicial\", \"dad\", \"End\", \"EVERYONE\", \"religion\", \"yesterday\", \"person\", \"wrong\", \"place\", \"friends\", \"free\", \"ones\", \"Pakistani\", \"origin\", \"money\", \"Today\", \"new\", \"safety\", \"kind\", \"game\", \"Terror\", \"attacks\", \"days\", \"family\", \"sure\", \"terrorism\", \"poor\", \"choice\", \"sense\", \"training\", \"common\", \"tips\", \"online\", \"cust\", \"music\", \"star\", \"yo\", \"prayers\", \"political\", \"year\", \"tonight\", \"rights\", \"justice\", \"jail\", \"tragedy\", \"fuck\", \"laws\", \"problem\", \"violence\", \"Muslim\", \"moment\", \"second\", \"question\", \"chance\", \"Terrorism\", \"criminals\", \"people\", \"death\", \"gun\", \"country\", \"time\", \"terrorism\", \"attacks\", \"life\"], \"Total\": [435.0, 792.0, 388.0, 386.0, 732.0, 233.0, 259.0, 355.0, 273.0, 166.0, 163.0, 163.0, 335.0, 167.0, 161.0, 160.0, 166.0, 164.0, 155.0, 155.0, 154.0, 154.0, 154.0, 154.0, 191.0, 156.0, 301.0, 298.0, 151.0, 151.0, 355.08270263671875, 298.9581604003906, 301.18798828125, 150.9915313720703, 136.79786682128906, 138.02357482910156, 132.79603576660156, 126.50104522705078, 123.63481903076172, 104.16878509521484, 104.55755615234375, 91.64933776855469, 83.26335906982422, 82.97190856933594, 82.59041595458984, 79.1344985961914, 80.01695251464844, 73.93109130859375, 67.21475219726562, 68.6480941772461, 67.20279693603516, 64.01617431640625, 61.245216369628906, 60.92085266113281, 59.04621124267578, 55.78307342529297, 53.85051345825195, 52.00892639160156, 51.5442008972168, 49.7636833190918, 97.90377807617188, 89.50952911376953, 732.9501953125, 98.50668334960938, 98.50688934326172, 510.48486328125, 792.5967407226562, 145.99598693847656, 92.41049194335938, 335.2228088378906, 435.1544494628906, 386.3640441894531, 388.7030029296875, 259.72686767578125, 191.52906799316406, 177.16580200195312, 170.7710723876953, 168.40541076660156, 167.9198760986328, 166.60195922851562, 143.5740966796875, 61.90523910522461, 53.39775848388672, 37.03630828857422, 30.503576278686523, 29.561134338378906, 27.22378921508789, 22.12183952331543, 21.297855377197266, 21.727081298828125, 20.369747161865234, 18.637903213500977, 16.631013870239258, 16.347412109375, 16.226730346679688, 15.656572341918945, 15.031312942504883, 14.92884349822998, 14.252607345581055, 14.02066421508789, 14.352118492126465, 273.9811096191406, 335.2228088378906, 792.5967407226562, 510.48486328125, 64.7486343383789, 108.17037963867188, 145.99598693847656, 44.971824645996094, 41.35218811035156, 75.444580078125, 36.37591552734375, 68.5989761352539, 92.41049194335938, 233.86727905273438, 167.25784301757812, 166.27047729492188, 164.93179321289062, 156.65940856933594, 151.94229125976562, 151.71827697753906, 151.29177856445312, 151.11058044433594, 150.66436767578125, 150.27731323242188, 149.92813110351562, 148.74307250976562, 148.74307250976562, 37.465023040771484, 35.09747314453125, 28.168811798095703, 26.607074737548828, 24.12151336669922, 23.4572696685791, 17.837268829345703, 17.165130615234375, 16.4040584564209, 15.764490127563477, 15.370699882507324, 14.750344276428223, 13.842660903930664, 15.17622184753418, 14.939213752746582, 12.642077445983887, 13.236539840698242, 49.38446807861328, 21.214618682861328, 57.75054168701172, 27.079452514648438, 64.7486343383789, 166.31166076660156, 163.72842407226562, 163.1809844970703, 161.3631591796875, 160.6153564453125, 155.1769561767578, 155.115234375, 154.71290588378906, 154.71290588378906, 154.71290588378906, 154.71290588378906, 37.13291931152344, 28.05385971069336, 25.91136932373047, 18.888225555419922, 17.7022647857666, 15.979994773864746, 15.862113952636719, 15.158852577209473, 14.57405948638916, 13.107366561889648, 12.796370506286621, 12.280411720275879, 12.043549537658691, 11.857185363769531, 11.459919929504395, 11.403602600097656, 11.074627876281738, 11.1597261428833, 10.863974571228027, 732.9501953125, 21.660566329956055, 32.489898681640625, 92.9627685546875, 108.17037963867188, 64.7486343383789, 49.38446807861328, 98.50688934326172], \"loglift\": [30.0, 29.0, 28.0, 27.0, 26.0, 25.0, 24.0, 23.0, 22.0, 21.0, 20.0, 19.0, 18.0, 17.0, 16.0, 15.0, 14.0, 13.0, 12.0, 11.0, 10.0, 9.0, 8.0, 7.0, 6.0, 5.0, 4.0, 3.0, 2.0, 1.0, 0.8924999833106995, 0.892300009727478, 0.892300009727478, 0.8907999992370605, 0.8903999924659729, 0.8903999924659729, 0.8902999758720398, 0.8902000188827515, 0.8901000022888184, 0.8894000053405762, 0.8894000053405762, 0.888700008392334, 0.8883000016212463, 0.8881999850273132, 0.8881000280380249, 0.8880000114440918, 0.8880000114440918, 0.887499988079071, 0.886900007724762, 0.886900007724762, 0.8866999745368958, 0.8865000009536743, 0.8862000107765198, 0.8862000107765198, 0.8859999775886536, 0.8853999972343445, 0.8848999738693237, 0.8848999738693237, 0.8848000168800354, 0.8844000101089478, 0.8133999705314636, 0.8075000047683716, 0.43720000982284546, 0.758899986743927, 0.7484999895095825, 0.3237999975681305, -0.13079999387264252, 0.5424000024795532, 0.6172000169754028, -0.41440001130104065, 1.4215999841690063, 1.4213999509811401, 1.4213999509811401, 1.420699954032898, 1.4198999404907227, 1.419700026512146, 1.419600009918213, 1.419600009918213, 1.419600009918213, 1.4194999933242798, 1.4187999963760376, 1.4132000207901, 1.4111000299453735, 1.406999945640564, 1.4031000137329102, 1.402899980545044, 1.4007999897003174, 1.395799994468689, 1.3950999975204468, 1.394700050354004, 1.392199993133545, 1.3903000354766846, 1.3869999647140503, 1.3868999481201172, 1.3853000402450562, 1.384600043296814, 1.3819999694824219, 1.3812999725341797, 1.3808000087738037, 1.37909996509552, 1.378999948501587, 1.294800043106079, 1.106600046157837, 0.9778000116348267, 0.5879999995231628, 0.7777000069618225, 0.392300009727478, 0.1995999962091446, 0.8136000037193298, 0.8503999710083008, 0.41670000553131104, 0.921500027179718, 0.30790001153945923, -0.011300000362098217, 1.7115000486373901, 1.7105000019073486, 1.7105000019073486, 1.7103999853134155, 1.7102999687194824, 1.7101999521255493, 1.7101999521255493, 1.7101000547409058, 1.7101000547409058, 1.7101000547409058, 1.7101000547409058, 1.7101000547409058, 1.7101000547409058, 1.7101000547409058, 1.6979000568389893, 1.6964999437332153, 1.6914000511169434, 1.6900999546051025, 1.688099980354309, 1.6861000061035156, 1.6796000003814697, 1.676900029182434, 1.6764999628067017, 1.6751999855041504, 1.6734999418258667, 1.6719000339508057, 1.6686999797821045, 1.6683000326156616, 1.6678999662399292, 1.6653000116348267, 1.6653000116348267, 1.3665000200271606, 1.5214999914169312, 0.7908999919891357, 1.267899990081787, 0.24539999663829803, 1.7697999477386475, 1.7697999477386475, 1.769700050354004, 1.769700050354004, 1.769700050354004, 1.7696000337600708, 1.7696000337600708, 1.7696000337600708, 1.7696000337600708, 1.7696000337600708, 1.7696000337600708, 1.7568000555038452, 1.7517999410629272, 1.7496999502182007, 1.7400000095367432, 1.738700032234192, 1.7336000204086304, 1.7336000204086304, 1.7316999435424805, 1.729699969291687, 1.726699948310852, 1.7257000207901, 1.7230000495910645, 1.722599983215332, 1.7207000255584717, 1.7187999486923218, 1.7178000211715698, 1.7177000045776367, 1.7174999713897705, 1.7161999940872192, 0.7687000036239624, 1.3906999826431274, 1.1187000274658203, 0.3151000142097473, 0.05130000039935112, 0.34880000352859497, 0.5151000022888184, -0.25110000371932983], \"logprob\": [30.0, 29.0, 28.0, 27.0, 26.0, 25.0, 24.0, 23.0, 22.0, 21.0, 20.0, 19.0, 18.0, 17.0, 16.0, 15.0, 14.0, 13.0, 12.0, 11.0, 10.0, 9.0, 8.0, 7.0, 6.0, 5.0, 4.0, 3.0, 2.0, 1.0, -3.53410005569458, -3.7063000202178955, -3.698899984359741, -4.390900135040283, -4.489999771118164, -4.481100082397461, -4.519800186157227, -4.56850004196167, -4.5914998054504395, -4.763500213623047, -4.759799957275391, -4.892199993133545, -4.988699913024902, -4.992300033569336, -4.9969000816345215, -5.03980016708374, -5.02869987487793, -5.10830020904541, -5.204100131988525, -5.183000087738037, -5.204500198364258, -5.253300189971924, -5.297800064086914, -5.303199768066406, -5.33459997177124, -5.392000198364258, -5.427800178527832, -5.462600231170654, -5.47160005569458, -5.507199764251709, -4.901500225067139, -4.997099876403809, -3.264699935913086, -4.949900150299072, -4.960299968719482, -3.739799976348877, -3.7544000148773193, -4.772900104522705, -5.1554999351501465, -4.898600101470947, -2.8015999794006348, -2.9207000732421875, -2.9147000312805176, -3.3185999393463135, -3.624000072479248, -3.702199935913086, -3.739000082015991, -3.753000020980835, -3.7558999061584473, -3.7637999057769775, -3.913300037384033, -4.7600998878479, -4.910099983215332, -5.280099868774414, -5.478000164031982, -5.509500026702881, -5.594099998474121, -5.806600093841553, -5.845200061798096, -5.825699806213379, -5.8927001953125, -5.983500003814697, -6.100599765777588, -6.118000030517578, -6.1269001960754395, -6.16349983215332, -6.2067999839782715, -6.214300155639648, -6.261199951171875, -6.279300212860107, -6.25600004196167, -3.3910999298095703, -3.377500057220459, -2.645900011062622, -3.475600004196167, -5.3506999015808105, -5.222899913787842, -5.115699768066406, -5.679299831390381, -5.726399898529053, -5.558800220489502, -5.783599853515625, -5.762700080871582, -5.783999919891357, -3.132699966430664, -3.468899965286255, -3.474900007247925, -3.4830000400543213, -3.534600019454956, -3.5652999877929688, -3.566699981689453, -3.5696001052856445, -3.5708000659942627, -3.573699951171875, -3.5762999057769775, -3.578700065612793, -3.5866000652313232, -3.5866000652313232, -4.97760009765625, -5.044300079345703, -5.2692999839782715, -5.327700138092041, -5.427800178527832, -5.457600116729736, -5.738100051879883, -5.779200077056885, -5.824999809265137, -5.866000175476074, -5.89300012588501, -5.935699939727783, -6.002399921417236, -5.910900115966797, -5.927000045776367, -6.09660005569458, -6.0507001876831055, -5.032800197601318, -5.722799777984619, -5.451900005340576, -5.7322001457214355, -5.882999897003174, -3.415299892425537, -3.430999994277954, -3.434299945831299, -3.4456000328063965, -3.450200080871582, -3.484800100326538, -3.4851999282836914, -3.487799882888794, -3.487799882888794, -3.487799882888794, -3.487799882888794, -4.927599906921387, -5.2129998207092285, -5.29449987411499, -5.6203999519348145, -5.686500072479248, -5.794000148773193, -5.801400184631348, -5.848599910736084, -5.889900207519531, -5.999000072479248, -6.02400016784668, -6.067999839782715, -6.087800025939941, -6.105299949645996, -6.141200065612793, -6.147200107574463, -6.176599979400635, -6.169099807739258, -6.197299957275391, -2.933199882507324, -5.832699775695801, -5.699399948120117, -5.451700210571289, -5.563899993896484, -5.779600143432617, -5.884200096130371, -5.95989990234375]}, \"token.table\": {\"Topic\": [1, 2, 3, 3, 4, 3, 1, 2, 3, 3, 4, 2, 1, 3, 1, 2, 1, 2, 3, 4, 2, 1, 1, 1, 2, 4, 4, 1, 4, 1, 3, 4, 4, 4, 3, 1, 3, 4, 1, 2, 3, 4, 3, 2, 1, 1, 1, 4, 1, 3, 2, 3, 3, 4, 3, 2, 1, 2, 1, 1, 4, 1, 2, 2, 3, 2, 2, 1, 1, 2, 1, 3, 4, 1, 3, 4, 3, 2, 4, 2, 2, 1, 4, 1, 2, 2, 2, 1, 2, 1, 4, 3, 4, 3, 2, 2, 1, 3, 4, 3, 1, 4, 3, 3, 1, 2, 4, 4, 4, 2, 4, 1, 1, 4, 1, 3, 2, 3, 4, 4, 3, 1, 1, 3, 2, 1, 4, 4, 1, 2, 3, 2, 2, 4, 2, 3, 2, 1, 3, 1, 2, 3, 3, 2, 2, 2, 3, 4, 1, 2, 3, 1, 1, 2, 4, 4, 1, 4, 4, 4, 2, 1, 1, 4, 1, 2, 4, 1, 1, 3, 3, 4, 1, 2, 3, 4], \"Freq\": [1.0001399517059326, 0.9990577697753906, 0.9950042963027954, 0.9950042963027954, 0.9133520126342773, 0.9753683805465698, 0.6705639362335205, 0.32070448994636536, 0.9955903887748718, 0.9821298122406006, 0.985687255859375, 0.991779625415802, 0.9842060208320618, 0.9491304159164429, 0.9959961771965027, 0.9981914162635803, 0.12044625729322433, 0.8796226978302002, 0.708724856376648, 0.2834899425506592, 0.9665356874465942, 0.9997473359107971, 1.0000560283660889, 0.9983797073364258, 0.9990641474723816, 0.9029648900032043, 0.9955510497093201, 0.9894420504570007, 0.9961687326431274, 0.6669336557388306, 0.09681294858455658, 0.2366538792848587, 0.9204734563827515, 0.9953920841217041, 0.9938095211982727, 0.9928512573242188, 0.8013342022895813, 0.1414119154214859, 0.7054988145828247, 0.29452863335609436, 0.2770010530948639, 0.6925026774406433, 0.9980714321136475, 0.9720191359519958, 0.9992173910140991, 0.9929149746894836, 0.9161036014556885, 0.0782039612531662, 0.5887390375137329, 0.39826467633247375, 0.9860273599624634, 0.9530606865882874, 0.9805062413215637, 0.9606108665466309, 0.949211061000824, 0.9963868260383606, 0.9874059557914734, 0.9818482398986816, 0.9859621524810791, 0.46168196201324463, 0.5232395529747009, 0.7574897408485413, 0.23806820809841156, 0.982276439666748, 0.9943504333496094, 0.9972376823425293, 0.9272028803825378, 0.9997881650924683, 0.9983003735542297, 0.9972014427185059, 0.994005560874939, 0.9952657222747803, 0.9456495046615601, 0.9998283386230469, 0.9981546401977539, 0.9386736750602722, 0.9371309876441956, 0.9996450543403625, 0.9918087124824524, 0.9975926280021667, 0.96577388048172, 0.8628838062286377, 0.13197046518325806, 0.9941675662994385, 0.9945219159126282, 0.9377819299697876, 0.9954847693443298, 0.27146124839782715, 0.7278741002082825, 0.9960392117500305, 0.9277074933052063, 0.9758827090263367, 0.9953920841217041, 0.9391257762908936, 0.9787482023239136, 0.9834912419319153, 1.0003385543823242, 0.9903798699378967, 0.9992570877075195, 0.9515055418014526, 0.6330580115318298, 0.3656455874443054, 0.9940071105957031, 0.9949624538421631, 0.3583158850669861, 0.640931248664856, 0.9624344110488892, 0.9981260299682617, 0.9964204430580139, 0.9853770136833191, 0.937765896320343, 0.9968050122261047, 0.9993758201599121, 0.9646074771881104, 0.9969823360443115, 0.9875878095626831, 0.5561978816986084, 0.1450951099395752, 0.2901902198791504, 0.9603291153907776, 0.99837327003479, 0.9848844408988953, 0.994865357875824, 0.9224957227706909, 0.9860147833824158, 0.9846538305282593, 0.9598671197891235, 0.9988908767700195, 0.9968370199203491, 0.9944923520088196, 0.9992682337760925, 0.9313890337944031, 0.9620580077171326, 0.9953920841217041, 0.9754657745361328, 0.9957908391952515, 0.9925510287284851, 0.3323553204536438, 0.6277822852134705, 0.636228621006012, 0.37113335728645325, 0.9937983751296997, 0.9984583854675293, 0.9810178279876709, 0.9960013628005981, 0.5251076221466064, 0.23166511952877045, 0.24710945785045624, 0.5661284327507019, 0.43292173743247986, 0.9962915778160095, 0.9946674704551697, 0.4622337520122528, 0.36054232716560364, 0.17564882338047028, 0.9988596439361572, 0.9997670650482178, 0.9529746174812317, 0.989520788192749, 0.9977494478225708, 0.958064079284668, 0.9998291730880737, 0.8730372190475464, 0.1218191459774971, 0.3848700523376465, 0.6047957539558411, 0.977165937423706, 0.9905591607093811, 0.9192699193954468, 0.07149877399206161, 0.9771836996078491, 0.9648274183273315, 0.44472289085388184, 0.5336674451828003, 0.9687306880950928, 0.9953920841217041], \"Term\": [\"\", \"British\", \"EVERYONE\", \"End\", \"Muslim\", \"Pakistani\", \"Police\", \"Police\", \"Sorry\", \"Terror\", \"Terrorism\", \"Terrorist\", \"Thoughts\", \"Today\", \"armed\", \"attack\", \"attacker\", \"attacker\", \"attacks\", \"attacks\", \"big\", \"bomb\", \"brave\", \"bravery\", \"capital\", \"chance\", \"choice\", \"civilians\", \"common\", \"country\", \"country\", \"country\", \"criminals\", \"cust\", \"dad\", \"day\", \"days\", \"days\", \"dead\", \"dead\", \"death\", \"death\", \"division\", \"election\", \"emergency\", \"fake\", \"families\", \"families\", \"family\", \"family\", \"fire\", \"free\", \"friends\", \"fuck\", \"game\", \"global\", \"good\", \"government\", \"great\", \"gun\", \"gun\", \"guy\", \"guy\", \"hands\", \"hate\", \"heart\", \"hell\", \"hero\", \"heroes\", \"incident\", \"innocent\", \"intention\", \"jail\", \"job\", \"judicial\", \"justice\", \"kind\", \"knife\", \"laws\", \"lesson\", \"licence\", \"life\", \"life\", \"lives\", \"location\", \"lot\", \"major\", \"man\", \"man\", \"members\", \"moment\", \"money\", \"music\", \"new\", \"offences\", \"officer\", \"officers\", \"ones\", \"online\", \"origin\", \"people\", \"people\", \"person\", \"place\", \"police\", \"police\", \"political\", \"poor\", \"prayers\", \"prison\", \"problem\", \"proud\", \"public\", \"question\", \"real\", \"religion\", \"right\", \"right\", \"right\", \"rights\", \"risk\", \"sad\", \"safe\", \"safety\", \"scene\", \"scum\", \"second\", \"sense\", \"services\", \"shot\", \"son\", \"sorry\", \"stabbing\", \"star\", \"statement\", \"street\", \"suicide\", \"sure\", \"sure\", \"suspect\", \"suspect\", \"sympathies\", \"system\", \"tag\", \"terror\", \"terrorism\", \"terrorism\", \"terrorism\", \"terrorist\", \"terrorist\", \"terrorists\", \"thoughts\", \"time\", \"time\", \"time\", \"tips\", \"today\", \"tonight\", \"tragedy\", \"training\", \"tusk\", \"vest\", \"victims\", \"victims\", \"video\", \"video\", \"violence\", \"way\", \"world\", \"world\", \"wrong\", \"year\", \"years\", \"years\", \"yesterday\", \"yo\"]}, \"R\": 30, \"lambda.step\": 0.01, \"plot.opts\": {\"xlab\": \"PC1\", \"ylab\": \"PC2\"}, \"topic.order\": [2, 1, 3, 4]};\n",
       "\n",
       "function LDAvis_load_lib(url, callback){\n",
       "  var s = document.createElement('script');\n",
       "  s.src = url;\n",
       "  s.async = true;\n",
       "  s.onreadystatechange = s.onload = callback;\n",
       "  s.onerror = function(){console.warn(\"failed to load library \" + url);};\n",
       "  document.getElementsByTagName(\"head\")[0].appendChild(s);\n",
       "}\n",
       "\n",
       "if(typeof(LDAvis) !== \"undefined\"){\n",
       "   // already loaded: just create the visualization\n",
       "   !function(LDAvis){\n",
       "       new LDAvis(\"#\" + \"ldavis_el630027287840292804813698366\", ldavis_el630027287840292804813698366_data);\n",
       "   }(LDAvis);\n",
       "}else if(typeof define === \"function\" && define.amd){\n",
       "   // require.js is available: use it to load d3/LDAvis\n",
       "   require.config({paths: {d3: \"https://cdnjs.cloudflare.com/ajax/libs/d3/3.5.5/d3.min\"}});\n",
       "   require([\"d3\"], function(d3){\n",
       "      window.d3 = d3;\n",
       "      LDAvis_load_lib(\"https://cdn.rawgit.com/bmabey/pyLDAvis/files/ldavis.v1.0.0.js\", function(){\n",
       "        new LDAvis(\"#\" + \"ldavis_el630027287840292804813698366\", ldavis_el630027287840292804813698366_data);\n",
       "      });\n",
       "    });\n",
       "}else{\n",
       "    // require.js not available: dynamically load d3 & LDAvis\n",
       "    LDAvis_load_lib(\"https://cdnjs.cloudflare.com/ajax/libs/d3/3.5.5/d3.min.js\", function(){\n",
       "         LDAvis_load_lib(\"https://cdn.rawgit.com/bmabey/pyLDAvis/files/ldavis.v1.0.0.js\", function(){\n",
       "                 new LDAvis(\"#\" + \"ldavis_el630027287840292804813698366\", ldavis_el630027287840292804813698366_data);\n",
       "            })\n",
       "         });\n",
       "}\n",
       "</script>"
      ],
      "text/plain": [
       "PreparedData(topic_coordinates=              x         y  topics  cluster       Freq\n",
       "topic                                                \n",
       "1     -0.101735  0.106801  1       1        40.908695\n",
       "0     -0.259167 -0.121495  2       1        24.100294\n",
       "2      0.233490 -0.212052  3       1        18.013985\n",
       "3      0.127412  0.226745  4       1        16.977028, topic_info=     Category        Freq        Term       Total  loglift  logprob\n",
       "29    Default  435.000000  knife       435.000000  30.0000  30.0000\n",
       "32    Default  792.000000  police      792.000000  29.0000  29.0000\n",
       "226   Default  388.000000  attack      388.000000  28.0000  28.0000\n",
       "327   Default  386.000000  British     386.000000  27.0000  27.0000\n",
       "13    Default  732.000000  people      732.000000  26.0000  26.0000\n",
       "550   Default  233.000000  terrorists  233.000000  25.0000  25.0000\n",
       "14    Default  259.000000  incident    259.000000  24.0000  24.0000\n",
       "45    Default  355.000000  today       355.000000  23.0000  23.0000\n",
       "139   Default  273.000000  attacker    273.000000  22.0000  22.0000\n",
       "1084  Default  166.000000  poor        166.000000  21.0000  21.0000\n",
       "1587  Default  163.000000  choice      163.000000  20.0000  20.0000\n",
       "1327  Default  163.000000  sense       163.000000  19.0000  19.0000\n",
       "30    Default  335.000000  man         335.000000  18.0000  18.0000\n",
       "713   Default  167.000000  system      167.000000  17.0000  17.0000\n",
       "3019  Default  161.000000  training    161.000000  16.0000  16.0000\n",
       "349   Default  160.000000  common      160.000000  15.0000  15.0000\n",
       "269   Default  166.000000  risk        166.000000  14.0000  14.0000\n",
       "418   Default  164.000000  hate        164.000000  13.0000  13.0000\n",
       "3505  Default  155.000000  tips        155.000000  12.0000  12.0000\n",
       "2890  Default  155.000000  online      155.000000  11.0000  11.0000\n",
       "5383  Default  154.000000  yo          154.000000  10.0000  10.0000\n",
       "5382  Default  154.000000  star        154.000000  9.0000   9.0000 \n",
       "5381  Default  154.000000  music       154.000000  8.0000   8.0000 \n",
       "5380  Default  154.000000  cust        154.000000  7.0000   7.0000 \n",
       "313   Default  191.000000  heart       191.000000  6.0000   6.0000 \n",
       "805   Default  156.000000  street      156.000000  5.0000   5.0000 \n",
       "66    Default  301.000000  public      301.000000  4.0000   4.0000 \n",
       "18    Default  298.000000              298.000000  3.0000   3.0000 \n",
       "3232  Default  151.000000  sympathies  151.000000  2.0000   2.0000 \n",
       "1264  Default  151.000000  intention   151.000000  1.0000   1.0000 \n",
       "...       ...         ...        ...          ...     ...      ... \n",
       "5381  Topic4   154.135056  music       154.712906  1.7696  -3.4878 \n",
       "5382  Topic4   154.135056  star        154.712906  1.7696  -3.4878 \n",
       "5383  Topic4   154.135056  yo          154.712906  1.7696  -3.4878 \n",
       "193   Topic4   36.526405   prayers     37.132919   1.7568  -4.9276 \n",
       "491   Topic4   27.457396   political   28.053860   1.7518  -5.2130 \n",
       "124   Topic4   25.307795   year        25.911369   1.7497  -5.2945 \n",
       "216   Topic4   18.269827   tonight     18.888226   1.7400  -5.6204 \n",
       "1373  Topic4   17.100601   rights      17.702265   1.7387  -5.6865 \n",
       "2194  Topic4   15.358262   justice     15.979995   1.7336  -5.7940 \n",
       "1726  Topic4   15.244709   jail        15.862114   1.7336  -5.8014 \n",
       "643   Topic4   14.541501   tragedy     15.158853   1.7317  -5.8486 \n",
       "797   Topic4   13.952762   fuck        14.574059   1.7297  -5.8899 \n",
       "1961  Topic4   12.510866   laws        13.107367   1.7267  -5.9990 \n",
       "972   Topic4   12.202014   problem     12.796371   1.7257  -6.0240 \n",
       "1474  Topic4   11.677433   violence    12.280412   1.7230  -6.0680 \n",
       "1525  Topic4   11.448396   Muslim      12.043550   1.7226  -6.0878 \n",
       "203   Topic4   11.249068   moment      11.857185   1.7207  -6.1053 \n",
       "348   Topic4   10.852428   second      11.459920   1.7188  -6.1412 \n",
       "1131  Topic4   10.788270   question    11.403603   1.7178  -6.1472 \n",
       "887   Topic4   10.475515   chance      11.074628   1.7177  -6.1766 \n",
       "1094  Topic4   10.553939   Terrorism   11.159726   1.7175  -6.1691 \n",
       "2008  Topic4   10.261136   criminals   10.863975   1.7162  -6.1973 \n",
       "13    Topic4   268.390808  people      732.950195  0.7687  -2.9332 \n",
       "1010  Topic4   14.774370   death       21.660566   1.3907  -5.8327 \n",
       "239   Topic4   16.882393   gun         32.489899   1.1187  -5.6994 \n",
       "355   Topic4   21.627409   country     92.962769   0.3151  -5.4517 \n",
       "34    Topic4   19.331717   time        108.170380  0.0513  -5.5639 \n",
       "234   Topic4   15.580858   terrorism   64.748634   0.3488  -5.7796 \n",
       "211   Topic4   14.032911   attacks     49.384468   0.5151  -5.8842 \n",
       "219   Topic4   13.009852   life        98.506889  -0.2511  -5.9599 \n",
       "\n",
       "[188 rows x 6 columns], token_table=      Topic      Freq        Term\n",
       "term                             \n",
       "18    1      1.000140            \n",
       "327   2      0.999058  British   \n",
       "5384  3      0.995004  EVERYONE  \n",
       "5385  3      0.995004  End       \n",
       "1525  4      0.913352  Muslim    \n",
       "2657  3      0.975368  Pakistani \n",
       "145   1      0.670564  Police    \n",
       "145   2      0.320704  Police    \n",
       "3113  3      0.995590  Sorry     \n",
       "229   3      0.982130  Terror    \n",
       "1094  4      0.985687  Terrorism \n",
       "169   2      0.991780  Terrorist \n",
       "472   1      0.984206  Thoughts  \n",
       "876   3      0.949130  Today     \n",
       "40    1      0.995996  armed     \n",
       "226   2      0.998191  attack    \n",
       "139   1      0.120446  attacker  \n",
       "139   2      0.879623  attacker  \n",
       "211   3      0.708725  attacks   \n",
       "211   4      0.283490  attacks   \n",
       "459   2      0.966536  big       \n",
       "253   1      0.999747  bomb      \n",
       "135   1      1.000056  brave     \n",
       "258   1      0.998380  bravery   \n",
       "1244  2      0.999064  capital   \n",
       "887   4      0.902965  chance    \n",
       "1587  4      0.995551  choice    \n",
       "79    1      0.989442  civilians \n",
       "349   4      0.996169  common    \n",
       "355   1      0.666934  country   \n",
       "...  ..           ...     ...    \n",
       "234   3      0.231665  terrorism \n",
       "234   4      0.247109  terrorism \n",
       "36    1      0.566128  terrorist \n",
       "36    2      0.432922  terrorist \n",
       "550   3      0.996292  terrorists\n",
       "378   1      0.994667  thoughts  \n",
       "34    1      0.462234  time      \n",
       "34    2      0.360542  time      \n",
       "34    4      0.175649  time      \n",
       "3505  4      0.998860  tips      \n",
       "45    1      0.999767  today     \n",
       "216   4      0.952975  tonight   \n",
       "643   4      0.989521  tragedy   \n",
       "3019  4      0.997749  training  \n",
       "3548  2      0.958064  tusk      \n",
       "257   1      0.999829  vest      \n",
       "420   1      0.873037  victims   \n",
       "420   4      0.121819  victims   \n",
       "20    1      0.384870  video     \n",
       "20    2      0.604796  video     \n",
       "1474  4      0.977166  violence  \n",
       "527   1      0.990559  way       \n",
       "317   1      0.919270  world     \n",
       "317   3      0.071499  world     \n",
       "25    3      0.977184  wrong     \n",
       "124   4      0.964827  year      \n",
       "177   1      0.444723  years     \n",
       "177   2      0.533667  years     \n",
       "3189  3      0.968731  yesterday \n",
       "5383  4      0.995392  yo        \n",
       "\n",
       "[176 rows x 3 columns], R=30, lambda_step=0.01, plot_opts={'xlab': 'PC1', 'ylab': 'PC2'}, topic_order=[2, 1, 3, 4])"
      ]
     },
     "execution_count": 87,
     "metadata": {},
     "output_type": "execute_result"
    }
   ],
   "source": [
    "# Visualizing the topics\n",
    "pyLDAvis.enable_notebook()\n",
    "vis = pyLDAvis.gensim.prepare(lda_model, doc_term_matrix, dictionary)\n",
    "vis"
   ]
  },
  {
   "cell_type": "markdown",
   "metadata": {},
   "source": [
    "Defining a function to show the most dominant topic in each text"
   ]
  },
  {
   "cell_type": "code",
   "execution_count": 88,
   "metadata": {},
   "outputs": [
    {
     "data": {
      "text/html": [
       "<div>\n",
       "<style scoped>\n",
       "    .dataframe tbody tr th:only-of-type {\n",
       "        vertical-align: middle;\n",
       "    }\n",
       "\n",
       "    .dataframe tbody tr th {\n",
       "        vertical-align: top;\n",
       "    }\n",
       "\n",
       "    .dataframe thead th {\n",
       "        text-align: right;\n",
       "    }\n",
       "</style>\n",
       "<table border=\"1\" class=\"dataframe\">\n",
       "  <thead>\n",
       "    <tr style=\"text-align: right;\">\n",
       "      <th></th>\n",
       "      <th>Document_No</th>\n",
       "      <th>Dominant_Topic</th>\n",
       "      <th>Topic_Perc_Contrib</th>\n",
       "      <th>Keywords</th>\n",
       "      <th>Text</th>\n",
       "    </tr>\n",
       "  </thead>\n",
       "  <tbody>\n",
       "    <tr>\n",
       "      <th>0</th>\n",
       "      <td>0</td>\n",
       "      <td>1.0</td>\n",
       "      <td>0.5511</td>\n",
       "      <td>people, today, public, , terrorist, police, brave, vest, lives, innocent</td>\n",
       "      <td>reports gunfire londonbridge</td>\n",
       "    </tr>\n",
       "    <tr>\n",
       "      <th>1</th>\n",
       "      <td>1</td>\n",
       "      <td>0.0</td>\n",
       "      <td>0.6247</td>\n",
       "      <td>police, knife, attack, British, incident, man, attacker, terrorist, heart, capital</td>\n",
       "      <td>careful</td>\n",
       "    </tr>\n",
       "    <tr>\n",
       "      <th>2</th>\n",
       "      <td>2</td>\n",
       "      <td>1.0</td>\n",
       "      <td>0.5591</td>\n",
       "      <td>people, today, public, , terrorist, police, brave, vest, lives, innocent</td>\n",
       "      <td>Unconfirmed reports shooting</td>\n",
       "    </tr>\n",
       "    <tr>\n",
       "      <th>3</th>\n",
       "      <td>3</td>\n",
       "      <td>0.0</td>\n",
       "      <td>0.7466</td>\n",
       "      <td>police, knife, attack, British, incident, man, attacker, terrorist, heart, capital</td>\n",
       "      <td>Video eyewitness</td>\n",
       "    </tr>\n",
       "    <tr>\n",
       "      <th>4</th>\n",
       "      <td>4</td>\n",
       "      <td>2.0</td>\n",
       "      <td>0.7498</td>\n",
       "      <td>terrorists, system, risk, hate, street, sympathies, intention, division, son, Sorry</td>\n",
       "      <td>friendly reminder</td>\n",
       "    </tr>\n",
       "    <tr>\n",
       "      <th>5</th>\n",
       "      <td>5</td>\n",
       "      <td>1.0</td>\n",
       "      <td>0.6348</td>\n",
       "      <td>people, today, public, , terrorist, police, brave, vest, lives, innocent</td>\n",
       "      <td>news outlets people area</td>\n",
       "    </tr>\n",
       "    <tr>\n",
       "      <th>6</th>\n",
       "      <td>6</td>\n",
       "      <td>3.0</td>\n",
       "      <td>0.6167</td>\n",
       "      <td>people, poor, choice, sense, training, common, tips, online, yo, cust</td>\n",
       "      <td>incident reports live news</td>\n",
       "    </tr>\n",
       "    <tr>\n",
       "      <th>7</th>\n",
       "      <td>7</td>\n",
       "      <td>3.0</td>\n",
       "      <td>0.4181</td>\n",
       "      <td>people, poor, choice, sense, training, common, tips, online, yo, cust</td>\n",
       "      <td>More shooter</td>\n",
       "    </tr>\n",
       "    <tr>\n",
       "      <th>8</th>\n",
       "      <td>8</td>\n",
       "      <td>1.0</td>\n",
       "      <td>0.6250</td>\n",
       "      <td>people, today, public, , terrorist, police, brave, vest, lives, innocent</td>\n",
       "      <td></td>\n",
       "    </tr>\n",
       "    <tr>\n",
       "      <th>9</th>\n",
       "      <td>9</td>\n",
       "      <td>0.0</td>\n",
       "      <td>0.5164</td>\n",
       "      <td>police, knife, attack, British, incident, man, attacker, terrorist, heart, capital</td>\n",
       "      <td>news video market</td>\n",
       "    </tr>\n",
       "  </tbody>\n",
       "</table>\n",
       "</div>"
      ],
      "text/plain": [
       "   Document_No  Dominant_Topic  Topic_Perc_Contrib  \\\n",
       "0  0            1.0             0.5511               \n",
       "1  1            0.0             0.6247               \n",
       "2  2            1.0             0.5591               \n",
       "3  3            0.0             0.7466               \n",
       "4  4            2.0             0.7498               \n",
       "5  5            1.0             0.6348               \n",
       "6  6            3.0             0.6167               \n",
       "7  7            3.0             0.4181               \n",
       "8  8            1.0             0.6250               \n",
       "9  9            0.0             0.5164               \n",
       "\n",
       "                                                                              Keywords  \\\n",
       "0  people, today, public, , terrorist, police, brave, vest, lives, innocent              \n",
       "1  police, knife, attack, British, incident, man, attacker, terrorist, heart, capital    \n",
       "2  people, today, public, , terrorist, police, brave, vest, lives, innocent              \n",
       "3  police, knife, attack, British, incident, man, attacker, terrorist, heart, capital    \n",
       "4  terrorists, system, risk, hate, street, sympathies, intention, division, son, Sorry   \n",
       "5  people, today, public, , terrorist, police, brave, vest, lives, innocent              \n",
       "6  people, poor, choice, sense, training, common, tips, online, yo, cust                 \n",
       "7  people, poor, choice, sense, training, common, tips, online, yo, cust                 \n",
       "8  people, today, public, , terrorist, police, brave, vest, lives, innocent              \n",
       "9  police, knife, attack, British, incident, man, attacker, terrorist, heart, capital    \n",
       "\n",
       "                           Text  \n",
       "0  reports gunfire londonbridge  \n",
       "1  careful                       \n",
       "2  Unconfirmed reports shooting  \n",
       "3  Video eyewitness              \n",
       "4  friendly reminder             \n",
       "5  news outlets people area      \n",
       "6  incident reports live news    \n",
       "7  More shooter                  \n",
       "8                                \n",
       "9  news video market             "
      ]
     },
     "execution_count": 88,
     "metadata": {},
     "output_type": "execute_result"
    }
   ],
   "source": [
    "def format_topics_sentences(ldamodel, corpus, texts):\n",
    "    # Init output\n",
    "    sent_topics_df = pd.DataFrame()\n",
    "\n",
    "    # Get main topic in each document\n",
    "    for i, row in enumerate(ldamodel[corpus]):\n",
    "        \n",
    "        row = sorted(row, key=lambda x: (x[1]), reverse=True)\n",
    "        # Get the Dominant topic, Perc Contribution and Keywords for each document\n",
    "        for j, (topic_num, prop_topic) in enumerate(row):\n",
    "            if j == 0:  # => dominant topic\n",
    "                wp = ldamodel.show_topic(topic_num)\n",
    "                topic_keywords = \", \".join([word for word, prop in wp])\n",
    "                sent_topics_df = sent_topics_df.append(pd.Series([int(topic_num), round(prop_topic,4), topic_keywords]), ignore_index=True)\n",
    "            else:\n",
    "                break\n",
    "    sent_topics_df.columns = ['Dominant_Topic', 'Perc_Contribution', 'Topic_Keywords']\n",
    "\n",
    "    # Add original text to the end of the output\n",
    "    contents = pd.Series(texts)\n",
    "    sent_topics_df = pd.concat([sent_topics_df, contents], axis=1)\n",
    "    return(sent_topics_df)\n",
    "\n",
    "\n",
    "df_topic_sents_keywords = format_topics_sentences(ldamodel=lda_model, corpus=doc_term_matrix, texts=corpus)\n",
    "\n",
    "# Format\n",
    "df_dominant_topic = df_topic_sents_keywords.reset_index()\n",
    "df_dominant_topic.columns = ['Document_No', 'Dominant_Topic', 'Topic_Perc_Contrib', 'Keywords', 'Text']\n",
    "\n",
    "# Show\n",
    "df_dominant_topic.head(10)"
   ]
  },
  {
   "cell_type": "code",
   "execution_count": 89,
   "metadata": {},
   "outputs": [
    {
     "data": {
      "text/plain": [
       "-7.784976428996798"
      ]
     },
     "execution_count": 89,
     "metadata": {},
     "output_type": "execute_result"
    }
   ],
   "source": [
    "lda_model.log_perplexity(doc_term_matrix) "
   ]
  },
  {
   "cell_type": "markdown",
   "metadata": {},
   "source": [
    "Lower the perplexity, better the model"
   ]
  }
 ],
 "metadata": {
  "kernelspec": {
   "display_name": "Python 3",
   "language": "python",
   "name": "python3"
  },
  "language_info": {
   "codemirror_mode": {
    "name": "ipython",
    "version": 3
   },
   "file_extension": ".py",
   "mimetype": "text/x-python",
   "name": "python",
   "nbconvert_exporter": "python",
   "pygments_lexer": "ipython3",
   "version": "3.7.3"
  }
 },
 "nbformat": 4,
 "nbformat_minor": 2
}
